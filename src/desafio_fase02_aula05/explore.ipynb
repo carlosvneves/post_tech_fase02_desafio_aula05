{
 "cells": [
  {
   "cell_type": "code",
   "execution_count": 37,
   "metadata": {},
   "outputs": [],
   "source": [
    "# import libraries\n",
    "import pandas as pd \n",
    "import matplotlib.pyplot as plt \n",
    "import  numpy as np \n",
    "import plotly.express as px\n",
    "\n",
    "import plotly.graph_objects as go\n",
    "from plotly.subplots import make_subplots\n",
    "\n",
    "import warnings\n",
    "warnings.filterwarnings('ignore')\n",
    "from itables import show\n",
    "#from itables import init_notebook_mode\n",
    "#init_notebook_mode(all_interactive=True)\n",
    "from icecream import ic"
   ]
  },
  {
   "cell_type": "markdown",
   "metadata": {},
   "source": [
    "# Passo 1\n",
    "\n",
    "> Utilizando a biblioteca de manipulação de dados, o Pandas, realize o upload da base de dados no Python para iniciar as análises. Ainda utilizando as ferramentas do Pandas, realize análises estatísticas descritivas sobre os dados, explorando todas as variáveis do modelo: variáveis qualitativas e quantitativas."
   ]
  },
  {
   "cell_type": "code",
   "execution_count": 38,
   "metadata": {},
   "outputs": [
    {
     "name": "stdout",
     "output_type": "stream",
     "text": [
      "<class 'pandas.core.frame.DataFrame'>\n",
      "RangeIndex: 52 entries, 0 to 51\n",
      "Data columns (total 27 columns):\n",
      " #   Column                 Non-Null Count  Dtype  \n",
      "---  ------                 --------------  -----  \n",
      " 0   id                     52 non-null     int64  \n",
      " 1   brand                  52 non-null     object \n",
      " 2   model                  52 non-null     object \n",
      " 3   year                   52 non-null     int64  \n",
      " 4   miles                  52 non-null     int64  \n",
      " 5   city_mileage           52 non-null     int64  \n",
      " 6   highway_mileage        52 non-null     int64  \n",
      " 7   horsepower             52 non-null     int64  \n",
      " 8   torque                 52 non-null     int64  \n",
      " 9   engine_capacity_litre  52 non-null     float64\n",
      " 10  fuel_capacity          52 non-null     float64\n",
      " 11  num_cylinder           52 non-null     int64  \n",
      " 12  num_seat               52 non-null     int64  \n",
      " 13  num_owners             52 non-null     int64  \n",
      " 14  price                  52 non-null     int64  \n",
      " 15  link                   52 non-null     object \n",
      " 16  condition              1 non-null      float64\n",
      " 17  type                   52 non-null     object \n",
      " 18  doors                  52 non-null     int64  \n",
      " 19  wheel_drive            52 non-null     int64  \n",
      " 20  engine_type            52 non-null     object \n",
      " 21  speed_levels           51 non-null     float64\n",
      " 22  front_headroom         52 non-null     float64\n",
      " 23  front_legroom          52 non-null     float64\n",
      " 24  rear_headroom          52 non-null     float64\n",
      " 25  rear_legroom           52 non-null     float64\n",
      " 26  service_records        52 non-null     int64  \n",
      "dtypes: float64(8), int64(14), object(5)\n",
      "memory usage: 11.1+ KB\n"
     ]
    }
   ],
   "source": [
    "data: pd.DataFrame = pd.read_csv('../../data/cars.csv')\n",
    "data.info()"
   ]
  },
  {
   "cell_type": "code",
   "execution_count": 39,
   "metadata": {},
   "outputs": [
    {
     "name": "stdout",
     "output_type": "stream",
     "text": [
      "<class 'pandas.core.frame.DataFrame'>\n",
      "RangeIndex: 52 entries, 0 to 51\n",
      "Data columns (total 27 columns):\n",
      " #   Column                 Non-Null Count  Dtype   \n",
      "---  ------                 --------------  -----   \n",
      " 0   id                     52 non-null     int64   \n",
      " 1   brand                  52 non-null     category\n",
      " 2   model                  52 non-null     category\n",
      " 3   year                   52 non-null     int64   \n",
      " 4   miles                  52 non-null     int64   \n",
      " 5   city_mileage           52 non-null     int64   \n",
      " 6   highway_mileage        52 non-null     int64   \n",
      " 7   horsepower             52 non-null     int64   \n",
      " 8   torque                 52 non-null     int64   \n",
      " 9   engine_capacity_litre  52 non-null     float64 \n",
      " 10  fuel_capacity          52 non-null     float64 \n",
      " 11  num_cylinder           52 non-null     int64   \n",
      " 12  num_seat               52 non-null     int64   \n",
      " 13  num_owners             52 non-null     int64   \n",
      " 14  price                  52 non-null     int64   \n",
      " 15  link                   52 non-null     string  \n",
      " 16  condition              1 non-null      float64 \n",
      " 17  type                   52 non-null     category\n",
      " 18  doors                  52 non-null     int64   \n",
      " 19  wheel_drive            52 non-null     int64   \n",
      " 20  engine_type            52 non-null     category\n",
      " 21  speed_levels           51 non-null     float64 \n",
      " 22  front_headroom         52 non-null     float64 \n",
      " 23  front_legroom          52 non-null     float64 \n",
      " 24  rear_headroom          52 non-null     float64 \n",
      " 25  rear_legroom           52 non-null     float64 \n",
      " 26  service_records        52 non-null     int64   \n",
      "dtypes: category(4), float64(8), int64(14), string(1)\n",
      "memory usage: 10.8 KB\n"
     ]
    }
   ],
   "source": [
    "# modifica o tipo dos dados das colunas para melhor aproveitamento de memória e facilitar a análise\n",
    "data['brand'] = data['brand'].astype('category')\n",
    "data['model'] = data['model'].astype('category')\n",
    "data['type'] = data['type'].astype('category')\n",
    "data['engine_type'] = data['engine_type'].astype('category')\n",
    "data['link'] = data['link'].astype('string')\n",
    "data.info()"
   ]
  },
  {
   "cell_type": "code",
   "execution_count": 40,
   "metadata": {},
   "outputs": [
    {
     "data": {
      "text/html": [
       "<div class=\"itables\">\n",
       "<style>.itables table td {\n",
       "    text-overflow: ellipsis;\n",
       "    overflow: hidden;\n",
       "}\n",
       "\n",
       ".itables table th {\n",
       "    text-overflow: ellipsis;\n",
       "    overflow: hidden;\n",
       "}\n",
       "\n",
       ".itables thead input {\n",
       "    width: 100%;\n",
       "    padding: 3px;\n",
       "    box-sizing: border-box;\n",
       "}\n",
       "\n",
       ".itables tfoot input {\n",
       "    width: 100%;\n",
       "    padding: 3px;\n",
       "    box-sizing: border-box;\n",
       "}\n",
       "\n",
       ".itables { font-size: medium; }\n",
       "</style>\n",
       "<table id=\"itables_c55cd828_6df2_4bbc_ab2b_536d7a166ef3\" class=\"display nowrap\" data-quarto-disable-processing=\"true\" style=\"table-layout:auto;width:auto;margin:auto;caption-side:bottom\">\n",
       "<thead>\n",
       "    <tr style=\"text-align: right;\">\n",
       "      <th></th>\n",
       "      <th>0</th>\n",
       "    </tr>\n",
       "  </thead><tbody><tr><td>Loading... (need <a href=https://mwouts.github.io/itables/troubleshooting.html>help</a>?)</td></tr></tbody>\n",
       "\n",
       "</table>\n",
       "<script type=\"module\">\n",
       "    const dt = (await import(window._datatables_src_for_itables_1_7_0)).default;\n",
       "    dt($);\n",
       "\n",
       "    $(document).ready(function () {\n",
       "        document.querySelectorAll(\"#itables_c55cd828_6df2_4bbc_ab2b_536d7a166ef3:not(.dataTable)\").forEach(table => {\n",
       "            // Define the table data\n",
       "            const data = [[\"id\", 0], [\"brand\", 0], [\"model\", 0], [\"year\", 0], [\"miles\", 0], [\"city_mileage\", 0], [\"highway_mileage\", 0], [\"horsepower\", 0], [\"torque\", 0], [\"engine_capacity_litre\", 0], [\"fuel_capacity\", 0], [\"num_cylinder\", 0], [\"num_seat\", 0], [\"num_owners\", 0], [\"price\", 0], [\"link\", 0], [\"condition\", 51], [\"type\", 0], [\"doors\", 0], [\"wheel_drive\", 0], [\"engine_type\", 0], [\"speed_levels\", 1], [\"front_headroom\", 0], [\"front_legroom\", 0], [\"rear_headroom\", 0], [\"rear_legroom\", 0], [\"service_records\", 0]];\n",
       "\n",
       "            // Define the dt_args\n",
       "            let dt_args = {\"order\": []};\n",
       "            dt_args[\"data\"] = data;\n",
       "\n",
       "            \n",
       "            new $.fn.dataTable(table, dt_args);\n",
       "        });\n",
       "    });\n",
       "</script>\n",
       "</div>\n"
      ],
      "text/plain": [
       "id                        0\n",
       "brand                     0\n",
       "model                     0\n",
       "year                      0\n",
       "miles                     0\n",
       "city_mileage              0\n",
       "highway_mileage           0\n",
       "horsepower                0\n",
       "torque                    0\n",
       "engine_capacity_litre     0\n",
       "fuel_capacity             0\n",
       "num_cylinder              0\n",
       "num_seat                  0\n",
       "num_owners                0\n",
       "price                     0\n",
       "link                      0\n",
       "condition                51\n",
       "type                      0\n",
       "doors                     0\n",
       "wheel_drive               0\n",
       "engine_type               0\n",
       "speed_levels              1\n",
       "front_headroom            0\n",
       "front_legroom             0\n",
       "rear_headroom             0\n",
       "rear_legroom              0\n",
       "service_records           0\n",
       "dtype: int64"
      ]
     },
     "execution_count": 40,
     "metadata": {},
     "output_type": "execute_result"
    }
   ],
   "source": [
    "data.isna().sum()"
   ]
  },
  {
   "cell_type": "markdown",
   "metadata": {},
   "source": [
    "### Tratamento de valores NaN e eliminação de colunas sem poder preditivo\n",
    "\n",
    "\n",
    "  "
   ]
  },
  {
   "cell_type": "markdown",
   "metadata": {},
   "source": [
    "A coluna __speed_level__  possui um valor _NaN_. O carro de __id__ = _13_ é aquele que possui o  __speed_level__  = _NaN_. Uma característica importante do veículo é o fato de que ele possui __engine_type__ igual a _hybrid_gas_electric_. Neste caso, para pensarmos em como tratar o dado _NaN_, é razoável verificarmos quais outros veículos da base de dados possuem o mesmo tipo de __engine_type__. "
   ]
  },
  {
   "cell_type": "code",
   "execution_count": 41,
   "metadata": {},
   "outputs": [
    {
     "data": {
      "text/html": [
       "<div class=\"itables\">\n",
       "<style>.itables table td {\n",
       "    text-overflow: ellipsis;\n",
       "    overflow: hidden;\n",
       "}\n",
       "\n",
       ".itables table th {\n",
       "    text-overflow: ellipsis;\n",
       "    overflow: hidden;\n",
       "}\n",
       "\n",
       ".itables thead input {\n",
       "    width: 100%;\n",
       "    padding: 3px;\n",
       "    box-sizing: border-box;\n",
       "}\n",
       "\n",
       ".itables tfoot input {\n",
       "    width: 100%;\n",
       "    padding: 3px;\n",
       "    box-sizing: border-box;\n",
       "}\n",
       "\n",
       ".itables { font-size: medium; }\n",
       "</style>\n",
       "<table id=\"itables_1eb91f74_dd96_467c_b572_9a8a741cb190\" class=\"display nowrap\" data-quarto-disable-processing=\"true\" style=\"table-layout:auto;width:auto;margin:auto;caption-side:bottom\">\n",
       "<thead>\n",
       "    <tr style=\"text-align: right;\">\n",
       "      <th></th>\n",
       "      <th>0</th>\n",
       "      <th>7</th>\n",
       "      <th>18</th>\n",
       "    </tr>\n",
       "  </thead><tbody><tr><td>Loading... (need <a href=https://mwouts.github.io/itables/troubleshooting.html>help</a>?)</td></tr></tbody>\n",
       "\n",
       "</table>\n",
       "<script type=\"module\">\n",
       "    const dt = (await import(window._datatables_src_for_itables_1_7_0)).default;\n",
       "    dt($);\n",
       "\n",
       "    $(document).ready(function () {\n",
       "        document.querySelectorAll(\"#itables_1eb91f74_dd96_467c_b572_9a8a741cb190:not(.dataTable)\").forEach(table => {\n",
       "            // Define the table data\n",
       "            const data = [[\"id\", \"3\", \"13\", \"24\"], [\"brand\", \"Chevrolet\", \"Honda\", \"Honda\"], [\"model\", \"Volt LT\", \"Clarity\", \"Insight\"], [\"year\", \"2019\", \"2018\", \"2019\"], [\"miles\", \"27173\", \"29674\", \"56233\"], [\"city_mileage\", \"43\", \"44\", \"55\"], [\"highway_mileage\", \"42\", \"40\", \"49\"], [\"horsepower\", \"149\", \"212\", \"151\"], [\"torque\", \"294\", \"99\", \"99\"], [\"engine_capacity_litre\", \" 1.5\", \" 1.5\", \" 1.5\"], [\"fuel_capacity\", \" 8.9\", \" 7.0\", \" 10.6\"], [\"num_cylinder\", \"4\", \"4\", \"4\"], [\"num_seat\", \"5\", \"5\", \"5\"], [\"num_owners\", \"3\", \"1\", \"2\"], [\"price\", \"25655\", \"26999\", \"21998\"], [\"link\", \"https://www.autotrader.com/cars-for-sale/vehicledetails.xhtml?listingId=664996766&city=Bellevue&state=WA&zip=98007&searchRadius=50&isNewSearch=false&marketExtension=include&showAccelerateBanner=false&sortBy=relevance&numRecords=25&requestId=USED&listingTypes=USED&referrer=%2Fcars-for-sale%2Fbellevue-wa-98007%3FsearchRadius%3D50%26isNewSearch%3Dfalse%26marketExtension%3Dinclude%26showAccelerateBanner%3Dfalse%26sortBy%3Drelevance%26numRecords%3D25%26requestId%3DUSED&clickType=listing\", \"https://www.autotrader.com/cars-for-sale/vehicledetails.xhtml?listingId=670198790&vehicleStyleCodes=SEDAN&city=Bellevue&state=WA&zip=98007&requestId=COUPE&searchRadius=50&marketExtension=include&isNewSearch=false&showAccelerateBanner=false&sortBy=relevance&numRecords=25&listingTypes=USED&referrer=%2Fcars-for-sale%2Fsedan%2Fbellevue-wa-98007%3FrequestId%3DCOUPE%26searchRadius%3D50%26marketExtension%3Dinclude%26isNewSearch%3Dfalse%26showAccelerateBanner%3Dfalse%26sortBy%3Drelevance%26numRecords%3D25&clickType=listing\", \"https://www.autotrader.com/cars-for-sale/vehicledetails.xhtml?listingId=667513422&vehicleStyleCodes=SEDAN&city=Bellevue&state=WA&zip=98007&searchRadius=50&marketExtension=include&isNewSearch=false&showAccelerateBanner=false&sortBy=relevance&numRecords=25&firstRecord=25&listingTypes=USED&referrer=%2Fcars-for-sale%2Fsedan%2Fbellevue-wa-98007%3FsearchRadius%3D50%26marketExtension%3Dinclude%26isNewSearch%3Dfalse%26showAccelerateBanner%3Dfalse%26sortBy%3Drelevance%26numRecords%3D25%26firstRecord%3D25&clickType=listing\"], [\"condition\", \"NaN\", \"NaN\", \"NaN\"], [\"type\", \"sedan\", \"sedan\", \"sedan\"], [\"doors\", \"4\", \"4\", \"4\"], [\"wheel_drive\", \"2\", \"2\", \"2\"], [\"engine_type\", \"hybrid_gas_electric\", \"hybrid_gas_electric\", \"hybrid_gas_electric\"], [\"speed_levels\", \" 6.0\", \"NaN\", \" 6.0\"], [\"front_headroom\", \" 37.8\", \" 39.1\", \" 39.3\"], [\"front_legroom\", \" 42.1\", \" 42.2\", \" 42.3\"], [\"rear_headroom\", \" 35.8\", \" 37.1\", \" 36.9\"], [\"rear_legroom\", \" 34.7\", \" 36.2\", \" 37.4\"], [\"service_records\", \"4\", \"2\", \"5\"]];\n",
       "\n",
       "            // Define the dt_args\n",
       "            let dt_args = {\"order\": []};\n",
       "            dt_args[\"data\"] = data;\n",
       "\n",
       "            \n",
       "            new $.fn.dataTable(table, dt_args);\n",
       "        });\n",
       "    });\n",
       "</script>\n",
       "</div>\n"
      ],
      "text/plain": [
       "                                                                      0   \\\n",
       "id                                                                     3   \n",
       "brand                                                          Chevrolet   \n",
       "model                                                            Volt LT   \n",
       "year                                                                2019   \n",
       "miles                                                              27173   \n",
       "city_mileage                                                          43   \n",
       "highway_mileage                                                       42   \n",
       "horsepower                                                           149   \n",
       "torque                                                               294   \n",
       "engine_capacity_litre                                                1.5   \n",
       "fuel_capacity                                                        8.9   \n",
       "num_cylinder                                                           4   \n",
       "num_seat                                                               5   \n",
       "num_owners                                                             3   \n",
       "price                                                              25655   \n",
       "link                   https://www.autotrader.com/cars-for-sale/vehic...   \n",
       "condition                                                            NaN   \n",
       "type                                                               sedan   \n",
       "doors                                                                  4   \n",
       "wheel_drive                                                            2   \n",
       "engine_type                                          hybrid_gas_electric   \n",
       "speed_levels                                                         6.0   \n",
       "front_headroom                                                      37.8   \n",
       "front_legroom                                                       42.1   \n",
       "rear_headroom                                                       35.8   \n",
       "rear_legroom                                                        34.7   \n",
       "service_records                                                        4   \n",
       "\n",
       "                                                                      7   \\\n",
       "id                                                                    13   \n",
       "brand                                                              Honda   \n",
       "model                                                            Clarity   \n",
       "year                                                                2018   \n",
       "miles                                                              29674   \n",
       "city_mileage                                                          44   \n",
       "highway_mileage                                                       40   \n",
       "horsepower                                                           212   \n",
       "torque                                                                99   \n",
       "engine_capacity_litre                                                1.5   \n",
       "fuel_capacity                                                        7.0   \n",
       "num_cylinder                                                           4   \n",
       "num_seat                                                               5   \n",
       "num_owners                                                             1   \n",
       "price                                                              26999   \n",
       "link                   https://www.autotrader.com/cars-for-sale/vehic...   \n",
       "condition                                                            NaN   \n",
       "type                                                               sedan   \n",
       "doors                                                                  4   \n",
       "wheel_drive                                                            2   \n",
       "engine_type                                          hybrid_gas_electric   \n",
       "speed_levels                                                         NaN   \n",
       "front_headroom                                                      39.1   \n",
       "front_legroom                                                       42.2   \n",
       "rear_headroom                                                       37.1   \n",
       "rear_legroom                                                        36.2   \n",
       "service_records                                                        2   \n",
       "\n",
       "                                                                      18  \n",
       "id                                                                    24  \n",
       "brand                                                              Honda  \n",
       "model                                                            Insight  \n",
       "year                                                                2019  \n",
       "miles                                                              56233  \n",
       "city_mileage                                                          55  \n",
       "highway_mileage                                                       49  \n",
       "horsepower                                                           151  \n",
       "torque                                                                99  \n",
       "engine_capacity_litre                                                1.5  \n",
       "fuel_capacity                                                       10.6  \n",
       "num_cylinder                                                           4  \n",
       "num_seat                                                               5  \n",
       "num_owners                                                             2  \n",
       "price                                                              21998  \n",
       "link                   https://www.autotrader.com/cars-for-sale/vehic...  \n",
       "condition                                                            NaN  \n",
       "type                                                               sedan  \n",
       "doors                                                                  4  \n",
       "wheel_drive                                                            2  \n",
       "engine_type                                          hybrid_gas_electric  \n",
       "speed_levels                                                         6.0  \n",
       "front_headroom                                                      39.3  \n",
       "front_legroom                                                       42.3  \n",
       "rear_headroom                                                       36.9  \n",
       "rear_legroom                                                        37.4  \n",
       "service_records                                                        5  "
      ]
     },
     "execution_count": 41,
     "metadata": {},
     "output_type": "execute_result"
    }
   ],
   "source": [
    "data.query(\"engine_type == 'hybrid_gas_electric'\").T"
   ]
  },
  {
   "cell_type": "markdown",
   "metadata": {},
   "source": [
    "Como podemos verificar, os outros carros da base que posssem o tipo de __engine_type__ igual a _hybrid_gas_electric__ tem o  __speed_level__  = _6.0_. Então iremos assumir o  __speed_level__  = _6.0_ para o veículo de __id__ = _13_.\t"
   ]
  },
  {
   "cell_type": "code",
   "execution_count": 42,
   "metadata": {},
   "outputs": [
    {
     "data": {
      "text/html": [
       "<div class=\"itables\">\n",
       "<style>.itables table td {\n",
       "    text-overflow: ellipsis;\n",
       "    overflow: hidden;\n",
       "}\n",
       "\n",
       ".itables table th {\n",
       "    text-overflow: ellipsis;\n",
       "    overflow: hidden;\n",
       "}\n",
       "\n",
       ".itables thead input {\n",
       "    width: 100%;\n",
       "    padding: 3px;\n",
       "    box-sizing: border-box;\n",
       "}\n",
       "\n",
       ".itables tfoot input {\n",
       "    width: 100%;\n",
       "    padding: 3px;\n",
       "    box-sizing: border-box;\n",
       "}\n",
       "\n",
       ".itables { font-size: medium; }\n",
       "</style>\n",
       "<table id=\"itables_7bdc38fc_8d1e_41fb_8527_0215ecca79e7\" class=\"display nowrap\" data-quarto-disable-processing=\"true\" style=\"table-layout:auto;width:auto;margin:auto;caption-side:bottom\">\n",
       "<thead>\n",
       "    <tr style=\"text-align: right;\">\n",
       "      <th></th>\n",
       "      <th>7</th>\n",
       "    </tr>\n",
       "  </thead><tbody><tr><td>Loading... (need <a href=https://mwouts.github.io/itables/troubleshooting.html>help</a>?)</td></tr></tbody>\n",
       "\n",
       "</table>\n",
       "<script type=\"module\">\n",
       "    const dt = (await import(window._datatables_src_for_itables_1_7_0)).default;\n",
       "    dt($);\n",
       "\n",
       "    $(document).ready(function () {\n",
       "        document.querySelectorAll(\"#itables_7bdc38fc_8d1e_41fb_8527_0215ecca79e7:not(.dataTable)\").forEach(table => {\n",
       "            // Define the table data\n",
       "            const data = [[\"id\", \"13\"], [\"brand\", \"Honda\"], [\"model\", \"Clarity\"], [\"year\", \"2018\"], [\"miles\", \"29674\"], [\"city_mileage\", \"44\"], [\"highway_mileage\", \"40\"], [\"horsepower\", \"212\"], [\"torque\", \"99\"], [\"engine_capacity_litre\", \" 1.5\"], [\"fuel_capacity\", \" 7.0\"], [\"num_cylinder\", \"4\"], [\"num_seat\", \"5\"], [\"num_owners\", \"1\"], [\"price\", \"26999\"], [\"link\", \"https://www.autotrader.com/cars-for-sale/vehicledetails.xhtml?listingId=670198790&vehicleStyleCodes=SEDAN&city=Bellevue&state=WA&zip=98007&requestId=COUPE&searchRadius=50&marketExtension=include&isNewSearch=false&showAccelerateBanner=false&sortBy=relevance&numRecords=25&listingTypes=USED&referrer=%2Fcars-for-sale%2Fsedan%2Fbellevue-wa-98007%3FrequestId%3DCOUPE%26searchRadius%3D50%26marketExtension%3Dinclude%26isNewSearch%3Dfalse%26showAccelerateBanner%3Dfalse%26sortBy%3Drelevance%26numRecords%3D25&clickType=listing\"], [\"condition\", \"NaN\"], [\"type\", \"sedan\"], [\"doors\", \"4\"], [\"wheel_drive\", \"2\"], [\"engine_type\", \"hybrid_gas_electric\"], [\"speed_levels\", \" 6.0\"], [\"front_headroom\", \" 39.1\"], [\"front_legroom\", \" 42.2\"], [\"rear_headroom\", \" 37.1\"], [\"rear_legroom\", \" 36.2\"], [\"service_records\", \"2\"]];\n",
       "\n",
       "            // Define the dt_args\n",
       "            let dt_args = {\"order\": []};\n",
       "            dt_args[\"data\"] = data;\n",
       "\n",
       "            \n",
       "            new $.fn.dataTable(table, dt_args);\n",
       "        });\n",
       "    });\n",
       "</script>\n",
       "</div>\n"
      ],
      "text/plain": [
       "id                                                                      13\n",
       "brand                                                                Honda\n",
       "model                                                              Clarity\n",
       "year                                                                  2018\n",
       "miles                                                                29674\n",
       "city_mileage                                                            44\n",
       "highway_mileage                                                         40\n",
       "horsepower                                                             212\n",
       "torque                                                                  99\n",
       "engine_capacity_litre                                                  1.5\n",
       "fuel_capacity                                                          7.0\n",
       "num_cylinder                                                             4\n",
       "num_seat                                                                 5\n",
       "num_owners                                                               1\n",
       "price                                                                26999\n",
       "link                     https://www.autotrader.com/cars-for-sale/vehic...\n",
       "condition                                                              NaN\n",
       "type                                                                 sedan\n",
       "doors                                                                    4\n",
       "wheel_drive                                                              2\n",
       "engine_type                                            hybrid_gas_electric\n",
       "speed_levels                                                           6.0\n",
       "front_headroom                                                        39.1\n",
       "front_legroom                                                         42.2\n",
       "rear_headroom                                                         37.1\n",
       "rear_legroom                                                          36.2\n",
       "service_records                                                          2\n",
       "Name: 7, dtype: object"
      ]
     },
     "execution_count": 42,
     "metadata": {},
     "output_type": "execute_result"
    }
   ],
   "source": [
    "data['speed_levels'] = data['speed_levels'].replace({np.NAN:6.0})\n",
    "data.iloc[7,:]\n"
   ]
  },
  {
   "cell_type": "code",
   "execution_count": 43,
   "metadata": {},
   "outputs": [
    {
     "data": {
      "text/html": [
       "<div class=\"itables\">\n",
       "<style>.itables table td {\n",
       "    text-overflow: ellipsis;\n",
       "    overflow: hidden;\n",
       "}\n",
       "\n",
       ".itables table th {\n",
       "    text-overflow: ellipsis;\n",
       "    overflow: hidden;\n",
       "}\n",
       "\n",
       ".itables thead input {\n",
       "    width: 100%;\n",
       "    padding: 3px;\n",
       "    box-sizing: border-box;\n",
       "}\n",
       "\n",
       ".itables tfoot input {\n",
       "    width: 100%;\n",
       "    padding: 3px;\n",
       "    box-sizing: border-box;\n",
       "}\n",
       "\n",
       ".itables { font-size: medium; }\n",
       "</style>\n",
       "<table id=\"itables_fd40a22a_e833_4dd0_a924_4f24a56e36ce\" class=\"display nowrap\" data-quarto-disable-processing=\"true\" style=\"table-layout:auto;width:auto;margin:auto;caption-side:bottom\">\n",
       "<thead>\n",
       "    <tr style=\"text-align: right;\">\n",
       "      <th></th>\n",
       "      <th>count</th>\n",
       "      <th>mean</th>\n",
       "      <th>std</th>\n",
       "      <th>min</th>\n",
       "      <th>25%</th>\n",
       "      <th>50%</th>\n",
       "      <th>75%</th>\n",
       "      <th>max</th>\n",
       "    </tr>\n",
       "  </thead><tbody><tr><td>Loading... (need <a href=https://mwouts.github.io/itables/troubleshooting.html>help</a>?)</td></tr></tbody>\n",
       "\n",
       "</table>\n",
       "<script type=\"module\">\n",
       "    const dt = (await import(window._datatables_src_for_itables_1_7_0)).default;\n",
       "    dt($);\n",
       "\n",
       "    $(document).ready(function () {\n",
       "        document.querySelectorAll(\"#itables_fd40a22a_e833_4dd0_a924_4f24a56e36ce:not(.dataTable)\").forEach(table => {\n",
       "            // Define the table data\n",
       "            const data = [[\"id\", 52.0, 31.365385, 15.378912, 3.0, 18.75, 31.5, 44.25, 57.0], [\"year\", 52.0, 2018.673077, 1.39637, 2014.0, 2018.0, 2019.0, 2019.25, 2022.0], [\"miles\", 52.0, 33901.25, 22700.646139, 5000.0, 16454.75, 27448.5, 42442.0, 97027.0], [\"city_mileage\", 52.0, 29.038462, 5.947356, 17.0, 26.5, 30.0, 30.0, 55.0], [\"highway_mileage\", 52.0, 37.423077, 4.136619, 24.0, 35.75, 38.0, 40.0, 49.0], [\"horsepower\", 52.0, 176.865385, 33.793507, 143.0, 152.0, 159.5, 192.0, 288.0], [\"torque\", 52.0, 177.923077, 47.256433, 99.0, 138.0, 181.0, 192.0, 294.0], [\"engine_capacity_litre\", 52.0, 1.832692, 0.379743, 1.4, 1.5, 2.0, 2.0, 3.5], [\"fuel_capacity\", 52.0, 14.232692, 2.603973, 7.0, 12.4, 13.6, 15.05, 19.0], [\"num_cylinder\", 52.0, 4.038462, 0.27735, 4.0, 4.0, 4.0, 4.0, 6.0], [\"num_seat\", 52.0, 5.0, 0.0, 5.0, 5.0, 5.0, 5.0, 5.0], [\"num_owners\", 52.0, 1.346154, 0.622601, 1.0, 1.0, 1.0, 2.0, 3.0], [\"price\", 52.0, 21763.423077, 3532.455322, 13590.0, 19519.0, 21998.5, 22996.0, 33777.0], [\"condition\", 1.0, 4.0, NaN, 4.0, 4.0, 4.0, 4.0, 4.0], [\"doors\", 52.0, 4.0, 0.0, 4.0, 4.0, 4.0, 4.0, 4.0], [\"wheel_drive\", 52.0, 2.153846, 0.538138, 2.0, 2.0, 2.0, 2.0, 4.0], [\"speed_levels\", 52.0, 6.307692, 0.755073, 6.0, 6.0, 6.0, 6.0, 9.0], [\"front_headroom\", 52.0, 38.680769, 0.919087, 37.5, 37.725, 38.5, 39.3, 40.4], [\"front_legroom\", 52.0, 42.467308, 1.045198, 41.1, 42.2, 42.3, 42.4, 45.5], [\"rear_headroom\", 52.0, 37.238462, 0.444202, 35.8, 37.075, 37.2, 37.5, 38.0], [\"rear_legroom\", 52.0, 37.632692, 1.604249, 33.2, 37.175, 37.4, 38.3, 40.4], [\"service_records\", 52.0, 7.326923, 4.714272, 1.0, 4.0, 6.0, 10.0, 26.0]];\n",
       "\n",
       "            // Define the dt_args\n",
       "            let dt_args = {\"order\": []};\n",
       "            dt_args[\"data\"] = data;\n",
       "\n",
       "            \n",
       "            new $.fn.dataTable(table, dt_args);\n",
       "        });\n",
       "    });\n",
       "</script>\n",
       "</div>\n"
      ],
      "text/plain": [
       "                       count          mean           std      min        25%  \\\n",
       "id                      52.0     31.365385     15.378912      3.0     18.750   \n",
       "year                    52.0   2018.673077      1.396370   2014.0   2018.000   \n",
       "miles                   52.0  33901.250000  22700.646139   5000.0  16454.750   \n",
       "city_mileage            52.0     29.038462      5.947356     17.0     26.500   \n",
       "highway_mileage         52.0     37.423077      4.136619     24.0     35.750   \n",
       "horsepower              52.0    176.865385     33.793507    143.0    152.000   \n",
       "torque                  52.0    177.923077     47.256433     99.0    138.000   \n",
       "engine_capacity_litre   52.0      1.832692      0.379743      1.4      1.500   \n",
       "fuel_capacity           52.0     14.232692      2.603973      7.0     12.400   \n",
       "num_cylinder            52.0      4.038462      0.277350      4.0      4.000   \n",
       "num_seat                52.0      5.000000      0.000000      5.0      5.000   \n",
       "num_owners              52.0      1.346154      0.622601      1.0      1.000   \n",
       "price                   52.0  21763.423077   3532.455322  13590.0  19519.000   \n",
       "condition                1.0      4.000000           NaN      4.0      4.000   \n",
       "doors                   52.0      4.000000      0.000000      4.0      4.000   \n",
       "wheel_drive             52.0      2.153846      0.538138      2.0      2.000   \n",
       "speed_levels            52.0      6.307692      0.755073      6.0      6.000   \n",
       "front_headroom          52.0     38.680769      0.919087     37.5     37.725   \n",
       "front_legroom           52.0     42.467308      1.045198     41.1     42.200   \n",
       "rear_headroom           52.0     37.238462      0.444202     35.8     37.075   \n",
       "rear_legroom            52.0     37.632692      1.604249     33.2     37.175   \n",
       "service_records         52.0      7.326923      4.714272      1.0      4.000   \n",
       "\n",
       "                           50%       75%      max  \n",
       "id                        31.5     44.25     57.0  \n",
       "year                    2019.0   2019.25   2022.0  \n",
       "miles                  27448.5  42442.00  97027.0  \n",
       "city_mileage              30.0     30.00     55.0  \n",
       "highway_mileage           38.0     40.00     49.0  \n",
       "horsepower               159.5    192.00    288.0  \n",
       "torque                   181.0    192.00    294.0  \n",
       "engine_capacity_litre      2.0      2.00      3.5  \n",
       "fuel_capacity             13.6     15.05     19.0  \n",
       "num_cylinder               4.0      4.00      6.0  \n",
       "num_seat                   5.0      5.00      5.0  \n",
       "num_owners                 1.0      2.00      3.0  \n",
       "price                  21998.5  22996.00  33777.0  \n",
       "condition                  4.0      4.00      4.0  \n",
       "doors                      4.0      4.00      4.0  \n",
       "wheel_drive                2.0      2.00      4.0  \n",
       "speed_levels               6.0      6.00      9.0  \n",
       "front_headroom            38.5     39.30     40.4  \n",
       "front_legroom             42.3     42.40     45.5  \n",
       "rear_headroom             37.2     37.50     38.0  \n",
       "rear_legroom              37.4     38.30     40.4  \n",
       "service_records            6.0     10.00     26.0  "
      ]
     },
     "execution_count": 43,
     "metadata": {},
     "output_type": "execute_result"
    }
   ],
   "source": [
    "data.describe().T"
   ]
  },
  {
   "cell_type": "markdown",
   "metadata": {},
   "source": [
    "- A coluna __condition__ possui somente um valor não-nulo. A alternativa à eliminação seria a interpolação ou repetição de valores, o que não iria auxiliar a elaboração do modelo.\n",
    "\n",
    "- A coluna __link__ corresponde ao endereço do carro na página das empresas. Logo, não parece ter qualquer valor preditivo e também deverá ser eliminada.\n",
    "\n",
    "- A coluna __doors__ corresponde à quantidade de portas dos carros.  Como todos os carros da base possuem 4 portas, a coluna não irá auxiliar a elaboração do modelo.\n",
    "\n",
    "- A coluna __num_seat__ corresponde ao número de assentos dos carros.  Como todos os carros da base possuem 5 assentos, a coluna não irá auxiliar a elaboração do modelo.\n",
    "\n",
    "- A coluna __id__ ser somente como número identificador de cada carro, logo a coluna pode ser eliminada."
   ]
  },
  {
   "cell_type": "code",
   "execution_count": 44,
   "metadata": {},
   "outputs": [],
   "source": [
    "data: pd.DataFrame = data.drop(columns=['condition','link','doors','id', 'num_seat']) # removendo as colunas 'condition' e 'link'"
   ]
  },
  {
   "cell_type": "markdown",
   "metadata": {},
   "source": [
    "## Análise das variáveis qualitativas "
   ]
  },
  {
   "cell_type": "code",
   "execution_count": 45,
   "metadata": {},
   "outputs": [
    {
     "data": {
      "text/html": [
       "<div class=\"itables\">\n",
       "<style>.itables table td {\n",
       "    text-overflow: ellipsis;\n",
       "    overflow: hidden;\n",
       "}\n",
       "\n",
       ".itables table th {\n",
       "    text-overflow: ellipsis;\n",
       "    overflow: hidden;\n",
       "}\n",
       "\n",
       ".itables thead input {\n",
       "    width: 100%;\n",
       "    padding: 3px;\n",
       "    box-sizing: border-box;\n",
       "}\n",
       "\n",
       ".itables tfoot input {\n",
       "    width: 100%;\n",
       "    padding: 3px;\n",
       "    box-sizing: border-box;\n",
       "}\n",
       "\n",
       ".itables { font-size: medium; }\n",
       "</style>\n",
       "<table id=\"itables_5dccc84c_42d0_4888_b646_95285655c38f\" class=\"display nowrap\" data-quarto-disable-processing=\"true\" style=\"table-layout:auto;width:auto;margin:auto;caption-side:bottom\">\n",
       "<thead>\n",
       "    <tr style=\"text-align: right;\">\n",
       "      <th></th>\n",
       "      <th></th>\n",
       "      <th></th>\n",
       "      <th></th>\n",
       "      <th>count</th>\n",
       "    </tr>\n",
       "    <tr>\n",
       "      <th>brand</th>\n",
       "      <th>model</th>\n",
       "      <th>type</th>\n",
       "      <th>engine_type</th>\n",
       "      <th></th>\n",
       "    </tr>\n",
       "  </thead><tbody><tr><td>Loading... (need <a href=https://mwouts.github.io/itables/troubleshooting.html>help</a>?)</td></tr></tbody>\n",
       "\n",
       "</table>\n",
       "<script type=\"module\">\n",
       "    const dt = (await import(window._datatables_src_for_itables_1_7_0)).default;\n",
       "    dt($);\n",
       "\n",
       "    $(document).ready(function () {\n",
       "        document.querySelectorAll(\"#itables_5dccc84c_42d0_4888_b646_95285655c38f:not(.dataTable)\").forEach(table => {\n",
       "            // Define the table data\n",
       "            const data = [[\"Honda\", \"Civic\", \"sedan\", \"gas\", 14], [\"Honda\", \"Accord\", \"sedan\", \"gas\", 7], [\"Volkswagen\", \"Jetta\", \"sedan\", \"gas\", 7], [\"Hyundai\", \"Elantra SE\", \"sedan\", \"gas\", 4], [\"Volkswagen\", \"Passat\", \"sedan\", \"gas\", 4], [\"Hyundai\", \"Sonata\", \"sedan\", \"gas\", 3], [\"Ford\", \"Fusion\", \"sedan\", \"gas\", 3], [\"Subaru\", \"Impreza\", \"sedan\", \"gas\", 2], [\"Chevrolet\", \"Malibu\", \"sedan\", \"gas\", 2], [\"Chevrolet\", \"Volt LT\", \"sedan\", \"hybrid_gas_electric\", 1], [\"Ford\", \"Focus\", \"sedan\", \"gas\", 1], [\"Ford\", \"Taurus\", \"sedan\", \"gas\", 1], [\"Honda\", \"Insight\", \"sedan\", \"hybrid_gas_electric\", 1], [\"Honda\", \"Clarity\", \"sedan\", \"hybrid_gas_electric\", 1], [\"Subaru\", \"Legacy\", \"sedan\", \"gas\", 1]];\n",
       "\n",
       "            // Define the dt_args\n",
       "            let dt_args = {\"order\": []};\n",
       "            dt_args[\"data\"] = data;\n",
       "\n",
       "            \n",
       "            new $.fn.dataTable(table, dt_args);\n",
       "        });\n",
       "    });\n",
       "</script>\n",
       "</div>\n"
      ],
      "text/plain": [
       "brand       model       type   engine_type        \n",
       "Honda       Civic       sedan  gas                    14\n",
       "            Accord      sedan  gas                     7\n",
       "Volkswagen  Jetta       sedan  gas                     7\n",
       "Hyundai     Elantra SE  sedan  gas                     4\n",
       "Volkswagen  Passat      sedan  gas                     4\n",
       "Hyundai     Sonata      sedan  gas                     3\n",
       "Ford        Fusion      sedan  gas                     3\n",
       "Subaru      Impreza     sedan  gas                     2\n",
       "Chevrolet   Malibu      sedan  gas                     2\n",
       "            Volt LT     sedan  hybrid_gas_electric     1\n",
       "Ford        Focus       sedan  gas                     1\n",
       "            Taurus      sedan  gas                     1\n",
       "Honda       Insight     sedan  hybrid_gas_electric     1\n",
       "            Clarity     sedan  hybrid_gas_electric     1\n",
       "Subaru      Legacy      sedan  gas                     1\n",
       "Name: count, dtype: int64"
      ]
     },
     "execution_count": 45,
     "metadata": {},
     "output_type": "execute_result"
    }
   ],
   "source": [
    "# dataframe que contém somente as colunas com dados qualitativos\n",
    "data_quali: pd.DataFrame = data.select_dtypes(include=['category'])\n",
    "data_quali.value_counts()"
   ]
  },
  {
   "cell_type": "code",
   "execution_count": 46,
   "metadata": {},
   "outputs": [
    {
     "data": {
      "application/vnd.plotly.v1+json": {
       "config": {
        "plotlyServerURL": "https://plot.ly"
       },
       "data": [
        {
         "name": "brand",
         "type": "bar",
         "x": [
          "Honda",
          "Volkswagen",
          "Hyundai",
          "Ford",
          "Chevrolet",
          "Subaru"
         ],
         "xaxis": "x",
         "y": [
          23,
          11,
          7,
          5,
          3,
          3
         ],
         "yaxis": "y"
        },
        {
         "name": "model",
         "type": "bar",
         "x": [
          "Civic",
          "Accord",
          "Jetta",
          "Passat",
          "Elantra SE",
          "Fusion",
          "Sonata",
          "Impreza",
          "Malibu",
          "Focus",
          "Clarity",
          "Legacy",
          "Insight",
          "Taurus",
          "Volt LT"
         ],
         "xaxis": "x4",
         "y": [
          14,
          7,
          7,
          4,
          4,
          3,
          3,
          2,
          2,
          1,
          1,
          1,
          1,
          1,
          1
         ],
         "yaxis": "y4"
        },
        {
         "name": "type",
         "type": "bar",
         "x": [
          "sedan"
         ],
         "xaxis": "x2",
         "y": [
          52
         ],
         "yaxis": "y2"
        },
        {
         "name": "engine_type",
         "type": "bar",
         "x": [
          "gas",
          "hybrid_gas_electric"
         ],
         "xaxis": "x3",
         "y": [
          49,
          3
         ],
         "yaxis": "y3"
        }
       ],
       "layout": {
        "annotations": [
         {
          "font": {
           "size": 16
          },
          "showarrow": false,
          "text": "marca",
          "x": 0.225,
          "xanchor": "center",
          "xref": "paper",
          "y": 1,
          "yanchor": "bottom",
          "yref": "paper"
         },
         {
          "font": {
           "size": 16
          },
          "showarrow": false,
          "text": "tipo",
          "x": 0.775,
          "xanchor": "center",
          "xref": "paper",
          "y": 1,
          "yanchor": "bottom",
          "yref": "paper"
         },
         {
          "font": {
           "size": 16
          },
          "showarrow": false,
          "text": "tipo de motor",
          "x": 0.225,
          "xanchor": "center",
          "xref": "paper",
          "y": 0.375,
          "yanchor": "bottom",
          "yref": "paper"
         },
         {
          "font": {
           "size": 16
          },
          "showarrow": false,
          "text": "modelo",
          "x": 0.775,
          "xanchor": "center",
          "xref": "paper",
          "y": 0.375,
          "yanchor": "bottom",
          "yref": "paper"
         }
        ],
        "height": 750,
        "template": {
         "data": {
          "bar": [
           {
            "error_x": {
             "color": "#2a3f5f"
            },
            "error_y": {
             "color": "#2a3f5f"
            },
            "marker": {
             "line": {
              "color": "#E5ECF6",
              "width": 0.5
             },
             "pattern": {
              "fillmode": "overlay",
              "size": 10,
              "solidity": 0.2
             }
            },
            "type": "bar"
           }
          ],
          "barpolar": [
           {
            "marker": {
             "line": {
              "color": "#E5ECF6",
              "width": 0.5
             },
             "pattern": {
              "fillmode": "overlay",
              "size": 10,
              "solidity": 0.2
             }
            },
            "type": "barpolar"
           }
          ],
          "carpet": [
           {
            "aaxis": {
             "endlinecolor": "#2a3f5f",
             "gridcolor": "white",
             "linecolor": "white",
             "minorgridcolor": "white",
             "startlinecolor": "#2a3f5f"
            },
            "baxis": {
             "endlinecolor": "#2a3f5f",
             "gridcolor": "white",
             "linecolor": "white",
             "minorgridcolor": "white",
             "startlinecolor": "#2a3f5f"
            },
            "type": "carpet"
           }
          ],
          "choropleth": [
           {
            "colorbar": {
             "outlinewidth": 0,
             "ticks": ""
            },
            "type": "choropleth"
           }
          ],
          "contour": [
           {
            "colorbar": {
             "outlinewidth": 0,
             "ticks": ""
            },
            "colorscale": [
             [
              0,
              "#0d0887"
             ],
             [
              0.1111111111111111,
              "#46039f"
             ],
             [
              0.2222222222222222,
              "#7201a8"
             ],
             [
              0.3333333333333333,
              "#9c179e"
             ],
             [
              0.4444444444444444,
              "#bd3786"
             ],
             [
              0.5555555555555556,
              "#d8576b"
             ],
             [
              0.6666666666666666,
              "#ed7953"
             ],
             [
              0.7777777777777778,
              "#fb9f3a"
             ],
             [
              0.8888888888888888,
              "#fdca26"
             ],
             [
              1,
              "#f0f921"
             ]
            ],
            "type": "contour"
           }
          ],
          "contourcarpet": [
           {
            "colorbar": {
             "outlinewidth": 0,
             "ticks": ""
            },
            "type": "contourcarpet"
           }
          ],
          "heatmap": [
           {
            "colorbar": {
             "outlinewidth": 0,
             "ticks": ""
            },
            "colorscale": [
             [
              0,
              "#0d0887"
             ],
             [
              0.1111111111111111,
              "#46039f"
             ],
             [
              0.2222222222222222,
              "#7201a8"
             ],
             [
              0.3333333333333333,
              "#9c179e"
             ],
             [
              0.4444444444444444,
              "#bd3786"
             ],
             [
              0.5555555555555556,
              "#d8576b"
             ],
             [
              0.6666666666666666,
              "#ed7953"
             ],
             [
              0.7777777777777778,
              "#fb9f3a"
             ],
             [
              0.8888888888888888,
              "#fdca26"
             ],
             [
              1,
              "#f0f921"
             ]
            ],
            "type": "heatmap"
           }
          ],
          "heatmapgl": [
           {
            "colorbar": {
             "outlinewidth": 0,
             "ticks": ""
            },
            "colorscale": [
             [
              0,
              "#0d0887"
             ],
             [
              0.1111111111111111,
              "#46039f"
             ],
             [
              0.2222222222222222,
              "#7201a8"
             ],
             [
              0.3333333333333333,
              "#9c179e"
             ],
             [
              0.4444444444444444,
              "#bd3786"
             ],
             [
              0.5555555555555556,
              "#d8576b"
             ],
             [
              0.6666666666666666,
              "#ed7953"
             ],
             [
              0.7777777777777778,
              "#fb9f3a"
             ],
             [
              0.8888888888888888,
              "#fdca26"
             ],
             [
              1,
              "#f0f921"
             ]
            ],
            "type": "heatmapgl"
           }
          ],
          "histogram": [
           {
            "marker": {
             "pattern": {
              "fillmode": "overlay",
              "size": 10,
              "solidity": 0.2
             }
            },
            "type": "histogram"
           }
          ],
          "histogram2d": [
           {
            "colorbar": {
             "outlinewidth": 0,
             "ticks": ""
            },
            "colorscale": [
             [
              0,
              "#0d0887"
             ],
             [
              0.1111111111111111,
              "#46039f"
             ],
             [
              0.2222222222222222,
              "#7201a8"
             ],
             [
              0.3333333333333333,
              "#9c179e"
             ],
             [
              0.4444444444444444,
              "#bd3786"
             ],
             [
              0.5555555555555556,
              "#d8576b"
             ],
             [
              0.6666666666666666,
              "#ed7953"
             ],
             [
              0.7777777777777778,
              "#fb9f3a"
             ],
             [
              0.8888888888888888,
              "#fdca26"
             ],
             [
              1,
              "#f0f921"
             ]
            ],
            "type": "histogram2d"
           }
          ],
          "histogram2dcontour": [
           {
            "colorbar": {
             "outlinewidth": 0,
             "ticks": ""
            },
            "colorscale": [
             [
              0,
              "#0d0887"
             ],
             [
              0.1111111111111111,
              "#46039f"
             ],
             [
              0.2222222222222222,
              "#7201a8"
             ],
             [
              0.3333333333333333,
              "#9c179e"
             ],
             [
              0.4444444444444444,
              "#bd3786"
             ],
             [
              0.5555555555555556,
              "#d8576b"
             ],
             [
              0.6666666666666666,
              "#ed7953"
             ],
             [
              0.7777777777777778,
              "#fb9f3a"
             ],
             [
              0.8888888888888888,
              "#fdca26"
             ],
             [
              1,
              "#f0f921"
             ]
            ],
            "type": "histogram2dcontour"
           }
          ],
          "mesh3d": [
           {
            "colorbar": {
             "outlinewidth": 0,
             "ticks": ""
            },
            "type": "mesh3d"
           }
          ],
          "parcoords": [
           {
            "line": {
             "colorbar": {
              "outlinewidth": 0,
              "ticks": ""
             }
            },
            "type": "parcoords"
           }
          ],
          "pie": [
           {
            "automargin": true,
            "type": "pie"
           }
          ],
          "scatter": [
           {
            "fillpattern": {
             "fillmode": "overlay",
             "size": 10,
             "solidity": 0.2
            },
            "type": "scatter"
           }
          ],
          "scatter3d": [
           {
            "line": {
             "colorbar": {
              "outlinewidth": 0,
              "ticks": ""
             }
            },
            "marker": {
             "colorbar": {
              "outlinewidth": 0,
              "ticks": ""
             }
            },
            "type": "scatter3d"
           }
          ],
          "scattercarpet": [
           {
            "marker": {
             "colorbar": {
              "outlinewidth": 0,
              "ticks": ""
             }
            },
            "type": "scattercarpet"
           }
          ],
          "scattergeo": [
           {
            "marker": {
             "colorbar": {
              "outlinewidth": 0,
              "ticks": ""
             }
            },
            "type": "scattergeo"
           }
          ],
          "scattergl": [
           {
            "marker": {
             "colorbar": {
              "outlinewidth": 0,
              "ticks": ""
             }
            },
            "type": "scattergl"
           }
          ],
          "scattermapbox": [
           {
            "marker": {
             "colorbar": {
              "outlinewidth": 0,
              "ticks": ""
             }
            },
            "type": "scattermapbox"
           }
          ],
          "scatterpolar": [
           {
            "marker": {
             "colorbar": {
              "outlinewidth": 0,
              "ticks": ""
             }
            },
            "type": "scatterpolar"
           }
          ],
          "scatterpolargl": [
           {
            "marker": {
             "colorbar": {
              "outlinewidth": 0,
              "ticks": ""
             }
            },
            "type": "scatterpolargl"
           }
          ],
          "scatterternary": [
           {
            "marker": {
             "colorbar": {
              "outlinewidth": 0,
              "ticks": ""
             }
            },
            "type": "scatterternary"
           }
          ],
          "surface": [
           {
            "colorbar": {
             "outlinewidth": 0,
             "ticks": ""
            },
            "colorscale": [
             [
              0,
              "#0d0887"
             ],
             [
              0.1111111111111111,
              "#46039f"
             ],
             [
              0.2222222222222222,
              "#7201a8"
             ],
             [
              0.3333333333333333,
              "#9c179e"
             ],
             [
              0.4444444444444444,
              "#bd3786"
             ],
             [
              0.5555555555555556,
              "#d8576b"
             ],
             [
              0.6666666666666666,
              "#ed7953"
             ],
             [
              0.7777777777777778,
              "#fb9f3a"
             ],
             [
              0.8888888888888888,
              "#fdca26"
             ],
             [
              1,
              "#f0f921"
             ]
            ],
            "type": "surface"
           }
          ],
          "table": [
           {
            "cells": {
             "fill": {
              "color": "#EBF0F8"
             },
             "line": {
              "color": "white"
             }
            },
            "header": {
             "fill": {
              "color": "#C8D4E3"
             },
             "line": {
              "color": "white"
             }
            },
            "type": "table"
           }
          ]
         },
         "layout": {
          "annotationdefaults": {
           "arrowcolor": "#2a3f5f",
           "arrowhead": 0,
           "arrowwidth": 1
          },
          "autotypenumbers": "strict",
          "coloraxis": {
           "colorbar": {
            "outlinewidth": 0,
            "ticks": ""
           }
          },
          "colorscale": {
           "diverging": [
            [
             0,
             "#8e0152"
            ],
            [
             0.1,
             "#c51b7d"
            ],
            [
             0.2,
             "#de77ae"
            ],
            [
             0.3,
             "#f1b6da"
            ],
            [
             0.4,
             "#fde0ef"
            ],
            [
             0.5,
             "#f7f7f7"
            ],
            [
             0.6,
             "#e6f5d0"
            ],
            [
             0.7,
             "#b8e186"
            ],
            [
             0.8,
             "#7fbc41"
            ],
            [
             0.9,
             "#4d9221"
            ],
            [
             1,
             "#276419"
            ]
           ],
           "sequential": [
            [
             0,
             "#0d0887"
            ],
            [
             0.1111111111111111,
             "#46039f"
            ],
            [
             0.2222222222222222,
             "#7201a8"
            ],
            [
             0.3333333333333333,
             "#9c179e"
            ],
            [
             0.4444444444444444,
             "#bd3786"
            ],
            [
             0.5555555555555556,
             "#d8576b"
            ],
            [
             0.6666666666666666,
             "#ed7953"
            ],
            [
             0.7777777777777778,
             "#fb9f3a"
            ],
            [
             0.8888888888888888,
             "#fdca26"
            ],
            [
             1,
             "#f0f921"
            ]
           ],
           "sequentialminus": [
            [
             0,
             "#0d0887"
            ],
            [
             0.1111111111111111,
             "#46039f"
            ],
            [
             0.2222222222222222,
             "#7201a8"
            ],
            [
             0.3333333333333333,
             "#9c179e"
            ],
            [
             0.4444444444444444,
             "#bd3786"
            ],
            [
             0.5555555555555556,
             "#d8576b"
            ],
            [
             0.6666666666666666,
             "#ed7953"
            ],
            [
             0.7777777777777778,
             "#fb9f3a"
            ],
            [
             0.8888888888888888,
             "#fdca26"
            ],
            [
             1,
             "#f0f921"
            ]
           ]
          },
          "colorway": [
           "#636efa",
           "#EF553B",
           "#00cc96",
           "#ab63fa",
           "#FFA15A",
           "#19d3f3",
           "#FF6692",
           "#B6E880",
           "#FF97FF",
           "#FECB52"
          ],
          "font": {
           "color": "#2a3f5f"
          },
          "geo": {
           "bgcolor": "white",
           "lakecolor": "white",
           "landcolor": "#E5ECF6",
           "showlakes": true,
           "showland": true,
           "subunitcolor": "white"
          },
          "hoverlabel": {
           "align": "left"
          },
          "hovermode": "closest",
          "mapbox": {
           "style": "light"
          },
          "paper_bgcolor": "white",
          "plot_bgcolor": "#E5ECF6",
          "polar": {
           "angularaxis": {
            "gridcolor": "white",
            "linecolor": "white",
            "ticks": ""
           },
           "bgcolor": "#E5ECF6",
           "radialaxis": {
            "gridcolor": "white",
            "linecolor": "white",
            "ticks": ""
           }
          },
          "scene": {
           "xaxis": {
            "backgroundcolor": "#E5ECF6",
            "gridcolor": "white",
            "gridwidth": 2,
            "linecolor": "white",
            "showbackground": true,
            "ticks": "",
            "zerolinecolor": "white"
           },
           "yaxis": {
            "backgroundcolor": "#E5ECF6",
            "gridcolor": "white",
            "gridwidth": 2,
            "linecolor": "white",
            "showbackground": true,
            "ticks": "",
            "zerolinecolor": "white"
           },
           "zaxis": {
            "backgroundcolor": "#E5ECF6",
            "gridcolor": "white",
            "gridwidth": 2,
            "linecolor": "white",
            "showbackground": true,
            "ticks": "",
            "zerolinecolor": "white"
           }
          },
          "shapedefaults": {
           "line": {
            "color": "#2a3f5f"
           }
          },
          "ternary": {
           "aaxis": {
            "gridcolor": "white",
            "linecolor": "white",
            "ticks": ""
           },
           "baxis": {
            "gridcolor": "white",
            "linecolor": "white",
            "ticks": ""
           },
           "bgcolor": "#E5ECF6",
           "caxis": {
            "gridcolor": "white",
            "linecolor": "white",
            "ticks": ""
           }
          },
          "title": {
           "x": 0.05
          },
          "xaxis": {
           "automargin": true,
           "gridcolor": "white",
           "linecolor": "white",
           "ticks": "",
           "title": {
            "standoff": 15
           },
           "zerolinecolor": "white",
           "zerolinewidth": 2
          },
          "yaxis": {
           "automargin": true,
           "gridcolor": "white",
           "linecolor": "white",
           "ticks": "",
           "title": {
            "standoff": 15
           },
           "zerolinecolor": "white",
           "zerolinewidth": 2
          }
         }
        },
        "title": {
         "text": "Variáveis qualitativas da base de dados"
        },
        "width": 750,
        "xaxis": {
         "anchor": "y",
         "domain": [
          0,
          0.45
         ]
        },
        "xaxis2": {
         "anchor": "y2",
         "domain": [
          0.55,
          1
         ]
        },
        "xaxis3": {
         "anchor": "y3",
         "domain": [
          0,
          0.45
         ]
        },
        "xaxis4": {
         "anchor": "y4",
         "domain": [
          0.55,
          1
         ]
        },
        "yaxis": {
         "anchor": "x",
         "domain": [
          0.625,
          1
         ],
         "title": {
          "text": "quantidade"
         }
        },
        "yaxis2": {
         "anchor": "x2",
         "domain": [
          0.625,
          1
         ],
         "title": {
          "text": "quantidade"
         }
        },
        "yaxis3": {
         "anchor": "x3",
         "domain": [
          0,
          0.375
         ],
         "title": {
          "text": "quantidade"
         }
        },
        "yaxis4": {
         "anchor": "x4",
         "domain": [
          0,
          0.375
         ],
         "title": {
          "text": "quantidade"
         }
        }
       }
      }
     },
     "metadata": {},
     "output_type": "display_data"
    }
   ],
   "source": [
    "# desenha os gráficos de barras na forma de subplots\n",
    "def plotly_subplots_bar(nrows, ncols, subplot_titles, data_frame)-> None:\n",
    "\n",
    "    fig = make_subplots(rows=nrows, cols=ncols, subplot_titles=subplot_titles)\n",
    "\n",
    "    i=1\n",
    "    j=1\n",
    "    for col in data_frame.columns:\n",
    "        fig.add_trace(go.Bar(x=data_frame[col].value_counts().index, \n",
    "                            y=data_frame[col].value_counts().values, \n",
    "                            name=col), \n",
    "                            row=i, col=j)\n",
    "        fig.update_yaxes(title_text='quantidade')\n",
    "        \n",
    "        if  i < nrows:\n",
    "            i+=1\n",
    "            if j< ncols:\n",
    "                j+=1\n",
    "            else:\n",
    "                j = 1\n",
    "        else:\n",
    "            i = 1\n",
    "        \n",
    "        \n",
    "\n",
    "    fig.update_layout(height=750, width=750,\n",
    "                    title_text=\"Variáveis qualitativas da base de dados\")\n",
    "\n",
    "    fig.show()\n",
    "\n",
    "plotly_subplots_bar(2,2,['marca', 'tipo', 'tipo de motor', 'modelo'], data_quali)"
   ]
  },
  {
   "cell_type": "markdown",
   "metadata": {},
   "source": [
    "Observações sobre as variáveis qualitativas:\n",
    "- __brand__:  A marca é um atributo que descreve a origem ou o fabricante do produto. Neste caso, as marcas correspondem a 6 categorias: 'Chevrolet', 'Hyundai', 'Ford', 'Honda', 'Subaru', 'Volkswagen'. A marca mais frequente na base de dados é 'Honda', com 23 ocorrências, seguida por 'Volkswagen', com 11 ocorrências. As marcas com a menor quantidade de dados na base são 'Subaru' e Chevrolet, ambas com 3 ocorrências.\n",
    "- __type__: O único tipo de carro presente na base o 'sedan'.\n",
    "- __engine_type__: existem dois tipos de motor na base de dados, quais sejam: 'gas' (49 veículos) e 'hybrid_gas_eletric' (3 veículos). \n",
    "- __model__:  Existem 15 modelos de veículos na base de dados, sendo mais frequente o 'Civic' (14 carros) e os menos frequentes, com apenas 1 ocorrência são: 'Focus', 'Clarity', 'Legacy', 'Taurus' e 'Volt LT'.\n"
   ]
  },
  {
   "cell_type": "markdown",
   "metadata": {},
   "source": [
    "### Transformação das variáveis qualitativas em variáveis _dummy_ (one-hot encoding)\n",
    "\n",
    "Considerando que _type_ é uma variável que apresenta somente uma categoria, ela não será considerada no modelo. Logo, somente as outras variáveis serão submetidas ao _encoding_. Mesmo não sendo o mais eficiente em termos de alocação de espaço em memória, como ele é de fácil compreensão e a base de dados é pequena, entendemos ser conveniente utilizar este método."
   ]
  },
  {
   "cell_type": "code",
   "execution_count": 47,
   "metadata": {},
   "outputs": [],
   "source": [
    "d_engine_type = pd.get_dummies(data_quali[['engine_type']], drop_first=True, dtype=float)\n",
    "d_brand = pd.get_dummies(data_quali[['brand']], drop_first=True, dtype=float)\n",
    "d_model = pd.get_dummies(data_quali[['model']], drop_first=True, dtype=float)"
   ]
  },
  {
   "cell_type": "code",
   "execution_count": 48,
   "metadata": {},
   "outputs": [
    {
     "data": {
      "text/html": [
       "<div class=\"itables\">\n",
       "<style>.itables table td {\n",
       "    text-overflow: ellipsis;\n",
       "    overflow: hidden;\n",
       "}\n",
       "\n",
       ".itables table th {\n",
       "    text-overflow: ellipsis;\n",
       "    overflow: hidden;\n",
       "}\n",
       "\n",
       ".itables thead input {\n",
       "    width: 100%;\n",
       "    padding: 3px;\n",
       "    box-sizing: border-box;\n",
       "}\n",
       "\n",
       ".itables tfoot input {\n",
       "    width: 100%;\n",
       "    padding: 3px;\n",
       "    box-sizing: border-box;\n",
       "}\n",
       "\n",
       ".itables { font-size: medium; }\n",
       "</style>\n",
       "<table id=\"itables_3ef244e4_5795_4865_8da1_1c2ac4330a6e\" class=\"display nowrap\" data-quarto-disable-processing=\"true\" style=\"table-layout:auto;width:auto;margin:auto;caption-side:bottom\">\n",
       "<thead>\n",
       "    <tr style=\"text-align: right;\">\n",
       "      \n",
       "      <th>model_Civic</th>\n",
       "      <th>model_Clarity</th>\n",
       "      <th>model_Elantra SE</th>\n",
       "      <th>model_Focus</th>\n",
       "      <th>model_Fusion</th>\n",
       "      <th>model_Impreza</th>\n",
       "      <th>model_Insight</th>\n",
       "      <th>model_Jetta</th>\n",
       "      <th>model_Legacy</th>\n",
       "      <th>model_Malibu</th>\n",
       "      <th>model_Passat</th>\n",
       "      <th>model_Sonata</th>\n",
       "      <th>model_Taurus</th>\n",
       "      <th>model_Volt LT</th>\n",
       "    </tr>\n",
       "  </thead><tbody><tr><td>Loading... (need <a href=https://mwouts.github.io/itables/troubleshooting.html>help</a>?)</td></tr></tbody>\n",
       "\n",
       "</table>\n",
       "<script type=\"module\">\n",
       "    const dt = (await import(window._datatables_src_for_itables_1_7_0)).default;\n",
       "    dt($);\n",
       "\n",
       "    $(document).ready(function () {\n",
       "        document.querySelectorAll(\"#itables_3ef244e4_5795_4865_8da1_1c2ac4330a6e:not(.dataTable)\").forEach(table => {\n",
       "            // Define the table data\n",
       "            const data = [[0.0, 0.0, 0.0, 0.0, 0.0, 0.0, 0.0, 0.0, 0.0, 0.0, 0.0, 0.0, 0.0, 1.0], [0.0, 0.0, 1.0, 0.0, 0.0, 0.0, 0.0, 0.0, 0.0, 0.0, 0.0, 0.0, 0.0, 0.0], [0.0, 0.0, 0.0, 1.0, 0.0, 0.0, 0.0, 0.0, 0.0, 0.0, 0.0, 0.0, 0.0, 0.0], [1.0, 0.0, 0.0, 0.0, 0.0, 0.0, 0.0, 0.0, 0.0, 0.0, 0.0, 0.0, 0.0, 0.0], [0.0, 0.0, 1.0, 0.0, 0.0, 0.0, 0.0, 0.0, 0.0, 0.0, 0.0, 0.0, 0.0, 0.0], [1.0, 0.0, 0.0, 0.0, 0.0, 0.0, 0.0, 0.0, 0.0, 0.0, 0.0, 0.0, 0.0, 0.0], [0.0, 0.0, 0.0, 0.0, 0.0, 0.0, 0.0, 0.0, 1.0, 0.0, 0.0, 0.0, 0.0, 0.0], [0.0, 1.0, 0.0, 0.0, 0.0, 0.0, 0.0, 0.0, 0.0, 0.0, 0.0, 0.0, 0.0, 0.0], [0.0, 0.0, 0.0, 0.0, 0.0, 0.0, 0.0, 1.0, 0.0, 0.0, 0.0, 0.0, 0.0, 0.0], [0.0, 0.0, 0.0, 0.0, 0.0, 0.0, 0.0, 1.0, 0.0, 0.0, 0.0, 0.0, 0.0, 0.0], [1.0, 0.0, 0.0, 0.0, 0.0, 0.0, 0.0, 0.0, 0.0, 0.0, 0.0, 0.0, 0.0, 0.0], [1.0, 0.0, 0.0, 0.0, 0.0, 0.0, 0.0, 0.0, 0.0, 0.0, 0.0, 0.0, 0.0, 0.0], [1.0, 0.0, 0.0, 0.0, 0.0, 0.0, 0.0, 0.0, 0.0, 0.0, 0.0, 0.0, 0.0, 0.0], [0.0, 0.0, 0.0, 0.0, 0.0, 0.0, 0.0, 0.0, 0.0, 0.0, 0.0, 0.0, 0.0, 0.0], [1.0, 0.0, 0.0, 0.0, 0.0, 0.0, 0.0, 0.0, 0.0, 0.0, 0.0, 0.0, 0.0, 0.0], [0.0, 0.0, 0.0, 0.0, 0.0, 1.0, 0.0, 0.0, 0.0, 0.0, 0.0, 0.0, 0.0, 0.0], [0.0, 0.0, 0.0, 0.0, 0.0, 0.0, 0.0, 0.0, 0.0, 0.0, 0.0, 0.0, 0.0, 0.0], [1.0, 0.0, 0.0, 0.0, 0.0, 0.0, 0.0, 0.0, 0.0, 0.0, 0.0, 0.0, 0.0, 0.0], [0.0, 0.0, 0.0, 0.0, 0.0, 0.0, 1.0, 0.0, 0.0, 0.0, 0.0, 0.0, 0.0, 0.0], [0.0, 0.0, 0.0, 0.0, 0.0, 0.0, 0.0, 1.0, 0.0, 0.0, 0.0, 0.0, 0.0, 0.0], [0.0, 0.0, 0.0, 0.0, 0.0, 0.0, 0.0, 0.0, 0.0, 0.0, 0.0, 0.0, 1.0, 0.0], [0.0, 0.0, 0.0, 0.0, 1.0, 0.0, 0.0, 0.0, 0.0, 0.0, 0.0, 0.0, 0.0, 0.0], [0.0, 0.0, 0.0, 0.0, 0.0, 0.0, 0.0, 0.0, 0.0, 1.0, 0.0, 0.0, 0.0, 0.0], [0.0, 0.0, 0.0, 0.0, 0.0, 0.0, 0.0, 0.0, 0.0, 0.0, 1.0, 0.0, 0.0, 0.0], [0.0, 0.0, 0.0, 0.0, 0.0, 0.0, 0.0, 0.0, 0.0, 0.0, 1.0, 0.0, 0.0, 0.0], [0.0, 0.0, 0.0, 0.0, 0.0, 0.0, 0.0, 0.0, 0.0, 0.0, 1.0, 0.0, 0.0, 0.0], [0.0, 0.0, 0.0, 0.0, 0.0, 0.0, 0.0, 0.0, 0.0, 0.0, 0.0, 0.0, 0.0, 0.0], [1.0, 0.0, 0.0, 0.0, 0.0, 0.0, 0.0, 0.0, 0.0, 0.0, 0.0, 0.0, 0.0, 0.0], [0.0, 0.0, 0.0, 0.0, 0.0, 0.0, 0.0, 0.0, 0.0, 0.0, 0.0, 1.0, 0.0, 0.0], [1.0, 0.0, 0.0, 0.0, 0.0, 0.0, 0.0, 0.0, 0.0, 0.0, 0.0, 0.0, 0.0, 0.0], [0.0, 0.0, 0.0, 0.0, 0.0, 0.0, 0.0, 0.0, 0.0, 0.0, 0.0, 1.0, 0.0, 0.0], [1.0, 0.0, 0.0, 0.0, 0.0, 0.0, 0.0, 0.0, 0.0, 0.0, 0.0, 0.0, 0.0, 0.0], [0.0, 0.0, 0.0, 0.0, 0.0, 1.0, 0.0, 0.0, 0.0, 0.0, 0.0, 0.0, 0.0, 0.0], [0.0, 0.0, 0.0, 0.0, 0.0, 0.0, 0.0, 1.0, 0.0, 0.0, 0.0, 0.0, 0.0, 0.0], [0.0, 0.0, 0.0, 0.0, 0.0, 0.0, 0.0, 1.0, 0.0, 0.0, 0.0, 0.0, 0.0, 0.0], [1.0, 0.0, 0.0, 0.0, 0.0, 0.0, 0.0, 0.0, 0.0, 0.0, 0.0, 0.0, 0.0, 0.0], [0.0, 0.0, 0.0, 0.0, 0.0, 0.0, 0.0, 0.0, 0.0, 1.0, 0.0, 0.0, 0.0, 0.0], [0.0, 0.0, 0.0, 0.0, 0.0, 0.0, 0.0, 1.0, 0.0, 0.0, 0.0, 0.0, 0.0, 0.0], [0.0, 0.0, 0.0, 0.0, 0.0, 0.0, 0.0, 0.0, 0.0, 0.0, 0.0, 0.0, 0.0, 0.0], [0.0, 0.0, 0.0, 0.0, 1.0, 0.0, 0.0, 0.0, 0.0, 0.0, 0.0, 0.0, 0.0, 0.0], [0.0, 0.0, 0.0, 0.0, 0.0, 0.0, 0.0, 0.0, 0.0, 0.0, 0.0, 0.0, 0.0, 0.0], [1.0, 0.0, 0.0, 0.0, 0.0, 0.0, 0.0, 0.0, 0.0, 0.0, 0.0, 0.0, 0.0, 0.0], [0.0, 0.0, 0.0, 0.0, 0.0, 0.0, 0.0, 0.0, 0.0, 0.0, 0.0, 0.0, 0.0, 0.0], [1.0, 0.0, 0.0, 0.0, 0.0, 0.0, 0.0, 0.0, 0.0, 0.0, 0.0, 0.0, 0.0, 0.0], [0.0, 0.0, 0.0, 0.0, 0.0, 0.0, 0.0, 0.0, 0.0, 0.0, 1.0, 0.0, 0.0, 0.0], [0.0, 0.0, 0.0, 0.0, 0.0, 0.0, 0.0, 1.0, 0.0, 0.0, 0.0, 0.0, 0.0, 0.0], [1.0, 0.0, 0.0, 0.0, 0.0, 0.0, 0.0, 0.0, 0.0, 0.0, 0.0, 0.0, 0.0, 0.0], [0.0, 0.0, 0.0, 0.0, 0.0, 0.0, 0.0, 0.0, 0.0, 0.0, 0.0, 1.0, 0.0, 0.0], [0.0, 0.0, 1.0, 0.0, 0.0, 0.0, 0.0, 0.0, 0.0, 0.0, 0.0, 0.0, 0.0, 0.0], [0.0, 0.0, 0.0, 0.0, 1.0, 0.0, 0.0, 0.0, 0.0, 0.0, 0.0, 0.0, 0.0, 0.0], [0.0, 0.0, 1.0, 0.0, 0.0, 0.0, 0.0, 0.0, 0.0, 0.0, 0.0, 0.0, 0.0, 0.0], [0.0, 0.0, 0.0, 0.0, 0.0, 0.0, 0.0, 0.0, 0.0, 0.0, 0.0, 0.0, 0.0, 0.0]];\n",
       "\n",
       "            // Define the dt_args\n",
       "            let dt_args = {\"order\": []};\n",
       "            dt_args[\"data\"] = data;\n",
       "\n",
       "            \n",
       "            new $.fn.dataTable(table, dt_args);\n",
       "        });\n",
       "    });\n",
       "</script>\n",
       "</div>\n"
      ],
      "text/plain": [
       "    model_Civic  model_Clarity  model_Elantra SE  model_Focus  model_Fusion  \\\n",
       "0           0.0            0.0               0.0          0.0           0.0   \n",
       "1           0.0            0.0               1.0          0.0           0.0   \n",
       "2           0.0            0.0               0.0          1.0           0.0   \n",
       "3           1.0            0.0               0.0          0.0           0.0   \n",
       "4           0.0            0.0               1.0          0.0           0.0   \n",
       "5           1.0            0.0               0.0          0.0           0.0   \n",
       "6           0.0            0.0               0.0          0.0           0.0   \n",
       "7           0.0            1.0               0.0          0.0           0.0   \n",
       "8           0.0            0.0               0.0          0.0           0.0   \n",
       "9           0.0            0.0               0.0          0.0           0.0   \n",
       "10          1.0            0.0               0.0          0.0           0.0   \n",
       "11          1.0            0.0               0.0          0.0           0.0   \n",
       "12          1.0            0.0               0.0          0.0           0.0   \n",
       "13          0.0            0.0               0.0          0.0           0.0   \n",
       "14          1.0            0.0               0.0          0.0           0.0   \n",
       "15          0.0            0.0               0.0          0.0           0.0   \n",
       "16          0.0            0.0               0.0          0.0           0.0   \n",
       "17          1.0            0.0               0.0          0.0           0.0   \n",
       "18          0.0            0.0               0.0          0.0           0.0   \n",
       "19          0.0            0.0               0.0          0.0           0.0   \n",
       "20          0.0            0.0               0.0          0.0           0.0   \n",
       "21          0.0            0.0               0.0          0.0           1.0   \n",
       "22          0.0            0.0               0.0          0.0           0.0   \n",
       "23          0.0            0.0               0.0          0.0           0.0   \n",
       "24          0.0            0.0               0.0          0.0           0.0   \n",
       "25          0.0            0.0               0.0          0.0           0.0   \n",
       "26          0.0            0.0               0.0          0.0           0.0   \n",
       "27          1.0            0.0               0.0          0.0           0.0   \n",
       "28          0.0            0.0               0.0          0.0           0.0   \n",
       "29          1.0            0.0               0.0          0.0           0.0   \n",
       "30          0.0            0.0               0.0          0.0           0.0   \n",
       "31          1.0            0.0               0.0          0.0           0.0   \n",
       "32          0.0            0.0               0.0          0.0           0.0   \n",
       "33          0.0            0.0               0.0          0.0           0.0   \n",
       "34          0.0            0.0               0.0          0.0           0.0   \n",
       "35          1.0            0.0               0.0          0.0           0.0   \n",
       "36          0.0            0.0               0.0          0.0           0.0   \n",
       "37          0.0            0.0               0.0          0.0           0.0   \n",
       "38          0.0            0.0               0.0          0.0           0.0   \n",
       "39          0.0            0.0               0.0          0.0           1.0   \n",
       "40          0.0            0.0               0.0          0.0           0.0   \n",
       "41          1.0            0.0               0.0          0.0           0.0   \n",
       "42          0.0            0.0               0.0          0.0           0.0   \n",
       "43          1.0            0.0               0.0          0.0           0.0   \n",
       "44          0.0            0.0               0.0          0.0           0.0   \n",
       "45          0.0            0.0               0.0          0.0           0.0   \n",
       "46          1.0            0.0               0.0          0.0           0.0   \n",
       "47          0.0            0.0               0.0          0.0           0.0   \n",
       "48          0.0            0.0               1.0          0.0           0.0   \n",
       "49          0.0            0.0               0.0          0.0           1.0   \n",
       "50          0.0            0.0               1.0          0.0           0.0   \n",
       "51          0.0            0.0               0.0          0.0           0.0   \n",
       "\n",
       "    model_Impreza  model_Insight  model_Jetta  model_Legacy  model_Malibu  \\\n",
       "0             0.0            0.0          0.0           0.0           0.0   \n",
       "1             0.0            0.0          0.0           0.0           0.0   \n",
       "2             0.0            0.0          0.0           0.0           0.0   \n",
       "3             0.0            0.0          0.0           0.0           0.0   \n",
       "4             0.0            0.0          0.0           0.0           0.0   \n",
       "5             0.0            0.0          0.0           0.0           0.0   \n",
       "6             0.0            0.0          0.0           1.0           0.0   \n",
       "7             0.0            0.0          0.0           0.0           0.0   \n",
       "8             0.0            0.0          1.0           0.0           0.0   \n",
       "9             0.0            0.0          1.0           0.0           0.0   \n",
       "10            0.0            0.0          0.0           0.0           0.0   \n",
       "11            0.0            0.0          0.0           0.0           0.0   \n",
       "12            0.0            0.0          0.0           0.0           0.0   \n",
       "13            0.0            0.0          0.0           0.0           0.0   \n",
       "14            0.0            0.0          0.0           0.0           0.0   \n",
       "15            1.0            0.0          0.0           0.0           0.0   \n",
       "16            0.0            0.0          0.0           0.0           0.0   \n",
       "17            0.0            0.0          0.0           0.0           0.0   \n",
       "18            0.0            1.0          0.0           0.0           0.0   \n",
       "19            0.0            0.0          1.0           0.0           0.0   \n",
       "20            0.0            0.0          0.0           0.0           0.0   \n",
       "21            0.0            0.0          0.0           0.0           0.0   \n",
       "22            0.0            0.0          0.0           0.0           1.0   \n",
       "23            0.0            0.0          0.0           0.0           0.0   \n",
       "24            0.0            0.0          0.0           0.0           0.0   \n",
       "25            0.0            0.0          0.0           0.0           0.0   \n",
       "26            0.0            0.0          0.0           0.0           0.0   \n",
       "27            0.0            0.0          0.0           0.0           0.0   \n",
       "28            0.0            0.0          0.0           0.0           0.0   \n",
       "29            0.0            0.0          0.0           0.0           0.0   \n",
       "30            0.0            0.0          0.0           0.0           0.0   \n",
       "31            0.0            0.0          0.0           0.0           0.0   \n",
       "32            1.0            0.0          0.0           0.0           0.0   \n",
       "33            0.0            0.0          1.0           0.0           0.0   \n",
       "34            0.0            0.0          1.0           0.0           0.0   \n",
       "35            0.0            0.0          0.0           0.0           0.0   \n",
       "36            0.0            0.0          0.0           0.0           1.0   \n",
       "37            0.0            0.0          1.0           0.0           0.0   \n",
       "38            0.0            0.0          0.0           0.0           0.0   \n",
       "39            0.0            0.0          0.0           0.0           0.0   \n",
       "40            0.0            0.0          0.0           0.0           0.0   \n",
       "41            0.0            0.0          0.0           0.0           0.0   \n",
       "42            0.0            0.0          0.0           0.0           0.0   \n",
       "43            0.0            0.0          0.0           0.0           0.0   \n",
       "44            0.0            0.0          0.0           0.0           0.0   \n",
       "45            0.0            0.0          1.0           0.0           0.0   \n",
       "46            0.0            0.0          0.0           0.0           0.0   \n",
       "47            0.0            0.0          0.0           0.0           0.0   \n",
       "48            0.0            0.0          0.0           0.0           0.0   \n",
       "49            0.0            0.0          0.0           0.0           0.0   \n",
       "50            0.0            0.0          0.0           0.0           0.0   \n",
       "51            0.0            0.0          0.0           0.0           0.0   \n",
       "\n",
       "    model_Passat  model_Sonata  model_Taurus  model_Volt LT  \n",
       "0            0.0           0.0           0.0            1.0  \n",
       "1            0.0           0.0           0.0            0.0  \n",
       "2            0.0           0.0           0.0            0.0  \n",
       "3            0.0           0.0           0.0            0.0  \n",
       "4            0.0           0.0           0.0            0.0  \n",
       "5            0.0           0.0           0.0            0.0  \n",
       "6            0.0           0.0           0.0            0.0  \n",
       "7            0.0           0.0           0.0            0.0  \n",
       "8            0.0           0.0           0.0            0.0  \n",
       "9            0.0           0.0           0.0            0.0  \n",
       "10           0.0           0.0           0.0            0.0  \n",
       "11           0.0           0.0           0.0            0.0  \n",
       "12           0.0           0.0           0.0            0.0  \n",
       "13           0.0           0.0           0.0            0.0  \n",
       "14           0.0           0.0           0.0            0.0  \n",
       "15           0.0           0.0           0.0            0.0  \n",
       "16           0.0           0.0           0.0            0.0  \n",
       "17           0.0           0.0           0.0            0.0  \n",
       "18           0.0           0.0           0.0            0.0  \n",
       "19           0.0           0.0           0.0            0.0  \n",
       "20           0.0           0.0           1.0            0.0  \n",
       "21           0.0           0.0           0.0            0.0  \n",
       "22           0.0           0.0           0.0            0.0  \n",
       "23           1.0           0.0           0.0            0.0  \n",
       "24           1.0           0.0           0.0            0.0  \n",
       "25           1.0           0.0           0.0            0.0  \n",
       "26           0.0           0.0           0.0            0.0  \n",
       "27           0.0           0.0           0.0            0.0  \n",
       "28           0.0           1.0           0.0            0.0  \n",
       "29           0.0           0.0           0.0            0.0  \n",
       "30           0.0           1.0           0.0            0.0  \n",
       "31           0.0           0.0           0.0            0.0  \n",
       "32           0.0           0.0           0.0            0.0  \n",
       "33           0.0           0.0           0.0            0.0  \n",
       "34           0.0           0.0           0.0            0.0  \n",
       "35           0.0           0.0           0.0            0.0  \n",
       "36           0.0           0.0           0.0            0.0  \n",
       "37           0.0           0.0           0.0            0.0  \n",
       "38           0.0           0.0           0.0            0.0  \n",
       "39           0.0           0.0           0.0            0.0  \n",
       "40           0.0           0.0           0.0            0.0  \n",
       "41           0.0           0.0           0.0            0.0  \n",
       "42           0.0           0.0           0.0            0.0  \n",
       "43           0.0           0.0           0.0            0.0  \n",
       "44           1.0           0.0           0.0            0.0  \n",
       "45           0.0           0.0           0.0            0.0  \n",
       "46           0.0           0.0           0.0            0.0  \n",
       "47           0.0           1.0           0.0            0.0  \n",
       "48           0.0           0.0           0.0            0.0  \n",
       "49           0.0           0.0           0.0            0.0  \n",
       "50           0.0           0.0           0.0            0.0  \n",
       "51           0.0           0.0           0.0            0.0  "
      ]
     },
     "execution_count": 48,
     "metadata": {},
     "output_type": "execute_result"
    }
   ],
   "source": [
    "d_model"
   ]
  },
  {
   "cell_type": "code",
   "execution_count": 49,
   "metadata": {},
   "outputs": [
    {
     "data": {
      "text/html": [
       "<div class=\"itables\">\n",
       "<style>.itables table td {\n",
       "    text-overflow: ellipsis;\n",
       "    overflow: hidden;\n",
       "}\n",
       "\n",
       ".itables table th {\n",
       "    text-overflow: ellipsis;\n",
       "    overflow: hidden;\n",
       "}\n",
       "\n",
       ".itables thead input {\n",
       "    width: 100%;\n",
       "    padding: 3px;\n",
       "    box-sizing: border-box;\n",
       "}\n",
       "\n",
       ".itables tfoot input {\n",
       "    width: 100%;\n",
       "    padding: 3px;\n",
       "    box-sizing: border-box;\n",
       "}\n",
       "\n",
       ".itables { font-size: medium; }\n",
       "</style>\n",
       "<table id=\"itables_4d8803f6_f662_43ac_8a16_9721101848bb\" class=\"display nowrap\" data-quarto-disable-processing=\"true\" style=\"table-layout:auto;width:auto;margin:auto;caption-side:bottom\">\n",
       "<thead>\n",
       "    <tr style=\"text-align: right;\">\n",
       "      \n",
       "      <th>brand_Ford</th>\n",
       "      <th>brand_Honda</th>\n",
       "      <th>brand_Hyundai</th>\n",
       "      <th>brand_Subaru</th>\n",
       "      <th>brand_Volkswagen</th>\n",
       "    </tr>\n",
       "  </thead><tbody><tr><td>Loading... (need <a href=https://mwouts.github.io/itables/troubleshooting.html>help</a>?)</td></tr></tbody>\n",
       "\n",
       "</table>\n",
       "<script type=\"module\">\n",
       "    const dt = (await import(window._datatables_src_for_itables_1_7_0)).default;\n",
       "    dt($);\n",
       "\n",
       "    $(document).ready(function () {\n",
       "        document.querySelectorAll(\"#itables_4d8803f6_f662_43ac_8a16_9721101848bb:not(.dataTable)\").forEach(table => {\n",
       "            // Define the table data\n",
       "            const data = [[0.0, 0.0, 0.0, 0.0, 0.0], [0.0, 0.0, 1.0, 0.0, 0.0], [1.0, 0.0, 0.0, 0.0, 0.0], [0.0, 1.0, 0.0, 0.0, 0.0], [0.0, 0.0, 1.0, 0.0, 0.0], [0.0, 1.0, 0.0, 0.0, 0.0], [0.0, 0.0, 0.0, 1.0, 0.0], [0.0, 1.0, 0.0, 0.0, 0.0], [0.0, 0.0, 0.0, 0.0, 1.0], [0.0, 0.0, 0.0, 0.0, 1.0], [0.0, 1.0, 0.0, 0.0, 0.0], [0.0, 1.0, 0.0, 0.0, 0.0], [0.0, 1.0, 0.0, 0.0, 0.0], [0.0, 1.0, 0.0, 0.0, 0.0], [0.0, 1.0, 0.0, 0.0, 0.0], [0.0, 0.0, 0.0, 1.0, 0.0], [0.0, 1.0, 0.0, 0.0, 0.0], [0.0, 1.0, 0.0, 0.0, 0.0], [0.0, 1.0, 0.0, 0.0, 0.0], [0.0, 0.0, 0.0, 0.0, 1.0], [1.0, 0.0, 0.0, 0.0, 0.0], [1.0, 0.0, 0.0, 0.0, 0.0], [0.0, 0.0, 0.0, 0.0, 0.0], [0.0, 0.0, 0.0, 0.0, 1.0], [0.0, 0.0, 0.0, 0.0, 1.0], [0.0, 0.0, 0.0, 0.0, 1.0], [0.0, 1.0, 0.0, 0.0, 0.0], [0.0, 1.0, 0.0, 0.0, 0.0], [0.0, 0.0, 1.0, 0.0, 0.0], [0.0, 1.0, 0.0, 0.0, 0.0], [0.0, 0.0, 1.0, 0.0, 0.0], [0.0, 1.0, 0.0, 0.0, 0.0], [0.0, 0.0, 0.0, 1.0, 0.0], [0.0, 0.0, 0.0, 0.0, 1.0], [0.0, 0.0, 0.0, 0.0, 1.0], [0.0, 1.0, 0.0, 0.0, 0.0], [0.0, 0.0, 0.0, 0.0, 0.0], [0.0, 0.0, 0.0, 0.0, 1.0], [0.0, 1.0, 0.0, 0.0, 0.0], [1.0, 0.0, 0.0, 0.0, 0.0], [0.0, 1.0, 0.0, 0.0, 0.0], [0.0, 1.0, 0.0, 0.0, 0.0], [0.0, 1.0, 0.0, 0.0, 0.0], [0.0, 1.0, 0.0, 0.0, 0.0], [0.0, 0.0, 0.0, 0.0, 1.0], [0.0, 0.0, 0.0, 0.0, 1.0], [0.0, 1.0, 0.0, 0.0, 0.0], [0.0, 0.0, 1.0, 0.0, 0.0], [0.0, 0.0, 1.0, 0.0, 0.0], [1.0, 0.0, 0.0, 0.0, 0.0], [0.0, 0.0, 1.0, 0.0, 0.0], [0.0, 1.0, 0.0, 0.0, 0.0]];\n",
       "\n",
       "            // Define the dt_args\n",
       "            let dt_args = {\"order\": []};\n",
       "            dt_args[\"data\"] = data;\n",
       "\n",
       "            \n",
       "            new $.fn.dataTable(table, dt_args);\n",
       "        });\n",
       "    });\n",
       "</script>\n",
       "</div>\n"
      ],
      "text/plain": [
       "    brand_Ford  brand_Honda  brand_Hyundai  brand_Subaru  brand_Volkswagen\n",
       "0          0.0          0.0            0.0           0.0               0.0\n",
       "1          0.0          0.0            1.0           0.0               0.0\n",
       "2          1.0          0.0            0.0           0.0               0.0\n",
       "3          0.0          1.0            0.0           0.0               0.0\n",
       "4          0.0          0.0            1.0           0.0               0.0\n",
       "5          0.0          1.0            0.0           0.0               0.0\n",
       "6          0.0          0.0            0.0           1.0               0.0\n",
       "7          0.0          1.0            0.0           0.0               0.0\n",
       "8          0.0          0.0            0.0           0.0               1.0\n",
       "9          0.0          0.0            0.0           0.0               1.0\n",
       "10         0.0          1.0            0.0           0.0               0.0\n",
       "11         0.0          1.0            0.0           0.0               0.0\n",
       "12         0.0          1.0            0.0           0.0               0.0\n",
       "13         0.0          1.0            0.0           0.0               0.0\n",
       "14         0.0          1.0            0.0           0.0               0.0\n",
       "15         0.0          0.0            0.0           1.0               0.0\n",
       "16         0.0          1.0            0.0           0.0               0.0\n",
       "17         0.0          1.0            0.0           0.0               0.0\n",
       "18         0.0          1.0            0.0           0.0               0.0\n",
       "19         0.0          0.0            0.0           0.0               1.0\n",
       "20         1.0          0.0            0.0           0.0               0.0\n",
       "21         1.0          0.0            0.0           0.0               0.0\n",
       "22         0.0          0.0            0.0           0.0               0.0\n",
       "23         0.0          0.0            0.0           0.0               1.0\n",
       "24         0.0          0.0            0.0           0.0               1.0\n",
       "25         0.0          0.0            0.0           0.0               1.0\n",
       "26         0.0          1.0            0.0           0.0               0.0\n",
       "27         0.0          1.0            0.0           0.0               0.0\n",
       "28         0.0          0.0            1.0           0.0               0.0\n",
       "29         0.0          1.0            0.0           0.0               0.0\n",
       "30         0.0          0.0            1.0           0.0               0.0\n",
       "31         0.0          1.0            0.0           0.0               0.0\n",
       "32         0.0          0.0            0.0           1.0               0.0\n",
       "33         0.0          0.0            0.0           0.0               1.0\n",
       "34         0.0          0.0            0.0           0.0               1.0\n",
       "35         0.0          1.0            0.0           0.0               0.0\n",
       "36         0.0          0.0            0.0           0.0               0.0\n",
       "37         0.0          0.0            0.0           0.0               1.0\n",
       "38         0.0          1.0            0.0           0.0               0.0\n",
       "39         1.0          0.0            0.0           0.0               0.0\n",
       "40         0.0          1.0            0.0           0.0               0.0\n",
       "41         0.0          1.0            0.0           0.0               0.0\n",
       "42         0.0          1.0            0.0           0.0               0.0\n",
       "43         0.0          1.0            0.0           0.0               0.0\n",
       "44         0.0          0.0            0.0           0.0               1.0\n",
       "45         0.0          0.0            0.0           0.0               1.0\n",
       "46         0.0          1.0            0.0           0.0               0.0\n",
       "47         0.0          0.0            1.0           0.0               0.0\n",
       "48         0.0          0.0            1.0           0.0               0.0\n",
       "49         1.0          0.0            0.0           0.0               0.0\n",
       "50         0.0          0.0            1.0           0.0               0.0\n",
       "51         0.0          1.0            0.0           0.0               0.0"
      ]
     },
     "execution_count": 49,
     "metadata": {},
     "output_type": "execute_result"
    }
   ],
   "source": [
    "d_brand"
   ]
  },
  {
   "cell_type": "code",
   "execution_count": 50,
   "metadata": {},
   "outputs": [
    {
     "data": {
      "text/html": [
       "<div class=\"itables\">\n",
       "<style>.itables table td {\n",
       "    text-overflow: ellipsis;\n",
       "    overflow: hidden;\n",
       "}\n",
       "\n",
       ".itables table th {\n",
       "    text-overflow: ellipsis;\n",
       "    overflow: hidden;\n",
       "}\n",
       "\n",
       ".itables thead input {\n",
       "    width: 100%;\n",
       "    padding: 3px;\n",
       "    box-sizing: border-box;\n",
       "}\n",
       "\n",
       ".itables tfoot input {\n",
       "    width: 100%;\n",
       "    padding: 3px;\n",
       "    box-sizing: border-box;\n",
       "}\n",
       "\n",
       ".itables { font-size: medium; }\n",
       "</style>\n",
       "<table id=\"itables_44ee50aa_476b_401d_8fdd_c0596338a72e\" class=\"display nowrap\" data-quarto-disable-processing=\"true\" style=\"table-layout:auto;width:auto;margin:auto;caption-side:bottom\">\n",
       "<thead>\n",
       "    <tr style=\"text-align: right;\">\n",
       "      \n",
       "      <th>engine_type_hybrid_gas_electric</th>\n",
       "    </tr>\n",
       "  </thead><tbody><tr><td>Loading... (need <a href=https://mwouts.github.io/itables/troubleshooting.html>help</a>?)</td></tr></tbody>\n",
       "\n",
       "</table>\n",
       "<script type=\"module\">\n",
       "    const dt = (await import(window._datatables_src_for_itables_1_7_0)).default;\n",
       "    dt($);\n",
       "\n",
       "    $(document).ready(function () {\n",
       "        document.querySelectorAll(\"#itables_44ee50aa_476b_401d_8fdd_c0596338a72e:not(.dataTable)\").forEach(table => {\n",
       "            // Define the table data\n",
       "            const data = [[1.0], [0.0], [0.0], [0.0], [0.0], [0.0], [0.0], [1.0], [0.0], [0.0], [0.0], [0.0], [0.0], [0.0], [0.0], [0.0], [0.0], [0.0], [1.0], [0.0], [0.0], [0.0], [0.0], [0.0], [0.0], [0.0], [0.0], [0.0], [0.0], [0.0], [0.0], [0.0], [0.0], [0.0], [0.0], [0.0], [0.0], [0.0], [0.0], [0.0], [0.0], [0.0], [0.0], [0.0], [0.0], [0.0], [0.0], [0.0], [0.0], [0.0], [0.0], [0.0]];\n",
       "\n",
       "            // Define the dt_args\n",
       "            let dt_args = {\"order\": []};\n",
       "            dt_args[\"data\"] = data;\n",
       "\n",
       "            \n",
       "            new $.fn.dataTable(table, dt_args);\n",
       "        });\n",
       "    });\n",
       "</script>\n",
       "</div>\n"
      ],
      "text/plain": [
       "    engine_type_hybrid_gas_electric\n",
       "0                               1.0\n",
       "1                               0.0\n",
       "2                               0.0\n",
       "3                               0.0\n",
       "4                               0.0\n",
       "5                               0.0\n",
       "6                               0.0\n",
       "7                               1.0\n",
       "8                               0.0\n",
       "9                               0.0\n",
       "10                              0.0\n",
       "11                              0.0\n",
       "12                              0.0\n",
       "13                              0.0\n",
       "14                              0.0\n",
       "15                              0.0\n",
       "16                              0.0\n",
       "17                              0.0\n",
       "18                              1.0\n",
       "19                              0.0\n",
       "20                              0.0\n",
       "21                              0.0\n",
       "22                              0.0\n",
       "23                              0.0\n",
       "24                              0.0\n",
       "25                              0.0\n",
       "26                              0.0\n",
       "27                              0.0\n",
       "28                              0.0\n",
       "29                              0.0\n",
       "30                              0.0\n",
       "31                              0.0\n",
       "32                              0.0\n",
       "33                              0.0\n",
       "34                              0.0\n",
       "35                              0.0\n",
       "36                              0.0\n",
       "37                              0.0\n",
       "38                              0.0\n",
       "39                              0.0\n",
       "40                              0.0\n",
       "41                              0.0\n",
       "42                              0.0\n",
       "43                              0.0\n",
       "44                              0.0\n",
       "45                              0.0\n",
       "46                              0.0\n",
       "47                              0.0\n",
       "48                              0.0\n",
       "49                              0.0\n",
       "50                              0.0\n",
       "51                              0.0"
      ]
     },
     "execution_count": 50,
     "metadata": {},
     "output_type": "execute_result"
    }
   ],
   "source": [
    "d_engine_type"
   ]
  },
  {
   "cell_type": "markdown",
   "metadata": {},
   "source": [
    "## Análise das variáveis quantitativas"
   ]
  },
  {
   "cell_type": "code",
   "execution_count": 51,
   "metadata": {},
   "outputs": [
    {
     "data": {
      "text/html": [
       "<div class=\"itables\">\n",
       "<style>.itables table td {\n",
       "    text-overflow: ellipsis;\n",
       "    overflow: hidden;\n",
       "}\n",
       "\n",
       ".itables table th {\n",
       "    text-overflow: ellipsis;\n",
       "    overflow: hidden;\n",
       "}\n",
       "\n",
       ".itables thead input {\n",
       "    width: 100%;\n",
       "    padding: 3px;\n",
       "    box-sizing: border-box;\n",
       "}\n",
       "\n",
       ".itables tfoot input {\n",
       "    width: 100%;\n",
       "    padding: 3px;\n",
       "    box-sizing: border-box;\n",
       "}\n",
       "\n",
       ".itables { font-size: medium; }\n",
       "</style>\n",
       "<table id=\"itables_33d0e3e4_9d38_4475_bd20_90d4dfe300f3\" class=\"display nowrap\" data-quarto-disable-processing=\"true\" style=\"table-layout:auto;width:auto;margin:auto;caption-side:bottom\">\n",
       "<thead>\n",
       "    <tr style=\"text-align: right;\">\n",
       "      \n",
       "      <th>year</th>\n",
       "      <th>miles</th>\n",
       "      <th>city_mileage</th>\n",
       "      <th>highway_mileage</th>\n",
       "      <th>horsepower</th>\n",
       "      <th>torque</th>\n",
       "      <th>engine_capacity_litre</th>\n",
       "      <th>fuel_capacity</th>\n",
       "      <th>num_cylinder</th>\n",
       "      <th>num_owners</th>\n",
       "      <th>price</th>\n",
       "      <th>wheel_drive</th>\n",
       "      <th>speed_levels</th>\n",
       "      <th>front_headroom</th>\n",
       "      <th>front_legroom</th>\n",
       "      <th>rear_headroom</th>\n",
       "      <th>rear_legroom</th>\n",
       "      <th>service_records</th>\n",
       "    </tr>\n",
       "  </thead><tbody><tr><td>Loading... (need <a href=https://mwouts.github.io/itables/troubleshooting.html>help</a>?)</td></tr></tbody>\n",
       "\n",
       "</table>\n",
       "<script type=\"module\">\n",
       "    const dt = (await import(window._datatables_src_for_itables_1_7_0)).default;\n",
       "    dt($);\n",
       "\n",
       "    $(document).ready(function () {\n",
       "        document.querySelectorAll(\"#itables_33d0e3e4_9d38_4475_bd20_90d4dfe300f3:not(.dataTable)\").forEach(table => {\n",
       "            // Define the table data\n",
       "            const data = [[2019, 27173, 43, 42, 149, 294, 1.5, 8.9, 4, 3, 25655, 2, 6.0, 37.8, 42.1, 35.8, 34.7, 4], [2017, 76941, 29, 38, 146, 132, 2.0, 14.0, 4, 2, 15590, 2, 6.0, 39.0, 42.2, 37.0, 35.7, 16], [2014, 97027, 27, 37, 159, 146, 2.0, 12.4, 4, 3, 13590, 2, 6.0, 38.3, 43.7, 38.0, 33.2, 13], [2016, 95396, 31, 42, 158, 138, 1.5, 12.4, 4, 2, 20590, 2, 6.0, 37.5, 42.3, 36.8, 37.4, 26], [2019, 28405, 29, 38, 147, 132, 2.0, 14.0, 4, 3, 16787, 2, 6.0, 39.0, 42.2, 37.0, 35.7, 5], [2016, 61459, 31, 41, 158, 138, 2.0, 12.4, 4, 2, 18277, 2, 6.0, 37.5, 42.3, 36.8, 37.4, 13], [2022, 6811, 27, 35, 182, 176, 2.5, 18.5, 4, 1, 33777, 4, 6.0, 39.4, 42.8, 37.2, 39.5, 6], [2018, 29674, 44, 40, 212, 99, 1.5, 7.0, 4, 1, 26999, 2, 6.0, 39.1, 42.2, 37.1, 36.2, 2], [2019, 25044, 30, 40, 147, 184, 1.4, 13.2, 4, 1, 22491, 2, 8.0, 38.5, 41.1, 37.2, 37.4, 6], [2017, 26215, 28, 38, 150, 184, 1.4, 14.5, 4, 2, 17500, 2, 6.0, 38.2, 41.2, 37.1, 38.1, 13], [2015, 25939, 29, 37, 143, 129, 1.8, 13.2, 4, 1, 19450, 2, 6.0, 37.9, 42.0, 36.2, 36.2, 15], [2019, 32270, 32, 42, 174, 162, 1.5, 12.4, 4, 1, 22688, 2, 6.0, 37.5, 42.3, 36.8, 37.4, 4], [2018, 19950, 31, 40, 158, 138, 2.0, 12.4, 4, 1, 22988, 2, 6.0, 37.5, 42.3, 36.8, 37.4, 9], [2020, 19719, 30, 38, 192, 192, 1.5, 14.8, 4, 1, 26988, 2, 6.0, 37.5, 42.3, 37.2, 40.4, 4], [2020, 16076, 32, 42, 174, 162, 1.5, 12.4, 4, 1, 24498, 2, 6.0, 37.5, 42.3, 36.8, 37.4, 5], [2019, 28214, 28, 38, 152, 145, 2.0, 13.2, 4, 1, 22360, 2, 6.0, 39.8, 43.1, 37.2, 36.5, 4], [2020, 12395, 30, 38, 192, 192, 1.5, 14.8, 4, 1, 26788, 2, 6.0, 37.5, 42.3, 37.2, 40.4, 4], [2019, 33322, 30, 38, 158, 138, 2.0, 12.4, 4, 1, 22899, 2, 6.0, 39.3, 42.3, 37.1, 37.4, 4], [2019, 56233, 55, 49, 151, 99, 1.5, 10.6, 4, 2, 21998, 2, 6.0, 39.3, 42.3, 36.9, 37.4, 5], [2019, 24250, 30, 40, 147, 184, 1.4, 13.2, 4, 1, 17880, 2, 8.0, 38.5, 41.1, 37.2, 37.4, 8], [2019, 38097, 17, 24, 288, 254, 3.5, 19.0, 6, 3, 22993, 4, 6.0, 39.0, 41.9, 37.8, 38.1, 1], [2020, 35743, 20, 29, 245, 275, 2.0, 18.0, 4, 1, 20900, 4, 6.0, 39.2, 44.3, 37.8, 38.3, 8], [2019, 32946, 29, 36, 160, 184, 1.5, 15.8, 4, 1, 18949, 2, 6.0, 39.1, 41.5, 37.5, 38.1, 15], [2018, 26905, 25, 36, 174, 184, 2.0, 18.5, 4, 2, 19795, 2, 6.0, 38.3, 42.4, 37.8, 39.1, 11], [2017, 66329, 23, 34, 170, 184, 1.8, 18.5, 4, 2, 15795, 2, 6.0, 38.3, 42.4, 37.8, 39.1, 5], [2020, 27457, 23, 34, 174, 206, 2.0, 18.5, 4, 1, 24498, 2, 6.0, 38.3, 42.4, 37.8, 39.1, 11], [2020, 12395, 30, 38, 192, 192, 1.5, 14.8, 4, 1, 26788, 2, 6.0, 37.5, 42.3, 37.2, 40.4, 4], [2019, 41799, 30, 38, 158, 138, 2.0, 12.4, 4, 1, 19998, 2, 6.0, 39.3, 42.3, 37.1, 37.4, 4], [2019, 26910, 25, 33, 185, 178, 2.4, 18.5, 4, 1, 17993, 2, 6.0, 40.4, 45.5, 38.0, 35.6, 4], [2018, 16581, 31, 40, 158, 138, 2.0, 12.4, 4, 2, 21994, 2, 6.0, 37.5, 42.3, 36.8, 37.4, 4], [2019, 9736, 25, 33, 185, 178, 2.4, 18.5, 4, 1, 25491, 2, 6.0, 40.4, 45.5, 38.0, 35.6, 6], [2017, 7743, 31, 40, 158, 138, 2.0, 12.4, 4, 1, 22995, 2, 6.0, 37.5, 42.3, 36.8, 37.4, 2], [2019, 44371, 28, 38, 152, 145, 2.0, 13.2, 4, 2, 22388, 4, 6.0, 39.8, 43.1, 37.2, 36.5, 7], [2020, 12944, 25, 32, 228, 258, 2.0, 13.2, 4, 1, 25460, 2, 7.0, 38.5, 41.1, 37.2, 37.4, 5], [2019, 5000, 30, 40, 147, 184, 1.4, 13.2, 4, 1, 19877, 2, 8.0, 38.5, 41.1, 37.2, 37.4, 6], [2019, 41799, 30, 38, 158, 138, 2.0, 12.4, 4, 1, 19998, 2, 6.0, 39.3, 42.3, 37.1, 37.4, 4], [2018, 13726, 22, 32, 250, 260, 2.0, 15.8, 4, 1, 23570, 2, 9.0, 39.1, 42.0, 37.5, 38.1, 7], [2019, 18898, 30, 40, 158, 184, 1.4, 13.2, 4, 1, 18999, 2, 8.0, 38.5, 41.1, 37.2, 37.4, 4], [2018, 51279, 30, 38, 192, 192, 1.5, 14.8, 4, 1, 25991, 2, 6.0, 37.5, 42.3, 37.2, 40.4, 8], [2020, 36506, 21, 31, 245, 275, 2.0, 16.5, 4, 1, 19795, 2, 6.0, 39.2, 44.3, 37.8, 38.3, 7], [2018, 58126, 30, 38, 192, 192, 1.5, 14.8, 4, 2, 22991, 2, 6.0, 37.5, 42.3, 37.2, 40.4, 14], [2019, 27440, 32, 42, 174, 162, 1.5, 12.4, 4, 1, 22476, 2, 6.0, 37.5, 42.3, 36.8, 37.4, 13], [2020, 59090, 30, 38, 192, 192, 1.5, 14.8, 4, 1, 21988, 2, 6.0, 39.5, 42.3, 37.3, 40.4, 1], [2019, 47715, 30, 38, 158, 138, 2.0, 12.4, 4, 1, 22988, 2, 6.0, 39.3, 42.3, 37.1, 37.4, 1], [2020, 9495, 23, 34, 174, 206, 2.0, 18.5, 4, 1, 22999, 2, 6.0, 38.3, 42.4, 37.8, 39.1, 10], [2019, 13721, 30, 40, 147, 184, 1.4, 13.2, 4, 1, 21680, 2, 8.0, 38.5, 41.1, 37.2, 37.4, 5], [2018, 72827, 31, 40, 158, 138, 2.0, 12.4, 4, 1, 17488, 2, 6.0, 39.3, 42.3, 37.1, 37.4, 5], [2019, 33412, 23, 32, 245, 260, 2.0, 18.5, 4, 1, 22493, 2, 8.0, 40.4, 45.5, 38.0, 35.6, 10], [2020, 13830, 30, 40, 147, 132, 2.0, 14.0, 4, 1, 21999, 2, 6.0, 40.3, 42.2, 37.3, 35.7, 6], [2019, 23507, 20, 29, 245, 275, 2.0, 14.0, 4, 1, 21591, 2, 6.0, 39.2, 44.3, 37.8, 38.3, 11], [2020, 11296, 30, 40, 147, 132, 2.0, 14.0, 4, 1, 19542, 2, 6.0, 40.3, 42.2, 37.3, 35.7, 7], [2018, 82729, 30, 38, 192, 192, 1.5, 14.8, 4, 1, 19403, 2, 6.0, 39.5, 42.3, 37.3, 40.4, 9]];\n",
       "\n",
       "            // Define the dt_args\n",
       "            let dt_args = {\"order\": []};\n",
       "            dt_args[\"data\"] = data;\n",
       "\n",
       "            \n",
       "            new $.fn.dataTable(table, dt_args);\n",
       "        });\n",
       "    });\n",
       "</script>\n",
       "</div>\n"
      ],
      "text/plain": [
       "<IPython.core.display.HTML object>"
      ]
     },
     "metadata": {},
     "output_type": "display_data"
    }
   ],
   "source": [
    "data_quanti: pd.DataFrame = data.select_dtypes(exclude=['category'])\n",
    "show(data_quanti)"
   ]
  },
  {
   "cell_type": "markdown",
   "metadata": {},
   "source": [
    "### Estatística descritiva"
   ]
  },
  {
   "cell_type": "code",
   "execution_count": 52,
   "metadata": {},
   "outputs": [
    {
     "data": {
      "text/html": [
       "<div class=\"itables\">\n",
       "<style>.itables table td {\n",
       "    text-overflow: ellipsis;\n",
       "    overflow: hidden;\n",
       "}\n",
       "\n",
       ".itables table th {\n",
       "    text-overflow: ellipsis;\n",
       "    overflow: hidden;\n",
       "}\n",
       "\n",
       ".itables thead input {\n",
       "    width: 100%;\n",
       "    padding: 3px;\n",
       "    box-sizing: border-box;\n",
       "}\n",
       "\n",
       ".itables tfoot input {\n",
       "    width: 100%;\n",
       "    padding: 3px;\n",
       "    box-sizing: border-box;\n",
       "}\n",
       "\n",
       ".itables { font-size: medium; }\n",
       "</style>\n",
       "<table id=\"itables_b990703e_0172_41d4_b2ba_9577d52fbda7\" class=\"display nowrap\" data-quarto-disable-processing=\"true\" style=\"table-layout:auto;width:auto;margin:auto;caption-side:bottom\">\n",
       "<thead>\n",
       "    <tr style=\"text-align: right;\">\n",
       "      <th></th>\n",
       "      <th>count</th>\n",
       "      <th>mean</th>\n",
       "      <th>std</th>\n",
       "      <th>min</th>\n",
       "      <th>25%</th>\n",
       "      <th>50%</th>\n",
       "      <th>75%</th>\n",
       "      <th>max</th>\n",
       "    </tr>\n",
       "  </thead><tbody><tr><td>Loading... (need <a href=https://mwouts.github.io/itables/troubleshooting.html>help</a>?)</td></tr></tbody>\n",
       "\n",
       "</table>\n",
       "<script type=\"module\">\n",
       "    const dt = (await import(window._datatables_src_for_itables_1_7_0)).default;\n",
       "    dt($);\n",
       "\n",
       "    $(document).ready(function () {\n",
       "        document.querySelectorAll(\"#itables_b990703e_0172_41d4_b2ba_9577d52fbda7:not(.dataTable)\").forEach(table => {\n",
       "            // Define the table data\n",
       "            const data = [[\"year\", 52.0, 2018.673077, 1.39637, 2014.0, 2018.0, 2019.0, 2019.25, 2022.0], [\"miles\", 52.0, 33901.25, 22700.646139, 5000.0, 16454.75, 27448.5, 42442.0, 97027.0], [\"city_mileage\", 52.0, 29.038462, 5.947356, 17.0, 26.5, 30.0, 30.0, 55.0], [\"highway_mileage\", 52.0, 37.423077, 4.136619, 24.0, 35.75, 38.0, 40.0, 49.0], [\"horsepower\", 52.0, 176.865385, 33.793507, 143.0, 152.0, 159.5, 192.0, 288.0], [\"torque\", 52.0, 177.923077, 47.256433, 99.0, 138.0, 181.0, 192.0, 294.0], [\"engine_capacity_litre\", 52.0, 1.832692, 0.379743, 1.4, 1.5, 2.0, 2.0, 3.5], [\"fuel_capacity\", 52.0, 14.232692, 2.603973, 7.0, 12.4, 13.6, 15.05, 19.0], [\"num_cylinder\", 52.0, 4.038462, 0.27735, 4.0, 4.0, 4.0, 4.0, 6.0], [\"num_owners\", 52.0, 1.346154, 0.622601, 1.0, 1.0, 1.0, 2.0, 3.0], [\"price\", 52.0, 21763.423077, 3532.455322, 13590.0, 19519.0, 21998.5, 22996.0, 33777.0], [\"wheel_drive\", 52.0, 2.153846, 0.538138, 2.0, 2.0, 2.0, 2.0, 4.0], [\"speed_levels\", 52.0, 6.307692, 0.755073, 6.0, 6.0, 6.0, 6.0, 9.0], [\"front_headroom\", 52.0, 38.680769, 0.919087, 37.5, 37.725, 38.5, 39.3, 40.4], [\"front_legroom\", 52.0, 42.467308, 1.045198, 41.1, 42.2, 42.3, 42.4, 45.5], [\"rear_headroom\", 52.0, 37.238462, 0.444202, 35.8, 37.075, 37.2, 37.5, 38.0], [\"rear_legroom\", 52.0, 37.632692, 1.604249, 33.2, 37.175, 37.4, 38.3, 40.4], [\"service_records\", 52.0, 7.326923, 4.714272, 1.0, 4.0, 6.0, 10.0, 26.0]];\n",
       "\n",
       "            // Define the dt_args\n",
       "            let dt_args = {\"order\": []};\n",
       "            dt_args[\"data\"] = data;\n",
       "\n",
       "            \n",
       "            new $.fn.dataTable(table, dt_args);\n",
       "        });\n",
       "    });\n",
       "</script>\n",
       "</div>\n"
      ],
      "text/plain": [
       "<IPython.core.display.HTML object>"
      ]
     },
     "metadata": {},
     "output_type": "display_data"
    }
   ],
   "source": [
    "show(data_quanti.describe().T)"
   ]
  },
  {
   "cell_type": "markdown",
   "metadata": {},
   "source": [
    "### Histograma\n"
   ]
  },
  {
   "cell_type": "code",
   "execution_count": 53,
   "metadata": {},
   "outputs": [
    {
     "data": {
      "application/vnd.plotly.v1+json": {
       "config": {
        "plotlyServerURL": "https://plot.ly"
       },
       "data": [
        {
         "nbinsx": 15,
         "type": "histogram",
         "x": [
          2019,
          2017,
          2014,
          2016,
          2019,
          2016,
          2022,
          2018,
          2019,
          2017,
          2015,
          2019,
          2018,
          2020,
          2020,
          2019,
          2020,
          2019,
          2019,
          2019,
          2019,
          2020,
          2019,
          2018,
          2017,
          2020,
          2020,
          2019,
          2019,
          2018,
          2019,
          2017,
          2019,
          2020,
          2019,
          2019,
          2018,
          2019,
          2018,
          2020,
          2018,
          2019,
          2020,
          2019,
          2020,
          2019,
          2018,
          2019,
          2020,
          2019,
          2020,
          2018
         ],
         "xaxis": "x",
         "yaxis": "y"
        },
        {
         "nbinsx": 15,
         "type": "histogram",
         "x": [
          27173,
          76941,
          97027,
          95396,
          28405,
          61459,
          6811,
          29674,
          25044,
          26215,
          25939,
          32270,
          19950,
          19719,
          16076,
          28214,
          12395,
          33322,
          56233,
          24250,
          38097,
          35743,
          32946,
          26905,
          66329,
          27457,
          12395,
          41799,
          26910,
          16581,
          9736,
          7743,
          44371,
          12944,
          5000,
          41799,
          13726,
          18898,
          51279,
          36506,
          58126,
          27440,
          59090,
          47715,
          9495,
          13721,
          72827,
          33412,
          13830,
          23507,
          11296,
          82729
         ],
         "xaxis": "x2",
         "yaxis": "y2"
        },
        {
         "nbinsx": 15,
         "type": "histogram",
         "x": [
          43,
          29,
          27,
          31,
          29,
          31,
          27,
          44,
          30,
          28,
          29,
          32,
          31,
          30,
          32,
          28,
          30,
          30,
          55,
          30,
          17,
          20,
          29,
          25,
          23,
          23,
          30,
          30,
          25,
          31,
          25,
          31,
          28,
          25,
          30,
          30,
          22,
          30,
          30,
          21,
          30,
          32,
          30,
          30,
          23,
          30,
          31,
          23,
          30,
          20,
          30,
          30
         ],
         "xaxis": "x3",
         "yaxis": "y3"
        },
        {
         "nbinsx": 15,
         "type": "histogram",
         "x": [
          42,
          38,
          37,
          42,
          38,
          41,
          35,
          40,
          40,
          38,
          37,
          42,
          40,
          38,
          42,
          38,
          38,
          38,
          49,
          40,
          24,
          29,
          36,
          36,
          34,
          34,
          38,
          38,
          33,
          40,
          33,
          40,
          38,
          32,
          40,
          38,
          32,
          40,
          38,
          31,
          38,
          42,
          38,
          38,
          34,
          40,
          40,
          32,
          40,
          29,
          40,
          38
         ],
         "xaxis": "x4",
         "yaxis": "y4"
        },
        {
         "nbinsx": 15,
         "type": "histogram",
         "x": [
          149,
          146,
          159,
          158,
          147,
          158,
          182,
          212,
          147,
          150,
          143,
          174,
          158,
          192,
          174,
          152,
          192,
          158,
          151,
          147,
          288,
          245,
          160,
          174,
          170,
          174,
          192,
          158,
          185,
          158,
          185,
          158,
          152,
          228,
          147,
          158,
          250,
          158,
          192,
          245,
          192,
          174,
          192,
          158,
          174,
          147,
          158,
          245,
          147,
          245,
          147,
          192
         ],
         "xaxis": "x5",
         "yaxis": "y5"
        },
        {
         "nbinsx": 15,
         "type": "histogram",
         "x": [
          294,
          132,
          146,
          138,
          132,
          138,
          176,
          99,
          184,
          184,
          129,
          162,
          138,
          192,
          162,
          145,
          192,
          138,
          99,
          184,
          254,
          275,
          184,
          184,
          184,
          206,
          192,
          138,
          178,
          138,
          178,
          138,
          145,
          258,
          184,
          138,
          260,
          184,
          192,
          275,
          192,
          162,
          192,
          138,
          206,
          184,
          138,
          260,
          132,
          275,
          132,
          192
         ],
         "xaxis": "x6",
         "yaxis": "y6"
        },
        {
         "nbinsx": 15,
         "type": "histogram",
         "x": [
          1.5,
          2,
          2,
          1.5,
          2,
          2,
          2.5,
          1.5,
          1.4,
          1.4,
          1.8,
          1.5,
          2,
          1.5,
          1.5,
          2,
          1.5,
          2,
          1.5,
          1.4,
          3.5,
          2,
          1.5,
          2,
          1.8,
          2,
          1.5,
          2,
          2.4,
          2,
          2.4,
          2,
          2,
          2,
          1.4,
          2,
          2,
          1.4,
          1.5,
          2,
          1.5,
          1.5,
          1.5,
          2,
          2,
          1.4,
          2,
          2,
          2,
          2,
          2,
          1.5
         ],
         "xaxis": "x7",
         "yaxis": "y7"
        },
        {
         "nbinsx": 15,
         "type": "histogram",
         "x": [
          8.9,
          14,
          12.4,
          12.4,
          14,
          12.4,
          18.5,
          7,
          13.2,
          14.5,
          13.2,
          12.4,
          12.4,
          14.8,
          12.4,
          13.2,
          14.8,
          12.4,
          10.6,
          13.2,
          19,
          18,
          15.8,
          18.5,
          18.5,
          18.5,
          14.8,
          12.4,
          18.5,
          12.4,
          18.5,
          12.4,
          13.2,
          13.2,
          13.2,
          12.4,
          15.8,
          13.2,
          14.8,
          16.5,
          14.8,
          12.4,
          14.8,
          12.4,
          18.5,
          13.2,
          12.4,
          18.5,
          14,
          14,
          14,
          14.8
         ],
         "xaxis": "x8",
         "yaxis": "y8"
        },
        {
         "nbinsx": 15,
         "type": "histogram",
         "x": [
          4,
          4,
          4,
          4,
          4,
          4,
          4,
          4,
          4,
          4,
          4,
          4,
          4,
          4,
          4,
          4,
          4,
          4,
          4,
          4,
          6,
          4,
          4,
          4,
          4,
          4,
          4,
          4,
          4,
          4,
          4,
          4,
          4,
          4,
          4,
          4,
          4,
          4,
          4,
          4,
          4,
          4,
          4,
          4,
          4,
          4,
          4,
          4,
          4,
          4,
          4,
          4
         ],
         "xaxis": "x9",
         "yaxis": "y9"
        },
        {
         "nbinsx": 15,
         "type": "histogram",
         "x": [
          3,
          2,
          3,
          2,
          3,
          2,
          1,
          1,
          1,
          2,
          1,
          1,
          1,
          1,
          1,
          1,
          1,
          1,
          2,
          1,
          3,
          1,
          1,
          2,
          2,
          1,
          1,
          1,
          1,
          2,
          1,
          1,
          2,
          1,
          1,
          1,
          1,
          1,
          1,
          1,
          2,
          1,
          1,
          1,
          1,
          1,
          1,
          1,
          1,
          1,
          1,
          1
         ],
         "xaxis": "x10",
         "yaxis": "y10"
        },
        {
         "nbinsx": 15,
         "type": "histogram",
         "x": [
          25655,
          15590,
          13590,
          20590,
          16787,
          18277,
          33777,
          26999,
          22491,
          17500,
          19450,
          22688,
          22988,
          26988,
          24498,
          22360,
          26788,
          22899,
          21998,
          17880,
          22993,
          20900,
          18949,
          19795,
          15795,
          24498,
          26788,
          19998,
          17993,
          21994,
          25491,
          22995,
          22388,
          25460,
          19877,
          19998,
          23570,
          18999,
          25991,
          19795,
          22991,
          22476,
          21988,
          22988,
          22999,
          21680,
          17488,
          22493,
          21999,
          21591,
          19542,
          19403
         ],
         "xaxis": "x11",
         "yaxis": "y11"
        },
        {
         "nbinsx": 15,
         "type": "histogram",
         "x": [
          2,
          2,
          2,
          2,
          2,
          2,
          4,
          2,
          2,
          2,
          2,
          2,
          2,
          2,
          2,
          2,
          2,
          2,
          2,
          2,
          4,
          4,
          2,
          2,
          2,
          2,
          2,
          2,
          2,
          2,
          2,
          2,
          4,
          2,
          2,
          2,
          2,
          2,
          2,
          2,
          2,
          2,
          2,
          2,
          2,
          2,
          2,
          2,
          2,
          2,
          2,
          2
         ],
         "xaxis": "x12",
         "yaxis": "y12"
        },
        {
         "nbinsx": 15,
         "type": "histogram",
         "x": [
          6,
          6,
          6,
          6,
          6,
          6,
          6,
          6,
          8,
          6,
          6,
          6,
          6,
          6,
          6,
          6,
          6,
          6,
          6,
          8,
          6,
          6,
          6,
          6,
          6,
          6,
          6,
          6,
          6,
          6,
          6,
          6,
          6,
          7,
          8,
          6,
          9,
          8,
          6,
          6,
          6,
          6,
          6,
          6,
          6,
          8,
          6,
          8,
          6,
          6,
          6,
          6
         ],
         "xaxis": "x13",
         "yaxis": "y13"
        },
        {
         "nbinsx": 15,
         "type": "histogram",
         "x": [
          37.8,
          39,
          38.3,
          37.5,
          39,
          37.5,
          39.4,
          39.1,
          38.5,
          38.2,
          37.9,
          37.5,
          37.5,
          37.5,
          37.5,
          39.8,
          37.5,
          39.3,
          39.3,
          38.5,
          39,
          39.2,
          39.1,
          38.3,
          38.3,
          38.3,
          37.5,
          39.3,
          40.4,
          37.5,
          40.4,
          37.5,
          39.8,
          38.5,
          38.5,
          39.3,
          39.1,
          38.5,
          37.5,
          39.2,
          37.5,
          37.5,
          39.5,
          39.3,
          38.3,
          38.5,
          39.3,
          40.4,
          40.3,
          39.2,
          40.3,
          39.5
         ],
         "xaxis": "x14",
         "yaxis": "y14"
        },
        {
         "nbinsx": 15,
         "type": "histogram",
         "x": [
          42.1,
          42.2,
          43.7,
          42.3,
          42.2,
          42.3,
          42.8,
          42.2,
          41.1,
          41.2,
          42,
          42.3,
          42.3,
          42.3,
          42.3,
          43.1,
          42.3,
          42.3,
          42.3,
          41.1,
          41.9,
          44.3,
          41.5,
          42.4,
          42.4,
          42.4,
          42.3,
          42.3,
          45.5,
          42.3,
          45.5,
          42.3,
          43.1,
          41.1,
          41.1,
          42.3,
          42,
          41.1,
          42.3,
          44.3,
          42.3,
          42.3,
          42.3,
          42.3,
          42.4,
          41.1,
          42.3,
          45.5,
          42.2,
          44.3,
          42.2,
          42.3
         ],
         "xaxis": "x15",
         "yaxis": "y15"
        },
        {
         "nbinsx": 15,
         "type": "histogram",
         "x": [
          35.8,
          37,
          38,
          36.8,
          37,
          36.8,
          37.2,
          37.1,
          37.2,
          37.1,
          36.2,
          36.8,
          36.8,
          37.2,
          36.8,
          37.2,
          37.2,
          37.1,
          36.9,
          37.2,
          37.8,
          37.8,
          37.5,
          37.8,
          37.8,
          37.8,
          37.2,
          37.1,
          38,
          36.8,
          38,
          36.8,
          37.2,
          37.2,
          37.2,
          37.1,
          37.5,
          37.2,
          37.2,
          37.8,
          37.2,
          36.8,
          37.3,
          37.1,
          37.8,
          37.2,
          37.1,
          38,
          37.3,
          37.8,
          37.3,
          37.3
         ],
         "xaxis": "x16",
         "yaxis": "y16"
        },
        {
         "nbinsx": 15,
         "type": "histogram",
         "x": [
          34.7,
          35.7,
          33.2,
          37.4,
          35.7,
          37.4,
          39.5,
          36.2,
          37.4,
          38.1,
          36.2,
          37.4,
          37.4,
          40.4,
          37.4,
          36.5,
          40.4,
          37.4,
          37.4,
          37.4,
          38.1,
          38.3,
          38.1,
          39.1,
          39.1,
          39.1,
          40.4,
          37.4,
          35.6,
          37.4,
          35.6,
          37.4,
          36.5,
          37.4,
          37.4,
          37.4,
          38.1,
          37.4,
          40.4,
          38.3,
          40.4,
          37.4,
          40.4,
          37.4,
          39.1,
          37.4,
          37.4,
          35.6,
          35.7,
          38.3,
          35.7,
          40.4
         ],
         "xaxis": "x17",
         "yaxis": "y17"
        },
        {
         "nbinsx": 15,
         "type": "histogram",
         "x": [
          4,
          16,
          13,
          26,
          5,
          13,
          6,
          2,
          6,
          13,
          15,
          4,
          9,
          4,
          5,
          4,
          4,
          4,
          5,
          8,
          1,
          8,
          15,
          11,
          5,
          11,
          4,
          4,
          4,
          4,
          6,
          2,
          7,
          5,
          6,
          4,
          7,
          4,
          8,
          7,
          14,
          13,
          1,
          1,
          10,
          5,
          5,
          10,
          6,
          11,
          7,
          9
         ],
         "xaxis": "x18",
         "yaxis": "y18"
        }
       ],
       "layout": {
        "annotations": [
         {
          "font": {
           "size": 16
          },
          "showarrow": false,
          "text": "year",
          "x": 0.10625,
          "xanchor": "center",
          "xref": "paper",
          "y": 1,
          "yanchor": "bottom",
          "yref": "paper"
         },
         {
          "font": {
           "size": 16
          },
          "showarrow": false,
          "text": "miles",
          "x": 0.36875,
          "xanchor": "center",
          "xref": "paper",
          "y": 1,
          "yanchor": "bottom",
          "yref": "paper"
         },
         {
          "font": {
           "size": 16
          },
          "showarrow": false,
          "text": "city_mileage",
          "x": 0.6312500000000001,
          "xanchor": "center",
          "xref": "paper",
          "y": 1,
          "yanchor": "bottom",
          "yref": "paper"
         },
         {
          "font": {
           "size": 16
          },
          "showarrow": false,
          "text": "highway_mileage",
          "x": 0.89375,
          "xanchor": "center",
          "xref": "paper",
          "y": 1,
          "yanchor": "bottom",
          "yref": "paper"
         },
         {
          "font": {
           "size": 16
          },
          "showarrow": false,
          "text": "horsepower",
          "x": 0.10625,
          "xanchor": "center",
          "xref": "paper",
          "y": 0.78,
          "yanchor": "bottom",
          "yref": "paper"
         },
         {
          "font": {
           "size": 16
          },
          "showarrow": false,
          "text": "torque",
          "x": 0.36875,
          "xanchor": "center",
          "xref": "paper",
          "y": 0.78,
          "yanchor": "bottom",
          "yref": "paper"
         },
         {
          "font": {
           "size": 16
          },
          "showarrow": false,
          "text": "engine_capacity_litre",
          "x": 0.6312500000000001,
          "xanchor": "center",
          "xref": "paper",
          "y": 0.78,
          "yanchor": "bottom",
          "yref": "paper"
         },
         {
          "font": {
           "size": 16
          },
          "showarrow": false,
          "text": "fuel_capacity",
          "x": 0.89375,
          "xanchor": "center",
          "xref": "paper",
          "y": 0.78,
          "yanchor": "bottom",
          "yref": "paper"
         },
         {
          "font": {
           "size": 16
          },
          "showarrow": false,
          "text": "num_cylinder",
          "x": 0.10625,
          "xanchor": "center",
          "xref": "paper",
          "y": 0.56,
          "yanchor": "bottom",
          "yref": "paper"
         },
         {
          "font": {
           "size": 16
          },
          "showarrow": false,
          "text": "num_owners",
          "x": 0.36875,
          "xanchor": "center",
          "xref": "paper",
          "y": 0.56,
          "yanchor": "bottom",
          "yref": "paper"
         },
         {
          "font": {
           "size": 16
          },
          "showarrow": false,
          "text": "price",
          "x": 0.6312500000000001,
          "xanchor": "center",
          "xref": "paper",
          "y": 0.56,
          "yanchor": "bottom",
          "yref": "paper"
         },
         {
          "font": {
           "size": 16
          },
          "showarrow": false,
          "text": "wheel_drive",
          "x": 0.89375,
          "xanchor": "center",
          "xref": "paper",
          "y": 0.56,
          "yanchor": "bottom",
          "yref": "paper"
         },
         {
          "font": {
           "size": 16
          },
          "showarrow": false,
          "text": "speed_levels",
          "x": 0.10625,
          "xanchor": "center",
          "xref": "paper",
          "y": 0.33999999999999997,
          "yanchor": "bottom",
          "yref": "paper"
         },
         {
          "font": {
           "size": 16
          },
          "showarrow": false,
          "text": "front_headroom",
          "x": 0.36875,
          "xanchor": "center",
          "xref": "paper",
          "y": 0.33999999999999997,
          "yanchor": "bottom",
          "yref": "paper"
         },
         {
          "font": {
           "size": 16
          },
          "showarrow": false,
          "text": "front_legroom",
          "x": 0.6312500000000001,
          "xanchor": "center",
          "xref": "paper",
          "y": 0.33999999999999997,
          "yanchor": "bottom",
          "yref": "paper"
         },
         {
          "font": {
           "size": 16
          },
          "showarrow": false,
          "text": "rear_headroom",
          "x": 0.89375,
          "xanchor": "center",
          "xref": "paper",
          "y": 0.33999999999999997,
          "yanchor": "bottom",
          "yref": "paper"
         },
         {
          "font": {
           "size": 16
          },
          "showarrow": false,
          "text": "rear_legroom",
          "x": 0.10625,
          "xanchor": "center",
          "xref": "paper",
          "y": 0.12,
          "yanchor": "bottom",
          "yref": "paper"
         },
         {
          "font": {
           "size": 16
          },
          "showarrow": false,
          "text": "service_records",
          "x": 0.36875,
          "xanchor": "center",
          "xref": "paper",
          "y": 0.12,
          "yanchor": "bottom",
          "yref": "paper"
         }
        ],
        "height": 800,
        "margin": {
         "b": 10,
         "l": 10,
         "r": 10,
         "t": 50
        },
        "showlegend": false,
        "template": {
         "data": {
          "bar": [
           {
            "error_x": {
             "color": "#2a3f5f"
            },
            "error_y": {
             "color": "#2a3f5f"
            },
            "marker": {
             "line": {
              "color": "#E5ECF6",
              "width": 0.5
             },
             "pattern": {
              "fillmode": "overlay",
              "size": 10,
              "solidity": 0.2
             }
            },
            "type": "bar"
           }
          ],
          "barpolar": [
           {
            "marker": {
             "line": {
              "color": "#E5ECF6",
              "width": 0.5
             },
             "pattern": {
              "fillmode": "overlay",
              "size": 10,
              "solidity": 0.2
             }
            },
            "type": "barpolar"
           }
          ],
          "carpet": [
           {
            "aaxis": {
             "endlinecolor": "#2a3f5f",
             "gridcolor": "white",
             "linecolor": "white",
             "minorgridcolor": "white",
             "startlinecolor": "#2a3f5f"
            },
            "baxis": {
             "endlinecolor": "#2a3f5f",
             "gridcolor": "white",
             "linecolor": "white",
             "minorgridcolor": "white",
             "startlinecolor": "#2a3f5f"
            },
            "type": "carpet"
           }
          ],
          "choropleth": [
           {
            "colorbar": {
             "outlinewidth": 0,
             "ticks": ""
            },
            "type": "choropleth"
           }
          ],
          "contour": [
           {
            "colorbar": {
             "outlinewidth": 0,
             "ticks": ""
            },
            "colorscale": [
             [
              0,
              "#0d0887"
             ],
             [
              0.1111111111111111,
              "#46039f"
             ],
             [
              0.2222222222222222,
              "#7201a8"
             ],
             [
              0.3333333333333333,
              "#9c179e"
             ],
             [
              0.4444444444444444,
              "#bd3786"
             ],
             [
              0.5555555555555556,
              "#d8576b"
             ],
             [
              0.6666666666666666,
              "#ed7953"
             ],
             [
              0.7777777777777778,
              "#fb9f3a"
             ],
             [
              0.8888888888888888,
              "#fdca26"
             ],
             [
              1,
              "#f0f921"
             ]
            ],
            "type": "contour"
           }
          ],
          "contourcarpet": [
           {
            "colorbar": {
             "outlinewidth": 0,
             "ticks": ""
            },
            "type": "contourcarpet"
           }
          ],
          "heatmap": [
           {
            "colorbar": {
             "outlinewidth": 0,
             "ticks": ""
            },
            "colorscale": [
             [
              0,
              "#0d0887"
             ],
             [
              0.1111111111111111,
              "#46039f"
             ],
             [
              0.2222222222222222,
              "#7201a8"
             ],
             [
              0.3333333333333333,
              "#9c179e"
             ],
             [
              0.4444444444444444,
              "#bd3786"
             ],
             [
              0.5555555555555556,
              "#d8576b"
             ],
             [
              0.6666666666666666,
              "#ed7953"
             ],
             [
              0.7777777777777778,
              "#fb9f3a"
             ],
             [
              0.8888888888888888,
              "#fdca26"
             ],
             [
              1,
              "#f0f921"
             ]
            ],
            "type": "heatmap"
           }
          ],
          "heatmapgl": [
           {
            "colorbar": {
             "outlinewidth": 0,
             "ticks": ""
            },
            "colorscale": [
             [
              0,
              "#0d0887"
             ],
             [
              0.1111111111111111,
              "#46039f"
             ],
             [
              0.2222222222222222,
              "#7201a8"
             ],
             [
              0.3333333333333333,
              "#9c179e"
             ],
             [
              0.4444444444444444,
              "#bd3786"
             ],
             [
              0.5555555555555556,
              "#d8576b"
             ],
             [
              0.6666666666666666,
              "#ed7953"
             ],
             [
              0.7777777777777778,
              "#fb9f3a"
             ],
             [
              0.8888888888888888,
              "#fdca26"
             ],
             [
              1,
              "#f0f921"
             ]
            ],
            "type": "heatmapgl"
           }
          ],
          "histogram": [
           {
            "marker": {
             "pattern": {
              "fillmode": "overlay",
              "size": 10,
              "solidity": 0.2
             }
            },
            "type": "histogram"
           }
          ],
          "histogram2d": [
           {
            "colorbar": {
             "outlinewidth": 0,
             "ticks": ""
            },
            "colorscale": [
             [
              0,
              "#0d0887"
             ],
             [
              0.1111111111111111,
              "#46039f"
             ],
             [
              0.2222222222222222,
              "#7201a8"
             ],
             [
              0.3333333333333333,
              "#9c179e"
             ],
             [
              0.4444444444444444,
              "#bd3786"
             ],
             [
              0.5555555555555556,
              "#d8576b"
             ],
             [
              0.6666666666666666,
              "#ed7953"
             ],
             [
              0.7777777777777778,
              "#fb9f3a"
             ],
             [
              0.8888888888888888,
              "#fdca26"
             ],
             [
              1,
              "#f0f921"
             ]
            ],
            "type": "histogram2d"
           }
          ],
          "histogram2dcontour": [
           {
            "colorbar": {
             "outlinewidth": 0,
             "ticks": ""
            },
            "colorscale": [
             [
              0,
              "#0d0887"
             ],
             [
              0.1111111111111111,
              "#46039f"
             ],
             [
              0.2222222222222222,
              "#7201a8"
             ],
             [
              0.3333333333333333,
              "#9c179e"
             ],
             [
              0.4444444444444444,
              "#bd3786"
             ],
             [
              0.5555555555555556,
              "#d8576b"
             ],
             [
              0.6666666666666666,
              "#ed7953"
             ],
             [
              0.7777777777777778,
              "#fb9f3a"
             ],
             [
              0.8888888888888888,
              "#fdca26"
             ],
             [
              1,
              "#f0f921"
             ]
            ],
            "type": "histogram2dcontour"
           }
          ],
          "mesh3d": [
           {
            "colorbar": {
             "outlinewidth": 0,
             "ticks": ""
            },
            "type": "mesh3d"
           }
          ],
          "parcoords": [
           {
            "line": {
             "colorbar": {
              "outlinewidth": 0,
              "ticks": ""
             }
            },
            "type": "parcoords"
           }
          ],
          "pie": [
           {
            "automargin": true,
            "type": "pie"
           }
          ],
          "scatter": [
           {
            "fillpattern": {
             "fillmode": "overlay",
             "size": 10,
             "solidity": 0.2
            },
            "type": "scatter"
           }
          ],
          "scatter3d": [
           {
            "line": {
             "colorbar": {
              "outlinewidth": 0,
              "ticks": ""
             }
            },
            "marker": {
             "colorbar": {
              "outlinewidth": 0,
              "ticks": ""
             }
            },
            "type": "scatter3d"
           }
          ],
          "scattercarpet": [
           {
            "marker": {
             "colorbar": {
              "outlinewidth": 0,
              "ticks": ""
             }
            },
            "type": "scattercarpet"
           }
          ],
          "scattergeo": [
           {
            "marker": {
             "colorbar": {
              "outlinewidth": 0,
              "ticks": ""
             }
            },
            "type": "scattergeo"
           }
          ],
          "scattergl": [
           {
            "marker": {
             "colorbar": {
              "outlinewidth": 0,
              "ticks": ""
             }
            },
            "type": "scattergl"
           }
          ],
          "scattermapbox": [
           {
            "marker": {
             "colorbar": {
              "outlinewidth": 0,
              "ticks": ""
             }
            },
            "type": "scattermapbox"
           }
          ],
          "scatterpolar": [
           {
            "marker": {
             "colorbar": {
              "outlinewidth": 0,
              "ticks": ""
             }
            },
            "type": "scatterpolar"
           }
          ],
          "scatterpolargl": [
           {
            "marker": {
             "colorbar": {
              "outlinewidth": 0,
              "ticks": ""
             }
            },
            "type": "scatterpolargl"
           }
          ],
          "scatterternary": [
           {
            "marker": {
             "colorbar": {
              "outlinewidth": 0,
              "ticks": ""
             }
            },
            "type": "scatterternary"
           }
          ],
          "surface": [
           {
            "colorbar": {
             "outlinewidth": 0,
             "ticks": ""
            },
            "colorscale": [
             [
              0,
              "#0d0887"
             ],
             [
              0.1111111111111111,
              "#46039f"
             ],
             [
              0.2222222222222222,
              "#7201a8"
             ],
             [
              0.3333333333333333,
              "#9c179e"
             ],
             [
              0.4444444444444444,
              "#bd3786"
             ],
             [
              0.5555555555555556,
              "#d8576b"
             ],
             [
              0.6666666666666666,
              "#ed7953"
             ],
             [
              0.7777777777777778,
              "#fb9f3a"
             ],
             [
              0.8888888888888888,
              "#fdca26"
             ],
             [
              1,
              "#f0f921"
             ]
            ],
            "type": "surface"
           }
          ],
          "table": [
           {
            "cells": {
             "fill": {
              "color": "#EBF0F8"
             },
             "line": {
              "color": "white"
             }
            },
            "header": {
             "fill": {
              "color": "#C8D4E3"
             },
             "line": {
              "color": "white"
             }
            },
            "type": "table"
           }
          ]
         },
         "layout": {
          "annotationdefaults": {
           "arrowcolor": "#2a3f5f",
           "arrowhead": 0,
           "arrowwidth": 1
          },
          "autotypenumbers": "strict",
          "coloraxis": {
           "colorbar": {
            "outlinewidth": 0,
            "ticks": ""
           }
          },
          "colorscale": {
           "diverging": [
            [
             0,
             "#8e0152"
            ],
            [
             0.1,
             "#c51b7d"
            ],
            [
             0.2,
             "#de77ae"
            ],
            [
             0.3,
             "#f1b6da"
            ],
            [
             0.4,
             "#fde0ef"
            ],
            [
             0.5,
             "#f7f7f7"
            ],
            [
             0.6,
             "#e6f5d0"
            ],
            [
             0.7,
             "#b8e186"
            ],
            [
             0.8,
             "#7fbc41"
            ],
            [
             0.9,
             "#4d9221"
            ],
            [
             1,
             "#276419"
            ]
           ],
           "sequential": [
            [
             0,
             "#0d0887"
            ],
            [
             0.1111111111111111,
             "#46039f"
            ],
            [
             0.2222222222222222,
             "#7201a8"
            ],
            [
             0.3333333333333333,
             "#9c179e"
            ],
            [
             0.4444444444444444,
             "#bd3786"
            ],
            [
             0.5555555555555556,
             "#d8576b"
            ],
            [
             0.6666666666666666,
             "#ed7953"
            ],
            [
             0.7777777777777778,
             "#fb9f3a"
            ],
            [
             0.8888888888888888,
             "#fdca26"
            ],
            [
             1,
             "#f0f921"
            ]
           ],
           "sequentialminus": [
            [
             0,
             "#0d0887"
            ],
            [
             0.1111111111111111,
             "#46039f"
            ],
            [
             0.2222222222222222,
             "#7201a8"
            ],
            [
             0.3333333333333333,
             "#9c179e"
            ],
            [
             0.4444444444444444,
             "#bd3786"
            ],
            [
             0.5555555555555556,
             "#d8576b"
            ],
            [
             0.6666666666666666,
             "#ed7953"
            ],
            [
             0.7777777777777778,
             "#fb9f3a"
            ],
            [
             0.8888888888888888,
             "#fdca26"
            ],
            [
             1,
             "#f0f921"
            ]
           ]
          },
          "colorway": [
           "#636efa",
           "#EF553B",
           "#00cc96",
           "#ab63fa",
           "#FFA15A",
           "#19d3f3",
           "#FF6692",
           "#B6E880",
           "#FF97FF",
           "#FECB52"
          ],
          "font": {
           "color": "#2a3f5f"
          },
          "geo": {
           "bgcolor": "white",
           "lakecolor": "white",
           "landcolor": "#E5ECF6",
           "showlakes": true,
           "showland": true,
           "subunitcolor": "white"
          },
          "hoverlabel": {
           "align": "left"
          },
          "hovermode": "closest",
          "mapbox": {
           "style": "light"
          },
          "paper_bgcolor": "white",
          "plot_bgcolor": "#E5ECF6",
          "polar": {
           "angularaxis": {
            "gridcolor": "white",
            "linecolor": "white",
            "ticks": ""
           },
           "bgcolor": "#E5ECF6",
           "radialaxis": {
            "gridcolor": "white",
            "linecolor": "white",
            "ticks": ""
           }
          },
          "scene": {
           "xaxis": {
            "backgroundcolor": "#E5ECF6",
            "gridcolor": "white",
            "gridwidth": 2,
            "linecolor": "white",
            "showbackground": true,
            "ticks": "",
            "zerolinecolor": "white"
           },
           "yaxis": {
            "backgroundcolor": "#E5ECF6",
            "gridcolor": "white",
            "gridwidth": 2,
            "linecolor": "white",
            "showbackground": true,
            "ticks": "",
            "zerolinecolor": "white"
           },
           "zaxis": {
            "backgroundcolor": "#E5ECF6",
            "gridcolor": "white",
            "gridwidth": 2,
            "linecolor": "white",
            "showbackground": true,
            "ticks": "",
            "zerolinecolor": "white"
           }
          },
          "shapedefaults": {
           "line": {
            "color": "#2a3f5f"
           }
          },
          "ternary": {
           "aaxis": {
            "gridcolor": "white",
            "linecolor": "white",
            "ticks": ""
           },
           "baxis": {
            "gridcolor": "white",
            "linecolor": "white",
            "ticks": ""
           },
           "bgcolor": "#E5ECF6",
           "caxis": {
            "gridcolor": "white",
            "linecolor": "white",
            "ticks": ""
           }
          },
          "title": {
           "x": 0.05
          },
          "xaxis": {
           "automargin": true,
           "gridcolor": "white",
           "linecolor": "white",
           "ticks": "",
           "title": {
            "standoff": 15
           },
           "zerolinecolor": "white",
           "zerolinewidth": 2
          },
          "yaxis": {
           "automargin": true,
           "gridcolor": "white",
           "linecolor": "white",
           "ticks": "",
           "title": {
            "standoff": 15
           },
           "zerolinecolor": "white",
           "zerolinewidth": 2
          }
         }
        },
        "title": {
         "text": "Histograma das variáveis quantitativas da base de dados"
        },
        "width": 1000,
        "xaxis": {
         "anchor": "y",
         "domain": [
          0,
          0.2125
         ]
        },
        "xaxis10": {
         "anchor": "y10",
         "domain": [
          0.2625,
          0.475
         ]
        },
        "xaxis11": {
         "anchor": "y11",
         "domain": [
          0.525,
          0.7375
         ]
        },
        "xaxis12": {
         "anchor": "y12",
         "domain": [
          0.7875,
          1
         ]
        },
        "xaxis13": {
         "anchor": "y13",
         "domain": [
          0,
          0.2125
         ]
        },
        "xaxis14": {
         "anchor": "y14",
         "domain": [
          0.2625,
          0.475
         ]
        },
        "xaxis15": {
         "anchor": "y15",
         "domain": [
          0.525,
          0.7375
         ]
        },
        "xaxis16": {
         "anchor": "y16",
         "domain": [
          0.7875,
          1
         ]
        },
        "xaxis17": {
         "anchor": "y17",
         "domain": [
          0,
          0.2125
         ]
        },
        "xaxis18": {
         "anchor": "y18",
         "domain": [
          0.2625,
          0.475
         ]
        },
        "xaxis19": {
         "anchor": "y19",
         "domain": [
          0.525,
          0.7375
         ]
        },
        "xaxis2": {
         "anchor": "y2",
         "domain": [
          0.2625,
          0.475
         ]
        },
        "xaxis20": {
         "anchor": "y20",
         "domain": [
          0.7875,
          1
         ]
        },
        "xaxis3": {
         "anchor": "y3",
         "domain": [
          0.525,
          0.7375
         ]
        },
        "xaxis4": {
         "anchor": "y4",
         "domain": [
          0.7875,
          1
         ]
        },
        "xaxis5": {
         "anchor": "y5",
         "domain": [
          0,
          0.2125
         ]
        },
        "xaxis6": {
         "anchor": "y6",
         "domain": [
          0.2625,
          0.475
         ]
        },
        "xaxis7": {
         "anchor": "y7",
         "domain": [
          0.525,
          0.7375
         ]
        },
        "xaxis8": {
         "anchor": "y8",
         "domain": [
          0.7875,
          1
         ]
        },
        "xaxis9": {
         "anchor": "y9",
         "domain": [
          0,
          0.2125
         ]
        },
        "yaxis": {
         "anchor": "x",
         "domain": [
          0.88,
          1
         ]
        },
        "yaxis10": {
         "anchor": "x10",
         "domain": [
          0.44,
          0.56
         ]
        },
        "yaxis11": {
         "anchor": "x11",
         "domain": [
          0.44,
          0.56
         ]
        },
        "yaxis12": {
         "anchor": "x12",
         "domain": [
          0.44,
          0.56
         ]
        },
        "yaxis13": {
         "anchor": "x13",
         "domain": [
          0.22,
          0.33999999999999997
         ]
        },
        "yaxis14": {
         "anchor": "x14",
         "domain": [
          0.22,
          0.33999999999999997
         ]
        },
        "yaxis15": {
         "anchor": "x15",
         "domain": [
          0.22,
          0.33999999999999997
         ]
        },
        "yaxis16": {
         "anchor": "x16",
         "domain": [
          0.22,
          0.33999999999999997
         ]
        },
        "yaxis17": {
         "anchor": "x17",
         "domain": [
          0,
          0.12
         ]
        },
        "yaxis18": {
         "anchor": "x18",
         "domain": [
          0,
          0.12
         ]
        },
        "yaxis19": {
         "anchor": "x19",
         "domain": [
          0,
          0.12
         ]
        },
        "yaxis2": {
         "anchor": "x2",
         "domain": [
          0.88,
          1
         ]
        },
        "yaxis20": {
         "anchor": "x20",
         "domain": [
          0,
          0.12
         ]
        },
        "yaxis3": {
         "anchor": "x3",
         "domain": [
          0.88,
          1
         ]
        },
        "yaxis4": {
         "anchor": "x4",
         "domain": [
          0.88,
          1
         ]
        },
        "yaxis5": {
         "anchor": "x5",
         "domain": [
          0.66,
          0.78
         ]
        },
        "yaxis6": {
         "anchor": "x6",
         "domain": [
          0.66,
          0.78
         ]
        },
        "yaxis7": {
         "anchor": "x7",
         "domain": [
          0.66,
          0.78
         ]
        },
        "yaxis8": {
         "anchor": "x8",
         "domain": [
          0.66,
          0.78
         ]
        },
        "yaxis9": {
         "anchor": "x9",
         "domain": [
          0.44,
          0.56
         ]
        }
       }
      }
     },
     "metadata": {},
     "output_type": "display_data"
    }
   ],
   "source": [
    "def plotly_subplots_hist(nrows, ncols, data_frame)-> None:\n",
    "   \n",
    "    columns: list[str] = data_frame.columns.to_list()\n",
    "    \n",
    "\n",
    "    fig = make_subplots(rows=nrows, cols=ncols, subplot_titles=columns)\n",
    "    \n",
    "    k=0    \n",
    "    # Add a box plot for each column\n",
    "    for i in range(nrows):        \n",
    "        for j in range(ncols):\n",
    "            if k < len(columns):\n",
    "               \n",
    "                fig.add_trace(go.Histogram(x=data_frame[columns[k]], nbinsx=15), row=i+1, col=j+1)\n",
    "                k+=1\n",
    "            else:\n",
    "                break\n",
    "            \n",
    "\n",
    "    # Update the layout\n",
    "    fig.update_layout(height=800, width=1000,\n",
    "                      showlegend=False, \n",
    "                      margin=dict(t=50, l=10, r=10, b=10),\n",
    "                      title_text=\"Histograma das variáveis quantitativas da base de dados\")\n",
    "\n",
    "    fig.show()\n",
    "\n",
    "plotly_subplots_hist(5, 4, data_quanti)"
   ]
  },
  {
   "cell_type": "markdown",
   "metadata": {},
   "source": [
    "\n",
    "Os histogramas para as variáveis _num_cylinder_ e _wheel_drive_ mostram que estas podem não ser muito úteis para a construção do modelo de regressão visto que apresentam basicamente duas \"categorias\". No caso de _num_cylinder_ são 51 dados do total de 52 que possuem 6 cilindros. Já para a variável _wheel_drive_, 48 dados de 52 possuem 2. Vamos verificar quais são os veículos com _num_cylinder = 6 e _whell_drive_ = 4."
   ]
  },
  {
   "cell_type": "code",
   "execution_count": 68,
   "metadata": {},
   "outputs": [
    {
     "data": {
      "text/html": [
       "<div class=\"itables\">\n",
       "<style>.itables table td {\n",
       "    text-overflow: ellipsis;\n",
       "    overflow: hidden;\n",
       "}\n",
       "\n",
       ".itables table th {\n",
       "    text-overflow: ellipsis;\n",
       "    overflow: hidden;\n",
       "}\n",
       "\n",
       ".itables thead input {\n",
       "    width: 100%;\n",
       "    padding: 3px;\n",
       "    box-sizing: border-box;\n",
       "}\n",
       "\n",
       ".itables tfoot input {\n",
       "    width: 100%;\n",
       "    padding: 3px;\n",
       "    box-sizing: border-box;\n",
       "}\n",
       "\n",
       ".itables { font-size: medium; }\n",
       "</style>\n",
       "<table id=\"itables_84cb3c11_f5e1_4377_87b7_b5a282ee2b91\" class=\"display nowrap\" data-quarto-disable-processing=\"true\" style=\"table-layout:auto;width:auto;margin:auto;caption-side:bottom\">\n",
       "<thead>\n",
       "    <tr style=\"text-align: right;\">\n",
       "      <th></th>\n",
       "      <th>6</th>\n",
       "      <th>20</th>\n",
       "      <th>21</th>\n",
       "      <th>32</th>\n",
       "    </tr>\n",
       "  </thead><tbody><tr><td>Loading... (need <a href=https://mwouts.github.io/itables/troubleshooting.html>help</a>?)</td></tr></tbody>\n",
       "\n",
       "</table>\n",
       "<script type=\"module\">\n",
       "    const dt = (await import(window._datatables_src_for_itables_1_7_0)).default;\n",
       "    dt($);\n",
       "\n",
       "    $(document).ready(function () {\n",
       "        document.querySelectorAll(\"#itables_84cb3c11_f5e1_4377_87b7_b5a282ee2b91:not(.dataTable)\").forEach(table => {\n",
       "            // Define the table data\n",
       "            const data = [[\"year\", 2022.0, 2019.0, 2020.0, 2019.0], [\"miles\", 6811.0, 38097.0, 35743.0, 44371.0], [\"city_mileage\", 27.0, 17.0, 20.0, 28.0], [\"highway_mileage\", 35.0, 24.0, 29.0, 38.0], [\"horsepower\", 182.0, 288.0, 245.0, 152.0], [\"torque\", 176.0, 254.0, 275.0, 145.0], [\"engine_capacity_litre\", 2.5, 3.5, 2.0, 2.0], [\"fuel_capacity\", 18.5, 19.0, 18.0, 13.2], [\"num_cylinder\", 4.0, 6.0, 4.0, 4.0], [\"num_owners\", 1.0, 3.0, 1.0, 2.0], [\"price\", 33777.0, 22993.0, 20900.0, 22388.0], [\"wheel_drive\", 4.0, 4.0, 4.0, 4.0], [\"speed_levels\", 6.0, 6.0, 6.0, 6.0], [\"front_headroom\", 39.4, 39.0, 39.2, 39.8], [\"front_legroom\", 42.8, 41.9, 44.3, 43.1], [\"rear_headroom\", 37.2, 37.8, 37.8, 37.2], [\"rear_legroom\", 39.5, 38.1, 38.3, 36.5], [\"service_records\", 6.0, 1.0, 8.0, 7.0]];\n",
       "\n",
       "            // Define the dt_args\n",
       "            let dt_args = {\"order\": []};\n",
       "            dt_args[\"data\"] = data;\n",
       "\n",
       "            \n",
       "            new $.fn.dataTable(table, dt_args);\n",
       "        });\n",
       "    });\n",
       "</script>\n",
       "</div>\n"
      ],
      "text/plain": [
       "                            6        20       21       32\n",
       "year                    2022.0   2019.0   2020.0   2019.0\n",
       "miles                   6811.0  38097.0  35743.0  44371.0\n",
       "city_mileage              27.0     17.0     20.0     28.0\n",
       "highway_mileage           35.0     24.0     29.0     38.0\n",
       "horsepower               182.0    288.0    245.0    152.0\n",
       "torque                   176.0    254.0    275.0    145.0\n",
       "engine_capacity_litre      2.5      3.5      2.0      2.0\n",
       "fuel_capacity             18.5     19.0     18.0     13.2\n",
       "num_cylinder               4.0      6.0      4.0      4.0\n",
       "num_owners                 1.0      3.0      1.0      2.0\n",
       "price                  33777.0  22993.0  20900.0  22388.0\n",
       "wheel_drive                4.0      4.0      4.0      4.0\n",
       "speed_levels               6.0      6.0      6.0      6.0\n",
       "front_headroom            39.4     39.0     39.2     39.8\n",
       "front_legroom             42.8     41.9     44.3     43.1\n",
       "rear_headroom             37.2     37.8     37.8     37.2\n",
       "rear_legroom              39.5     38.1     38.3     36.5\n",
       "service_records            6.0      1.0      8.0      7.0"
      ]
     },
     "execution_count": 68,
     "metadata": {},
     "output_type": "execute_result"
    }
   ],
   "source": [
    "pd.concat([data_quanti.query('num_cylinder == 6 | wheel_drive == 4').T], axis=1)\n",
    "#data_quanti.query('num_cylinder == 6').T\n",
    "data_quanti.query('wheel_drive == 4').T"
   ]
  },
  {
   "cell_type": "markdown",
   "metadata": {},
   "source": [
    "É interessante notarmos que, apesar das características de _outliers_, o carro da coluna __6__ é o que possui o preço mais alto da base. Ou seja, tanto o _wheel_drive_ como o _num_cylinder_ estão relacionados de algum modo ao preço do carro, por exemplo. "
   ]
  },
  {
   "cell_type": "markdown",
   "metadata": {},
   "source": [
    "### Box-plot"
   ]
  },
  {
   "cell_type": "code",
   "execution_count": 54,
   "metadata": {},
   "outputs": [
    {
     "data": {
      "application/vnd.plotly.v1+json": {
       "config": {
        "plotlyServerURL": "https://plot.ly"
       },
       "data": [
        {
         "alignmentgroup": "True",
         "hovertemplate": "y=%{y}<extra></extra>",
         "legendgroup": "",
         "marker": {
          "color": "lightseagreen"
         },
         "name": "",
         "notched": false,
         "offsetgroup": "",
         "orientation": "v",
         "showlegend": false,
         "type": "box",
         "x0": " ",
         "xaxis": "x",
         "y": [
          2019,
          2017,
          2014,
          2016,
          2019,
          2016,
          2022,
          2018,
          2019,
          2017,
          2015,
          2019,
          2018,
          2020,
          2020,
          2019,
          2020,
          2019,
          2019,
          2019,
          2019,
          2020,
          2019,
          2018,
          2017,
          2020,
          2020,
          2019,
          2019,
          2018,
          2019,
          2017,
          2019,
          2020,
          2019,
          2019,
          2018,
          2019,
          2018,
          2020,
          2018,
          2019,
          2020,
          2019,
          2020,
          2019,
          2018,
          2019,
          2020,
          2019,
          2020,
          2018
         ],
         "y0": " ",
         "yaxis": "y"
        },
        {
         "alignmentgroup": "True",
         "hovertemplate": "y=%{y}<extra></extra>",
         "legendgroup": "",
         "marker": {
          "color": "lightseagreen"
         },
         "name": "",
         "notched": false,
         "offsetgroup": "",
         "orientation": "v",
         "showlegend": false,
         "type": "box",
         "x0": " ",
         "xaxis": "x2",
         "y": [
          27173,
          76941,
          97027,
          95396,
          28405,
          61459,
          6811,
          29674,
          25044,
          26215,
          25939,
          32270,
          19950,
          19719,
          16076,
          28214,
          12395,
          33322,
          56233,
          24250,
          38097,
          35743,
          32946,
          26905,
          66329,
          27457,
          12395,
          41799,
          26910,
          16581,
          9736,
          7743,
          44371,
          12944,
          5000,
          41799,
          13726,
          18898,
          51279,
          36506,
          58126,
          27440,
          59090,
          47715,
          9495,
          13721,
          72827,
          33412,
          13830,
          23507,
          11296,
          82729
         ],
         "y0": " ",
         "yaxis": "y2"
        },
        {
         "alignmentgroup": "True",
         "hovertemplate": "y=%{y}<extra></extra>",
         "legendgroup": "",
         "marker": {
          "color": "lightseagreen"
         },
         "name": "",
         "notched": false,
         "offsetgroup": "",
         "orientation": "v",
         "showlegend": false,
         "type": "box",
         "x0": " ",
         "xaxis": "x3",
         "y": [
          43,
          29,
          27,
          31,
          29,
          31,
          27,
          44,
          30,
          28,
          29,
          32,
          31,
          30,
          32,
          28,
          30,
          30,
          55,
          30,
          17,
          20,
          29,
          25,
          23,
          23,
          30,
          30,
          25,
          31,
          25,
          31,
          28,
          25,
          30,
          30,
          22,
          30,
          30,
          21,
          30,
          32,
          30,
          30,
          23,
          30,
          31,
          23,
          30,
          20,
          30,
          30
         ],
         "y0": " ",
         "yaxis": "y3"
        },
        {
         "alignmentgroup": "True",
         "hovertemplate": "y=%{y}<extra></extra>",
         "legendgroup": "",
         "marker": {
          "color": "lightseagreen"
         },
         "name": "",
         "notched": false,
         "offsetgroup": "",
         "orientation": "v",
         "showlegend": false,
         "type": "box",
         "x0": " ",
         "xaxis": "x4",
         "y": [
          42,
          38,
          37,
          42,
          38,
          41,
          35,
          40,
          40,
          38,
          37,
          42,
          40,
          38,
          42,
          38,
          38,
          38,
          49,
          40,
          24,
          29,
          36,
          36,
          34,
          34,
          38,
          38,
          33,
          40,
          33,
          40,
          38,
          32,
          40,
          38,
          32,
          40,
          38,
          31,
          38,
          42,
          38,
          38,
          34,
          40,
          40,
          32,
          40,
          29,
          40,
          38
         ],
         "y0": " ",
         "yaxis": "y4"
        },
        {
         "alignmentgroup": "True",
         "hovertemplate": "y=%{y}<extra></extra>",
         "legendgroup": "",
         "marker": {
          "color": "lightseagreen"
         },
         "name": "",
         "notched": false,
         "offsetgroup": "",
         "orientation": "v",
         "showlegend": false,
         "type": "box",
         "x0": " ",
         "xaxis": "x5",
         "y": [
          149,
          146,
          159,
          158,
          147,
          158,
          182,
          212,
          147,
          150,
          143,
          174,
          158,
          192,
          174,
          152,
          192,
          158,
          151,
          147,
          288,
          245,
          160,
          174,
          170,
          174,
          192,
          158,
          185,
          158,
          185,
          158,
          152,
          228,
          147,
          158,
          250,
          158,
          192,
          245,
          192,
          174,
          192,
          158,
          174,
          147,
          158,
          245,
          147,
          245,
          147,
          192
         ],
         "y0": " ",
         "yaxis": "y5"
        },
        {
         "alignmentgroup": "True",
         "hovertemplate": "y=%{y}<extra></extra>",
         "legendgroup": "",
         "marker": {
          "color": "lightseagreen"
         },
         "name": "",
         "notched": false,
         "offsetgroup": "",
         "orientation": "v",
         "showlegend": false,
         "type": "box",
         "x0": " ",
         "xaxis": "x6",
         "y": [
          294,
          132,
          146,
          138,
          132,
          138,
          176,
          99,
          184,
          184,
          129,
          162,
          138,
          192,
          162,
          145,
          192,
          138,
          99,
          184,
          254,
          275,
          184,
          184,
          184,
          206,
          192,
          138,
          178,
          138,
          178,
          138,
          145,
          258,
          184,
          138,
          260,
          184,
          192,
          275,
          192,
          162,
          192,
          138,
          206,
          184,
          138,
          260,
          132,
          275,
          132,
          192
         ],
         "y0": " ",
         "yaxis": "y6"
        },
        {
         "alignmentgroup": "True",
         "hovertemplate": "y=%{y}<extra></extra>",
         "legendgroup": "",
         "marker": {
          "color": "lightseagreen"
         },
         "name": "",
         "notched": false,
         "offsetgroup": "",
         "orientation": "v",
         "showlegend": false,
         "type": "box",
         "x0": " ",
         "xaxis": "x7",
         "y": [
          1.5,
          2,
          2,
          1.5,
          2,
          2,
          2.5,
          1.5,
          1.4,
          1.4,
          1.8,
          1.5,
          2,
          1.5,
          1.5,
          2,
          1.5,
          2,
          1.5,
          1.4,
          3.5,
          2,
          1.5,
          2,
          1.8,
          2,
          1.5,
          2,
          2.4,
          2,
          2.4,
          2,
          2,
          2,
          1.4,
          2,
          2,
          1.4,
          1.5,
          2,
          1.5,
          1.5,
          1.5,
          2,
          2,
          1.4,
          2,
          2,
          2,
          2,
          2,
          1.5
         ],
         "y0": " ",
         "yaxis": "y7"
        },
        {
         "alignmentgroup": "True",
         "hovertemplate": "y=%{y}<extra></extra>",
         "legendgroup": "",
         "marker": {
          "color": "lightseagreen"
         },
         "name": "",
         "notched": false,
         "offsetgroup": "",
         "orientation": "v",
         "showlegend": false,
         "type": "box",
         "x0": " ",
         "xaxis": "x8",
         "y": [
          8.9,
          14,
          12.4,
          12.4,
          14,
          12.4,
          18.5,
          7,
          13.2,
          14.5,
          13.2,
          12.4,
          12.4,
          14.8,
          12.4,
          13.2,
          14.8,
          12.4,
          10.6,
          13.2,
          19,
          18,
          15.8,
          18.5,
          18.5,
          18.5,
          14.8,
          12.4,
          18.5,
          12.4,
          18.5,
          12.4,
          13.2,
          13.2,
          13.2,
          12.4,
          15.8,
          13.2,
          14.8,
          16.5,
          14.8,
          12.4,
          14.8,
          12.4,
          18.5,
          13.2,
          12.4,
          18.5,
          14,
          14,
          14,
          14.8
         ],
         "y0": " ",
         "yaxis": "y8"
        },
        {
         "alignmentgroup": "True",
         "hovertemplate": "y=%{y}<extra></extra>",
         "legendgroup": "",
         "marker": {
          "color": "lightseagreen"
         },
         "name": "",
         "notched": false,
         "offsetgroup": "",
         "orientation": "v",
         "showlegend": false,
         "type": "box",
         "x0": " ",
         "xaxis": "x9",
         "y": [
          4,
          4,
          4,
          4,
          4,
          4,
          4,
          4,
          4,
          4,
          4,
          4,
          4,
          4,
          4,
          4,
          4,
          4,
          4,
          4,
          6,
          4,
          4,
          4,
          4,
          4,
          4,
          4,
          4,
          4,
          4,
          4,
          4,
          4,
          4,
          4,
          4,
          4,
          4,
          4,
          4,
          4,
          4,
          4,
          4,
          4,
          4,
          4,
          4,
          4,
          4,
          4
         ],
         "y0": " ",
         "yaxis": "y9"
        },
        {
         "alignmentgroup": "True",
         "hovertemplate": "y=%{y}<extra></extra>",
         "legendgroup": "",
         "marker": {
          "color": "lightseagreen"
         },
         "name": "",
         "notched": false,
         "offsetgroup": "",
         "orientation": "v",
         "showlegend": false,
         "type": "box",
         "x0": " ",
         "xaxis": "x10",
         "y": [
          3,
          2,
          3,
          2,
          3,
          2,
          1,
          1,
          1,
          2,
          1,
          1,
          1,
          1,
          1,
          1,
          1,
          1,
          2,
          1,
          3,
          1,
          1,
          2,
          2,
          1,
          1,
          1,
          1,
          2,
          1,
          1,
          2,
          1,
          1,
          1,
          1,
          1,
          1,
          1,
          2,
          1,
          1,
          1,
          1,
          1,
          1,
          1,
          1,
          1,
          1,
          1
         ],
         "y0": " ",
         "yaxis": "y10"
        },
        {
         "alignmentgroup": "True",
         "hovertemplate": "y=%{y}<extra></extra>",
         "legendgroup": "",
         "marker": {
          "color": "lightseagreen"
         },
         "name": "",
         "notched": false,
         "offsetgroup": "",
         "orientation": "v",
         "showlegend": false,
         "type": "box",
         "x0": " ",
         "xaxis": "x11",
         "y": [
          25655,
          15590,
          13590,
          20590,
          16787,
          18277,
          33777,
          26999,
          22491,
          17500,
          19450,
          22688,
          22988,
          26988,
          24498,
          22360,
          26788,
          22899,
          21998,
          17880,
          22993,
          20900,
          18949,
          19795,
          15795,
          24498,
          26788,
          19998,
          17993,
          21994,
          25491,
          22995,
          22388,
          25460,
          19877,
          19998,
          23570,
          18999,
          25991,
          19795,
          22991,
          22476,
          21988,
          22988,
          22999,
          21680,
          17488,
          22493,
          21999,
          21591,
          19542,
          19403
         ],
         "y0": " ",
         "yaxis": "y11"
        },
        {
         "alignmentgroup": "True",
         "hovertemplate": "y=%{y}<extra></extra>",
         "legendgroup": "",
         "marker": {
          "color": "lightseagreen"
         },
         "name": "",
         "notched": false,
         "offsetgroup": "",
         "orientation": "v",
         "showlegend": false,
         "type": "box",
         "x0": " ",
         "xaxis": "x12",
         "y": [
          2,
          2,
          2,
          2,
          2,
          2,
          4,
          2,
          2,
          2,
          2,
          2,
          2,
          2,
          2,
          2,
          2,
          2,
          2,
          2,
          4,
          4,
          2,
          2,
          2,
          2,
          2,
          2,
          2,
          2,
          2,
          2,
          4,
          2,
          2,
          2,
          2,
          2,
          2,
          2,
          2,
          2,
          2,
          2,
          2,
          2,
          2,
          2,
          2,
          2,
          2,
          2
         ],
         "y0": " ",
         "yaxis": "y12"
        },
        {
         "alignmentgroup": "True",
         "hovertemplate": "y=%{y}<extra></extra>",
         "legendgroup": "",
         "marker": {
          "color": "lightseagreen"
         },
         "name": "",
         "notched": false,
         "offsetgroup": "",
         "orientation": "v",
         "showlegend": false,
         "type": "box",
         "x0": " ",
         "xaxis": "x13",
         "y": [
          6,
          6,
          6,
          6,
          6,
          6,
          6,
          6,
          8,
          6,
          6,
          6,
          6,
          6,
          6,
          6,
          6,
          6,
          6,
          8,
          6,
          6,
          6,
          6,
          6,
          6,
          6,
          6,
          6,
          6,
          6,
          6,
          6,
          7,
          8,
          6,
          9,
          8,
          6,
          6,
          6,
          6,
          6,
          6,
          6,
          8,
          6,
          8,
          6,
          6,
          6,
          6
         ],
         "y0": " ",
         "yaxis": "y13"
        },
        {
         "alignmentgroup": "True",
         "hovertemplate": "y=%{y}<extra></extra>",
         "legendgroup": "",
         "marker": {
          "color": "lightseagreen"
         },
         "name": "",
         "notched": false,
         "offsetgroup": "",
         "orientation": "v",
         "showlegend": false,
         "type": "box",
         "x0": " ",
         "xaxis": "x14",
         "y": [
          37.8,
          39,
          38.3,
          37.5,
          39,
          37.5,
          39.4,
          39.1,
          38.5,
          38.2,
          37.9,
          37.5,
          37.5,
          37.5,
          37.5,
          39.8,
          37.5,
          39.3,
          39.3,
          38.5,
          39,
          39.2,
          39.1,
          38.3,
          38.3,
          38.3,
          37.5,
          39.3,
          40.4,
          37.5,
          40.4,
          37.5,
          39.8,
          38.5,
          38.5,
          39.3,
          39.1,
          38.5,
          37.5,
          39.2,
          37.5,
          37.5,
          39.5,
          39.3,
          38.3,
          38.5,
          39.3,
          40.4,
          40.3,
          39.2,
          40.3,
          39.5
         ],
         "y0": " ",
         "yaxis": "y14"
        },
        {
         "alignmentgroup": "True",
         "hovertemplate": "y=%{y}<extra></extra>",
         "legendgroup": "",
         "marker": {
          "color": "lightseagreen"
         },
         "name": "",
         "notched": false,
         "offsetgroup": "",
         "orientation": "v",
         "showlegend": false,
         "type": "box",
         "x0": " ",
         "xaxis": "x15",
         "y": [
          42.1,
          42.2,
          43.7,
          42.3,
          42.2,
          42.3,
          42.8,
          42.2,
          41.1,
          41.2,
          42,
          42.3,
          42.3,
          42.3,
          42.3,
          43.1,
          42.3,
          42.3,
          42.3,
          41.1,
          41.9,
          44.3,
          41.5,
          42.4,
          42.4,
          42.4,
          42.3,
          42.3,
          45.5,
          42.3,
          45.5,
          42.3,
          43.1,
          41.1,
          41.1,
          42.3,
          42,
          41.1,
          42.3,
          44.3,
          42.3,
          42.3,
          42.3,
          42.3,
          42.4,
          41.1,
          42.3,
          45.5,
          42.2,
          44.3,
          42.2,
          42.3
         ],
         "y0": " ",
         "yaxis": "y15"
        },
        {
         "alignmentgroup": "True",
         "hovertemplate": "y=%{y}<extra></extra>",
         "legendgroup": "",
         "marker": {
          "color": "lightseagreen"
         },
         "name": "",
         "notched": false,
         "offsetgroup": "",
         "orientation": "v",
         "showlegend": false,
         "type": "box",
         "x0": " ",
         "xaxis": "x16",
         "y": [
          35.8,
          37,
          38,
          36.8,
          37,
          36.8,
          37.2,
          37.1,
          37.2,
          37.1,
          36.2,
          36.8,
          36.8,
          37.2,
          36.8,
          37.2,
          37.2,
          37.1,
          36.9,
          37.2,
          37.8,
          37.8,
          37.5,
          37.8,
          37.8,
          37.8,
          37.2,
          37.1,
          38,
          36.8,
          38,
          36.8,
          37.2,
          37.2,
          37.2,
          37.1,
          37.5,
          37.2,
          37.2,
          37.8,
          37.2,
          36.8,
          37.3,
          37.1,
          37.8,
          37.2,
          37.1,
          38,
          37.3,
          37.8,
          37.3,
          37.3
         ],
         "y0": " ",
         "yaxis": "y16"
        },
        {
         "alignmentgroup": "True",
         "hovertemplate": "y=%{y}<extra></extra>",
         "legendgroup": "",
         "marker": {
          "color": "lightseagreen"
         },
         "name": "",
         "notched": false,
         "offsetgroup": "",
         "orientation": "v",
         "showlegend": false,
         "type": "box",
         "x0": " ",
         "xaxis": "x17",
         "y": [
          34.7,
          35.7,
          33.2,
          37.4,
          35.7,
          37.4,
          39.5,
          36.2,
          37.4,
          38.1,
          36.2,
          37.4,
          37.4,
          40.4,
          37.4,
          36.5,
          40.4,
          37.4,
          37.4,
          37.4,
          38.1,
          38.3,
          38.1,
          39.1,
          39.1,
          39.1,
          40.4,
          37.4,
          35.6,
          37.4,
          35.6,
          37.4,
          36.5,
          37.4,
          37.4,
          37.4,
          38.1,
          37.4,
          40.4,
          38.3,
          40.4,
          37.4,
          40.4,
          37.4,
          39.1,
          37.4,
          37.4,
          35.6,
          35.7,
          38.3,
          35.7,
          40.4
         ],
         "y0": " ",
         "yaxis": "y17"
        },
        {
         "alignmentgroup": "True",
         "hovertemplate": "y=%{y}<extra></extra>",
         "legendgroup": "",
         "marker": {
          "color": "lightseagreen"
         },
         "name": "",
         "notched": false,
         "offsetgroup": "",
         "orientation": "v",
         "showlegend": false,
         "type": "box",
         "x0": " ",
         "xaxis": "x18",
         "y": [
          4,
          16,
          13,
          26,
          5,
          13,
          6,
          2,
          6,
          13,
          15,
          4,
          9,
          4,
          5,
          4,
          4,
          4,
          5,
          8,
          1,
          8,
          15,
          11,
          5,
          11,
          4,
          4,
          4,
          4,
          6,
          2,
          7,
          5,
          6,
          4,
          7,
          4,
          8,
          7,
          14,
          13,
          1,
          1,
          10,
          5,
          5,
          10,
          6,
          11,
          7,
          9
         ],
         "y0": " ",
         "yaxis": "y18"
        }
       ],
       "layout": {
        "annotations": [
         {
          "font": {
           "size": 16
          },
          "showarrow": false,
          "text": "year",
          "x": 0.10625,
          "xanchor": "center",
          "xref": "paper",
          "y": 1,
          "yanchor": "bottom",
          "yref": "paper"
         },
         {
          "font": {
           "size": 16
          },
          "showarrow": false,
          "text": "miles",
          "x": 0.36875,
          "xanchor": "center",
          "xref": "paper",
          "y": 1,
          "yanchor": "bottom",
          "yref": "paper"
         },
         {
          "font": {
           "size": 16
          },
          "showarrow": false,
          "text": "city_mileage",
          "x": 0.6312500000000001,
          "xanchor": "center",
          "xref": "paper",
          "y": 1,
          "yanchor": "bottom",
          "yref": "paper"
         },
         {
          "font": {
           "size": 16
          },
          "showarrow": false,
          "text": "highway_mileage",
          "x": 0.89375,
          "xanchor": "center",
          "xref": "paper",
          "y": 1,
          "yanchor": "bottom",
          "yref": "paper"
         },
         {
          "font": {
           "size": 16
          },
          "showarrow": false,
          "text": "horsepower",
          "x": 0.10625,
          "xanchor": "center",
          "xref": "paper",
          "y": 0.78,
          "yanchor": "bottom",
          "yref": "paper"
         },
         {
          "font": {
           "size": 16
          },
          "showarrow": false,
          "text": "torque",
          "x": 0.36875,
          "xanchor": "center",
          "xref": "paper",
          "y": 0.78,
          "yanchor": "bottom",
          "yref": "paper"
         },
         {
          "font": {
           "size": 16
          },
          "showarrow": false,
          "text": "engine_capacity_litre",
          "x": 0.6312500000000001,
          "xanchor": "center",
          "xref": "paper",
          "y": 0.78,
          "yanchor": "bottom",
          "yref": "paper"
         },
         {
          "font": {
           "size": 16
          },
          "showarrow": false,
          "text": "fuel_capacity",
          "x": 0.89375,
          "xanchor": "center",
          "xref": "paper",
          "y": 0.78,
          "yanchor": "bottom",
          "yref": "paper"
         },
         {
          "font": {
           "size": 16
          },
          "showarrow": false,
          "text": "num_cylinder",
          "x": 0.10625,
          "xanchor": "center",
          "xref": "paper",
          "y": 0.56,
          "yanchor": "bottom",
          "yref": "paper"
         },
         {
          "font": {
           "size": 16
          },
          "showarrow": false,
          "text": "num_owners",
          "x": 0.36875,
          "xanchor": "center",
          "xref": "paper",
          "y": 0.56,
          "yanchor": "bottom",
          "yref": "paper"
         },
         {
          "font": {
           "size": 16
          },
          "showarrow": false,
          "text": "price",
          "x": 0.6312500000000001,
          "xanchor": "center",
          "xref": "paper",
          "y": 0.56,
          "yanchor": "bottom",
          "yref": "paper"
         },
         {
          "font": {
           "size": 16
          },
          "showarrow": false,
          "text": "wheel_drive",
          "x": 0.89375,
          "xanchor": "center",
          "xref": "paper",
          "y": 0.56,
          "yanchor": "bottom",
          "yref": "paper"
         },
         {
          "font": {
           "size": 16
          },
          "showarrow": false,
          "text": "speed_levels",
          "x": 0.10625,
          "xanchor": "center",
          "xref": "paper",
          "y": 0.33999999999999997,
          "yanchor": "bottom",
          "yref": "paper"
         },
         {
          "font": {
           "size": 16
          },
          "showarrow": false,
          "text": "front_headroom",
          "x": 0.36875,
          "xanchor": "center",
          "xref": "paper",
          "y": 0.33999999999999997,
          "yanchor": "bottom",
          "yref": "paper"
         },
         {
          "font": {
           "size": 16
          },
          "showarrow": false,
          "text": "front_legroom",
          "x": 0.6312500000000001,
          "xanchor": "center",
          "xref": "paper",
          "y": 0.33999999999999997,
          "yanchor": "bottom",
          "yref": "paper"
         },
         {
          "font": {
           "size": 16
          },
          "showarrow": false,
          "text": "rear_headroom",
          "x": 0.89375,
          "xanchor": "center",
          "xref": "paper",
          "y": 0.33999999999999997,
          "yanchor": "bottom",
          "yref": "paper"
         },
         {
          "font": {
           "size": 16
          },
          "showarrow": false,
          "text": "rear_legroom",
          "x": 0.10625,
          "xanchor": "center",
          "xref": "paper",
          "y": 0.12,
          "yanchor": "bottom",
          "yref": "paper"
         },
         {
          "font": {
           "size": 16
          },
          "showarrow": false,
          "text": "service_records",
          "x": 0.36875,
          "xanchor": "center",
          "xref": "paper",
          "y": 0.12,
          "yanchor": "bottom",
          "yref": "paper"
         }
        ],
        "height": 850,
        "margin": {
         "b": 10,
         "l": 10,
         "r": 10,
         "t": 50
        },
        "showlegend": false,
        "template": {
         "data": {
          "bar": [
           {
            "error_x": {
             "color": "#2a3f5f"
            },
            "error_y": {
             "color": "#2a3f5f"
            },
            "marker": {
             "line": {
              "color": "#E5ECF6",
              "width": 0.5
             },
             "pattern": {
              "fillmode": "overlay",
              "size": 10,
              "solidity": 0.2
             }
            },
            "type": "bar"
           }
          ],
          "barpolar": [
           {
            "marker": {
             "line": {
              "color": "#E5ECF6",
              "width": 0.5
             },
             "pattern": {
              "fillmode": "overlay",
              "size": 10,
              "solidity": 0.2
             }
            },
            "type": "barpolar"
           }
          ],
          "carpet": [
           {
            "aaxis": {
             "endlinecolor": "#2a3f5f",
             "gridcolor": "white",
             "linecolor": "white",
             "minorgridcolor": "white",
             "startlinecolor": "#2a3f5f"
            },
            "baxis": {
             "endlinecolor": "#2a3f5f",
             "gridcolor": "white",
             "linecolor": "white",
             "minorgridcolor": "white",
             "startlinecolor": "#2a3f5f"
            },
            "type": "carpet"
           }
          ],
          "choropleth": [
           {
            "colorbar": {
             "outlinewidth": 0,
             "ticks": ""
            },
            "type": "choropleth"
           }
          ],
          "contour": [
           {
            "colorbar": {
             "outlinewidth": 0,
             "ticks": ""
            },
            "colorscale": [
             [
              0,
              "#0d0887"
             ],
             [
              0.1111111111111111,
              "#46039f"
             ],
             [
              0.2222222222222222,
              "#7201a8"
             ],
             [
              0.3333333333333333,
              "#9c179e"
             ],
             [
              0.4444444444444444,
              "#bd3786"
             ],
             [
              0.5555555555555556,
              "#d8576b"
             ],
             [
              0.6666666666666666,
              "#ed7953"
             ],
             [
              0.7777777777777778,
              "#fb9f3a"
             ],
             [
              0.8888888888888888,
              "#fdca26"
             ],
             [
              1,
              "#f0f921"
             ]
            ],
            "type": "contour"
           }
          ],
          "contourcarpet": [
           {
            "colorbar": {
             "outlinewidth": 0,
             "ticks": ""
            },
            "type": "contourcarpet"
           }
          ],
          "heatmap": [
           {
            "colorbar": {
             "outlinewidth": 0,
             "ticks": ""
            },
            "colorscale": [
             [
              0,
              "#0d0887"
             ],
             [
              0.1111111111111111,
              "#46039f"
             ],
             [
              0.2222222222222222,
              "#7201a8"
             ],
             [
              0.3333333333333333,
              "#9c179e"
             ],
             [
              0.4444444444444444,
              "#bd3786"
             ],
             [
              0.5555555555555556,
              "#d8576b"
             ],
             [
              0.6666666666666666,
              "#ed7953"
             ],
             [
              0.7777777777777778,
              "#fb9f3a"
             ],
             [
              0.8888888888888888,
              "#fdca26"
             ],
             [
              1,
              "#f0f921"
             ]
            ],
            "type": "heatmap"
           }
          ],
          "heatmapgl": [
           {
            "colorbar": {
             "outlinewidth": 0,
             "ticks": ""
            },
            "colorscale": [
             [
              0,
              "#0d0887"
             ],
             [
              0.1111111111111111,
              "#46039f"
             ],
             [
              0.2222222222222222,
              "#7201a8"
             ],
             [
              0.3333333333333333,
              "#9c179e"
             ],
             [
              0.4444444444444444,
              "#bd3786"
             ],
             [
              0.5555555555555556,
              "#d8576b"
             ],
             [
              0.6666666666666666,
              "#ed7953"
             ],
             [
              0.7777777777777778,
              "#fb9f3a"
             ],
             [
              0.8888888888888888,
              "#fdca26"
             ],
             [
              1,
              "#f0f921"
             ]
            ],
            "type": "heatmapgl"
           }
          ],
          "histogram": [
           {
            "marker": {
             "pattern": {
              "fillmode": "overlay",
              "size": 10,
              "solidity": 0.2
             }
            },
            "type": "histogram"
           }
          ],
          "histogram2d": [
           {
            "colorbar": {
             "outlinewidth": 0,
             "ticks": ""
            },
            "colorscale": [
             [
              0,
              "#0d0887"
             ],
             [
              0.1111111111111111,
              "#46039f"
             ],
             [
              0.2222222222222222,
              "#7201a8"
             ],
             [
              0.3333333333333333,
              "#9c179e"
             ],
             [
              0.4444444444444444,
              "#bd3786"
             ],
             [
              0.5555555555555556,
              "#d8576b"
             ],
             [
              0.6666666666666666,
              "#ed7953"
             ],
             [
              0.7777777777777778,
              "#fb9f3a"
             ],
             [
              0.8888888888888888,
              "#fdca26"
             ],
             [
              1,
              "#f0f921"
             ]
            ],
            "type": "histogram2d"
           }
          ],
          "histogram2dcontour": [
           {
            "colorbar": {
             "outlinewidth": 0,
             "ticks": ""
            },
            "colorscale": [
             [
              0,
              "#0d0887"
             ],
             [
              0.1111111111111111,
              "#46039f"
             ],
             [
              0.2222222222222222,
              "#7201a8"
             ],
             [
              0.3333333333333333,
              "#9c179e"
             ],
             [
              0.4444444444444444,
              "#bd3786"
             ],
             [
              0.5555555555555556,
              "#d8576b"
             ],
             [
              0.6666666666666666,
              "#ed7953"
             ],
             [
              0.7777777777777778,
              "#fb9f3a"
             ],
             [
              0.8888888888888888,
              "#fdca26"
             ],
             [
              1,
              "#f0f921"
             ]
            ],
            "type": "histogram2dcontour"
           }
          ],
          "mesh3d": [
           {
            "colorbar": {
             "outlinewidth": 0,
             "ticks": ""
            },
            "type": "mesh3d"
           }
          ],
          "parcoords": [
           {
            "line": {
             "colorbar": {
              "outlinewidth": 0,
              "ticks": ""
             }
            },
            "type": "parcoords"
           }
          ],
          "pie": [
           {
            "automargin": true,
            "type": "pie"
           }
          ],
          "scatter": [
           {
            "fillpattern": {
             "fillmode": "overlay",
             "size": 10,
             "solidity": 0.2
            },
            "type": "scatter"
           }
          ],
          "scatter3d": [
           {
            "line": {
             "colorbar": {
              "outlinewidth": 0,
              "ticks": ""
             }
            },
            "marker": {
             "colorbar": {
              "outlinewidth": 0,
              "ticks": ""
             }
            },
            "type": "scatter3d"
           }
          ],
          "scattercarpet": [
           {
            "marker": {
             "colorbar": {
              "outlinewidth": 0,
              "ticks": ""
             }
            },
            "type": "scattercarpet"
           }
          ],
          "scattergeo": [
           {
            "marker": {
             "colorbar": {
              "outlinewidth": 0,
              "ticks": ""
             }
            },
            "type": "scattergeo"
           }
          ],
          "scattergl": [
           {
            "marker": {
             "colorbar": {
              "outlinewidth": 0,
              "ticks": ""
             }
            },
            "type": "scattergl"
           }
          ],
          "scattermapbox": [
           {
            "marker": {
             "colorbar": {
              "outlinewidth": 0,
              "ticks": ""
             }
            },
            "type": "scattermapbox"
           }
          ],
          "scatterpolar": [
           {
            "marker": {
             "colorbar": {
              "outlinewidth": 0,
              "ticks": ""
             }
            },
            "type": "scatterpolar"
           }
          ],
          "scatterpolargl": [
           {
            "marker": {
             "colorbar": {
              "outlinewidth": 0,
              "ticks": ""
             }
            },
            "type": "scatterpolargl"
           }
          ],
          "scatterternary": [
           {
            "marker": {
             "colorbar": {
              "outlinewidth": 0,
              "ticks": ""
             }
            },
            "type": "scatterternary"
           }
          ],
          "surface": [
           {
            "colorbar": {
             "outlinewidth": 0,
             "ticks": ""
            },
            "colorscale": [
             [
              0,
              "#0d0887"
             ],
             [
              0.1111111111111111,
              "#46039f"
             ],
             [
              0.2222222222222222,
              "#7201a8"
             ],
             [
              0.3333333333333333,
              "#9c179e"
             ],
             [
              0.4444444444444444,
              "#bd3786"
             ],
             [
              0.5555555555555556,
              "#d8576b"
             ],
             [
              0.6666666666666666,
              "#ed7953"
             ],
             [
              0.7777777777777778,
              "#fb9f3a"
             ],
             [
              0.8888888888888888,
              "#fdca26"
             ],
             [
              1,
              "#f0f921"
             ]
            ],
            "type": "surface"
           }
          ],
          "table": [
           {
            "cells": {
             "fill": {
              "color": "#EBF0F8"
             },
             "line": {
              "color": "white"
             }
            },
            "header": {
             "fill": {
              "color": "#C8D4E3"
             },
             "line": {
              "color": "white"
             }
            },
            "type": "table"
           }
          ]
         },
         "layout": {
          "annotationdefaults": {
           "arrowcolor": "#2a3f5f",
           "arrowhead": 0,
           "arrowwidth": 1
          },
          "autotypenumbers": "strict",
          "coloraxis": {
           "colorbar": {
            "outlinewidth": 0,
            "ticks": ""
           }
          },
          "colorscale": {
           "diverging": [
            [
             0,
             "#8e0152"
            ],
            [
             0.1,
             "#c51b7d"
            ],
            [
             0.2,
             "#de77ae"
            ],
            [
             0.3,
             "#f1b6da"
            ],
            [
             0.4,
             "#fde0ef"
            ],
            [
             0.5,
             "#f7f7f7"
            ],
            [
             0.6,
             "#e6f5d0"
            ],
            [
             0.7,
             "#b8e186"
            ],
            [
             0.8,
             "#7fbc41"
            ],
            [
             0.9,
             "#4d9221"
            ],
            [
             1,
             "#276419"
            ]
           ],
           "sequential": [
            [
             0,
             "#0d0887"
            ],
            [
             0.1111111111111111,
             "#46039f"
            ],
            [
             0.2222222222222222,
             "#7201a8"
            ],
            [
             0.3333333333333333,
             "#9c179e"
            ],
            [
             0.4444444444444444,
             "#bd3786"
            ],
            [
             0.5555555555555556,
             "#d8576b"
            ],
            [
             0.6666666666666666,
             "#ed7953"
            ],
            [
             0.7777777777777778,
             "#fb9f3a"
            ],
            [
             0.8888888888888888,
             "#fdca26"
            ],
            [
             1,
             "#f0f921"
            ]
           ],
           "sequentialminus": [
            [
             0,
             "#0d0887"
            ],
            [
             0.1111111111111111,
             "#46039f"
            ],
            [
             0.2222222222222222,
             "#7201a8"
            ],
            [
             0.3333333333333333,
             "#9c179e"
            ],
            [
             0.4444444444444444,
             "#bd3786"
            ],
            [
             0.5555555555555556,
             "#d8576b"
            ],
            [
             0.6666666666666666,
             "#ed7953"
            ],
            [
             0.7777777777777778,
             "#fb9f3a"
            ],
            [
             0.8888888888888888,
             "#fdca26"
            ],
            [
             1,
             "#f0f921"
            ]
           ]
          },
          "colorway": [
           "#636efa",
           "#EF553B",
           "#00cc96",
           "#ab63fa",
           "#FFA15A",
           "#19d3f3",
           "#FF6692",
           "#B6E880",
           "#FF97FF",
           "#FECB52"
          ],
          "font": {
           "color": "#2a3f5f"
          },
          "geo": {
           "bgcolor": "white",
           "lakecolor": "white",
           "landcolor": "#E5ECF6",
           "showlakes": true,
           "showland": true,
           "subunitcolor": "white"
          },
          "hoverlabel": {
           "align": "left"
          },
          "hovermode": "closest",
          "mapbox": {
           "style": "light"
          },
          "paper_bgcolor": "white",
          "plot_bgcolor": "#E5ECF6",
          "polar": {
           "angularaxis": {
            "gridcolor": "white",
            "linecolor": "white",
            "ticks": ""
           },
           "bgcolor": "#E5ECF6",
           "radialaxis": {
            "gridcolor": "white",
            "linecolor": "white",
            "ticks": ""
           }
          },
          "scene": {
           "xaxis": {
            "backgroundcolor": "#E5ECF6",
            "gridcolor": "white",
            "gridwidth": 2,
            "linecolor": "white",
            "showbackground": true,
            "ticks": "",
            "zerolinecolor": "white"
           },
           "yaxis": {
            "backgroundcolor": "#E5ECF6",
            "gridcolor": "white",
            "gridwidth": 2,
            "linecolor": "white",
            "showbackground": true,
            "ticks": "",
            "zerolinecolor": "white"
           },
           "zaxis": {
            "backgroundcolor": "#E5ECF6",
            "gridcolor": "white",
            "gridwidth": 2,
            "linecolor": "white",
            "showbackground": true,
            "ticks": "",
            "zerolinecolor": "white"
           }
          },
          "shapedefaults": {
           "line": {
            "color": "#2a3f5f"
           }
          },
          "ternary": {
           "aaxis": {
            "gridcolor": "white",
            "linecolor": "white",
            "ticks": ""
           },
           "baxis": {
            "gridcolor": "white",
            "linecolor": "white",
            "ticks": ""
           },
           "bgcolor": "#E5ECF6",
           "caxis": {
            "gridcolor": "white",
            "linecolor": "white",
            "ticks": ""
           }
          },
          "title": {
           "x": 0.05
          },
          "xaxis": {
           "automargin": true,
           "gridcolor": "white",
           "linecolor": "white",
           "ticks": "",
           "title": {
            "standoff": 15
           },
           "zerolinecolor": "white",
           "zerolinewidth": 2
          },
          "yaxis": {
           "automargin": true,
           "gridcolor": "white",
           "linecolor": "white",
           "ticks": "",
           "title": {
            "standoff": 15
           },
           "zerolinecolor": "white",
           "zerolinewidth": 2
          }
         }
        },
        "title": {
         "text": "Box-plot das variáveis quantitativas da base de dados"
        },
        "width": 1000,
        "xaxis": {
         "anchor": "y",
         "domain": [
          0,
          0.2125
         ]
        },
        "xaxis10": {
         "anchor": "y10",
         "domain": [
          0.2625,
          0.475
         ]
        },
        "xaxis11": {
         "anchor": "y11",
         "domain": [
          0.525,
          0.7375
         ]
        },
        "xaxis12": {
         "anchor": "y12",
         "domain": [
          0.7875,
          1
         ]
        },
        "xaxis13": {
         "anchor": "y13",
         "domain": [
          0,
          0.2125
         ]
        },
        "xaxis14": {
         "anchor": "y14",
         "domain": [
          0.2625,
          0.475
         ]
        },
        "xaxis15": {
         "anchor": "y15",
         "domain": [
          0.525,
          0.7375
         ]
        },
        "xaxis16": {
         "anchor": "y16",
         "domain": [
          0.7875,
          1
         ]
        },
        "xaxis17": {
         "anchor": "y17",
         "domain": [
          0,
          0.2125
         ]
        },
        "xaxis18": {
         "anchor": "y18",
         "domain": [
          0.2625,
          0.475
         ]
        },
        "xaxis19": {
         "anchor": "y19",
         "domain": [
          0.525,
          0.7375
         ]
        },
        "xaxis2": {
         "anchor": "y2",
         "domain": [
          0.2625,
          0.475
         ]
        },
        "xaxis20": {
         "anchor": "y20",
         "domain": [
          0.7875,
          1
         ]
        },
        "xaxis3": {
         "anchor": "y3",
         "domain": [
          0.525,
          0.7375
         ]
        },
        "xaxis4": {
         "anchor": "y4",
         "domain": [
          0.7875,
          1
         ]
        },
        "xaxis5": {
         "anchor": "y5",
         "domain": [
          0,
          0.2125
         ]
        },
        "xaxis6": {
         "anchor": "y6",
         "domain": [
          0.2625,
          0.475
         ]
        },
        "xaxis7": {
         "anchor": "y7",
         "domain": [
          0.525,
          0.7375
         ]
        },
        "xaxis8": {
         "anchor": "y8",
         "domain": [
          0.7875,
          1
         ]
        },
        "xaxis9": {
         "anchor": "y9",
         "domain": [
          0,
          0.2125
         ]
        },
        "yaxis": {
         "anchor": "x",
         "domain": [
          0.88,
          1
         ]
        },
        "yaxis10": {
         "anchor": "x10",
         "domain": [
          0.44,
          0.56
         ]
        },
        "yaxis11": {
         "anchor": "x11",
         "domain": [
          0.44,
          0.56
         ]
        },
        "yaxis12": {
         "anchor": "x12",
         "domain": [
          0.44,
          0.56
         ]
        },
        "yaxis13": {
         "anchor": "x13",
         "domain": [
          0.22,
          0.33999999999999997
         ]
        },
        "yaxis14": {
         "anchor": "x14",
         "domain": [
          0.22,
          0.33999999999999997
         ]
        },
        "yaxis15": {
         "anchor": "x15",
         "domain": [
          0.22,
          0.33999999999999997
         ]
        },
        "yaxis16": {
         "anchor": "x16",
         "domain": [
          0.22,
          0.33999999999999997
         ]
        },
        "yaxis17": {
         "anchor": "x17",
         "domain": [
          0,
          0.12
         ]
        },
        "yaxis18": {
         "anchor": "x18",
         "domain": [
          0,
          0.12
         ]
        },
        "yaxis19": {
         "anchor": "x19",
         "domain": [
          0,
          0.12
         ]
        },
        "yaxis2": {
         "anchor": "x2",
         "domain": [
          0.88,
          1
         ]
        },
        "yaxis20": {
         "anchor": "x20",
         "domain": [
          0,
          0.12
         ]
        },
        "yaxis3": {
         "anchor": "x3",
         "domain": [
          0.88,
          1
         ]
        },
        "yaxis4": {
         "anchor": "x4",
         "domain": [
          0.88,
          1
         ]
        },
        "yaxis5": {
         "anchor": "x5",
         "domain": [
          0.66,
          0.78
         ]
        },
        "yaxis6": {
         "anchor": "x6",
         "domain": [
          0.66,
          0.78
         ]
        },
        "yaxis7": {
         "anchor": "x7",
         "domain": [
          0.66,
          0.78
         ]
        },
        "yaxis8": {
         "anchor": "x8",
         "domain": [
          0.66,
          0.78
         ]
        },
        "yaxis9": {
         "anchor": "x9",
         "domain": [
          0.44,
          0.56
         ]
        }
       }
      }
     },
     "metadata": {},
     "output_type": "display_data"
    }
   ],
   "source": [
    "# Medidas estatísicas para o dataframe\n",
    "def plotly_subplots_box(nrows, ncols, data_frame)-> None:\n",
    "   \n",
    "    columns: list[str] = data_frame.columns.to_list()\n",
    "\n",
    "    fig = make_subplots(rows=nrows, cols=ncols, subplot_titles=columns)\n",
    "    \n",
    "    k=0    \n",
    "    # Add a box plot for each column\n",
    "    for i in range(nrows):        \n",
    "        for j in range(ncols):\n",
    "            if k < len(columns):\n",
    "                fig.add_trace(go.Box(px.box(y=data_frame[columns[k]], orientation='v',\n",
    "                                    color_discrete_sequence=['lightseagreen']).data[0]),\n",
    "                            row=i+1, col=j+1)\n",
    "                k+=1\n",
    "            else:\n",
    "                break\n",
    "            \n",
    "\n",
    "        \n",
    "\n",
    "    # Update the layout\n",
    "    fig.update_layout(height=850, width=1000,\n",
    "                      showlegend=False, \n",
    "                      margin=dict(t=50, l=10, r=10, b=10),\n",
    "                      title_text=\"Box-plot das variáveis quantitativas da base de dados\")\n",
    "\n",
    "    fig.show()\n",
    "\n",
    "plotly_subplots_box(5, 4, data_quanti)"
   ]
  },
  {
   "cell_type": "markdown",
   "metadata": {},
   "source": [
    "Os gráficos de box-plot revelam que existem _outliers_ em todas as variáveis, exceto em _front_headroom_. O box-plot para as variáveis _wheel_drive_ e _num_cylinder_  corrobora as observações feitas na seção anterior com base no histograma, uma vez que _wheel_drive_ = 4 e _num_cylinder_ = 6 são, de fato, _outliers_.\n",
    "Como temos uma quantidade pequena de dados na base (apenas 52), em princípio nenhuma linha será eliminada, ainda que esta corresponda a um _outlier_. Também é importante destacar que as características divergentes podem eventualmente contribuir para um melhor entendimento dos dados."
   ]
  },
  {
   "cell_type": "markdown",
   "metadata": {},
   "source": [
    "### Correlação"
   ]
  },
  {
   "cell_type": "markdown",
   "metadata": {},
   "source": [
    "#### Pearson - Mapa de Calor"
   ]
  },
  {
   "cell_type": "code",
   "execution_count": 55,
   "metadata": {},
   "outputs": [
    {
     "data": {
      "image/png": "[encoded data removed]",
      "text/plain": [
       "<Figure size 800x550 with 2 Axes>"
      ]
     },
     "metadata": {},
     "output_type": "display_data"
    }
   ],
   "source": [
    "# mapa de correlação entre as variáveis quantitativas\n",
    "from yellowbrick.features import Rank2D\n",
    "\n",
    "visualizer = Rank2D(algorithm=\"pearson\")\n",
    "visualizer.fit_transform(data_quanti)\n",
    "visualizer.show();"
   ]
  },
  {
   "cell_type": "markdown",
   "metadata": {},
   "source": [
    "#### Spearman - Mapa de Calor"
   ]
  },
  {
   "cell_type": "code",
   "execution_count": 69,
   "metadata": {},
   "outputs": [
    {
     "data": {
      "image/png": "[encoded data removed]",
      "text/plain": [
       "<Figure size 800x550 with 2 Axes>"
      ]
     },
     "metadata": {},
     "output_type": "display_data"
    }
   ],
   "source": [
    "visualizer = Rank2D(algorithm=\"spearman\")\n",
    "visualizer.fit_transform(data_quanti)\n",
    "visualizer.show();"
   ]
  },
  {
   "cell_type": "markdown",
   "metadata": {},
   "source": [
    "#### Pearson - Matriz"
   ]
  },
  {
   "cell_type": "code",
   "execution_count": 56,
   "metadata": {},
   "outputs": [
    {
     "data": {
      "text/html": [
       "<div class=\"itables\">\n",
       "<style>.itables table td {\n",
       "    text-overflow: ellipsis;\n",
       "    overflow: hidden;\n",
       "}\n",
       "\n",
       ".itables table th {\n",
       "    text-overflow: ellipsis;\n",
       "    overflow: hidden;\n",
       "}\n",
       "\n",
       ".itables thead input {\n",
       "    width: 100%;\n",
       "    padding: 3px;\n",
       "    box-sizing: border-box;\n",
       "}\n",
       "\n",
       ".itables tfoot input {\n",
       "    width: 100%;\n",
       "    padding: 3px;\n",
       "    box-sizing: border-box;\n",
       "}\n",
       "\n",
       ".itables { font-size: medium; }\n",
       "</style>\n",
       "<table id=\"itables_5dd66e32_1337_403b_ade1_6c0e07d406c9\" class=\"display nowrap\" data-quarto-disable-processing=\"true\" style=\"table-layout:auto;width:auto;margin:auto;caption-side:bottom\">\n",
       "<thead>\n",
       "    <tr style=\"text-align: right;\">\n",
       "      <th></th>\n",
       "      <th>year</th>\n",
       "      <th>miles</th>\n",
       "      <th>city_mileage</th>\n",
       "      <th>highway_mileage</th>\n",
       "      <th>horsepower</th>\n",
       "      <th>torque</th>\n",
       "      <th>engine_capacity_litre</th>\n",
       "      <th>fuel_capacity</th>\n",
       "      <th>num_cylinder</th>\n",
       "      <th>num_owners</th>\n",
       "      <th>price</th>\n",
       "      <th>wheel_drive</th>\n",
       "      <th>speed_levels</th>\n",
       "      <th>front_headroom</th>\n",
       "      <th>front_legroom</th>\n",
       "      <th>rear_headroom</th>\n",
       "      <th>rear_legroom</th>\n",
       "      <th>service_records</th>\n",
       "    </tr>\n",
       "  </thead><tbody><tr><td>Loading... (need <a href=https://mwouts.github.io/itables/troubleshooting.html>help</a>?)</td></tr></tbody>\n",
       "\n",
       "</table>\n",
       "<script type=\"module\">\n",
       "    const dt = (await import(window._datatables_src_for_itables_1_7_0)).default;\n",
       "    dt($);\n",
       "\n",
       "    $(document).ready(function () {\n",
       "        document.querySelectorAll(\"#itables_5dd66e32_1337_403b_ade1_6c0e07d406c9:not(.dataTable)\").forEach(table => {\n",
       "            // Define the table data\n",
       "            const data = [[\"year\", 1.0, -0.57033, -0.081093, -0.165681, 0.251688, 0.322014, 0.076018, 0.274241, 0.033104, -0.431124, 0.581254, 0.276995, 0.060082, 0.305153, 0.051646, 0.175567, 0.334853, -0.501725], [\"miles\", -0.57033, 1.0, 0.109841, 0.122973, -0.072269, -0.207391, -0.051521, -0.130851, 0.026134, 0.415837, -0.500769, -0.033973, -0.283294, 0.002602, 0.08882, 0.025208, -0.045425, 0.412596], [\"city_mileage\", -0.081093, 0.109841, 1.0, 0.85212, -0.493823, -0.519817, -0.517143, -0.754301, -0.286206, 0.107537, 0.131767, -0.295957, -0.120578, -0.173121, -0.323113, -0.650003, -0.169064, -0.129836], [\"highway_mileage\", -0.165681, 0.122973, 0.85212, 1.0, -0.758562, -0.663951, -0.64932, -0.719426, -0.458816, 0.018155, -0.041956, -0.417376, -0.042495, -0.3217, -0.44163, -0.68877, -0.138336, 0.031982], [\"horsepower\", 0.251688, -0.072269, -0.493823, -0.758562, 1.0, 0.702836, 0.399601, 0.438834, 0.464994, -0.082548, 0.3018, 0.344031, 0.100015, 0.146378, 0.400069, 0.509124, 0.300567, -0.132643], [\"torque\", 0.322014, -0.207391, -0.519817, -0.663951, 0.702836, 1.0, 0.122738, 0.465158, 0.227627, -0.011073, 0.199764, 0.213281, 0.30291, 0.011929, 0.227339, 0.351548, 0.255183, -0.030602], [\"engine_capacity_litre\", 0.076018, -0.051521, -0.517143, -0.64932, 0.399601, 0.122738, 1.0, 0.475591, 0.620809, 0.224878, 0.038197, 0.512227, -0.227244, 0.42038, 0.420684, 0.402731, -0.216792, -0.174761], [\"fuel_capacity\", 0.274241, -0.130851, -0.754301, -0.719426, 0.438834, 0.465158, 0.475591, 1.0, 0.258862, -0.076055, 0.02748, 0.329365, 0.018718, 0.26498, 0.4171, 0.737816, 0.343792, 0.095907], [\"num_cylinder\", 0.033104, 0.026134, -0.286206, -0.458816, 0.464994, 0.227627, 0.620809, 0.258862, 1.0, 0.375592, 0.049216, 0.485071, -0.057618, 0.049111, -0.076745, 0.178744, 0.041187, -0.189762], [\"num_owners\", -0.431124, 0.415837, 0.107537, 0.018155, -0.082548, -0.011073, 0.224878, -0.076055, 0.375592, 1.0, -0.327853, 0.189074, -0.231004, -0.176602, -0.054584, -0.119983, -0.304058, 0.187823], [\"price\", 0.581254, -0.500769, 0.131767, -0.041956, 0.3018, 0.199764, 0.038197, 0.02748, 0.049216, -0.327853, 1.0, 0.268273, -0.038262, -0.129595, 0.015819, -0.145403, 0.377287, -0.327306], [\"wheel_drive\", 0.276995, -0.033973, -0.295957, -0.417376, 0.344031, 0.213281, 0.512227, 0.329365, 0.485071, 0.189074, 0.268273, 1.0, -0.118783, 0.212249, 0.155533, 0.171625, 0.08491, -0.112962], [\"speed_levels\", 0.060082, -0.283294, -0.120578, -0.042495, 0.100015, 0.30291, -0.227244, 0.018718, -0.057618, -0.231004, -0.038262, -0.118783, 1.0, 0.076504, -0.257816, 0.110175, -0.084546, -0.07288], [\"front_headroom\", 0.305153, 0.002602, -0.173121, -0.3217, 0.146378, 0.011929, 0.42038, 0.26498, 0.049111, -0.176602, -0.129595, 0.212249, 0.076504, 1.0, 0.455325, 0.477803, -0.338809, -0.232937], [\"front_legroom\", 0.051646, 0.08882, -0.323113, -0.44163, 0.400069, 0.227339, 0.420684, 0.4171, -0.076745, -0.054584, 0.015819, 0.155533, -0.257816, 0.455325, 1.0, 0.526027, -0.229369, 0.029669], [\"rear_headroom\", 0.175567, 0.025208, -0.650003, -0.68877, 0.509124, 0.351548, 0.402731, 0.737816, 0.178744, -0.119983, -0.145403, 0.171625, 0.110175, 0.477803, 0.526027, 1.0, 0.120095, -0.008931], [\"rear_legroom\", 0.334853, -0.045425, -0.169064, -0.138336, 0.300567, 0.255183, -0.216792, 0.343792, 0.041187, -0.304058, 0.377287, 0.08491, -0.084546, -0.338809, -0.229369, 0.120095, 1.0, -0.057183], [\"service_records\", -0.501725, 0.412596, -0.129836, 0.031982, -0.132643, -0.030602, -0.174761, 0.095907, -0.189762, 0.187823, -0.327306, -0.112962, -0.07288, -0.232937, 0.029669, -0.008931, -0.057183, 1.0]];\n",
       "\n",
       "            // Define the dt_args\n",
       "            let dt_args = {\"order\": []};\n",
       "            dt_args[\"data\"] = data;\n",
       "\n",
       "            \n",
       "            new $.fn.dataTable(table, dt_args);\n",
       "        });\n",
       "    });\n",
       "</script>\n",
       "</div>\n"
      ],
      "text/plain": [
       "<IPython.core.display.HTML object>"
      ]
     },
     "metadata": {},
     "output_type": "display_data"
    }
   ],
   "source": [
    "# para facilitar a visualização das correlações\n",
    "show(data_quanti.corr())"
   ]
  },
  {
   "cell_type": "markdown",
   "metadata": {},
   "source": [
    "#### Spearman - Matriz"
   ]
  },
  {
   "cell_type": "code",
   "execution_count": 71,
   "metadata": {},
   "outputs": [
    {
     "data": {
      "text/html": [
       "<div class=\"itables\">\n",
       "<style>.itables table td {\n",
       "    text-overflow: ellipsis;\n",
       "    overflow: hidden;\n",
       "}\n",
       "\n",
       ".itables table th {\n",
       "    text-overflow: ellipsis;\n",
       "    overflow: hidden;\n",
       "}\n",
       "\n",
       ".itables thead input {\n",
       "    width: 100%;\n",
       "    padding: 3px;\n",
       "    box-sizing: border-box;\n",
       "}\n",
       "\n",
       ".itables tfoot input {\n",
       "    width: 100%;\n",
       "    padding: 3px;\n",
       "    box-sizing: border-box;\n",
       "}\n",
       "\n",
       ".itables { font-size: medium; }\n",
       "</style>\n",
       "<table id=\"itables_af85426f_a17d_40dc_bf4b_66c7c796abfa\" class=\"display nowrap\" data-quarto-disable-processing=\"true\" style=\"table-layout:auto;width:auto;margin:auto;caption-side:bottom\">\n",
       "<thead>\n",
       "    <tr style=\"text-align: right;\">\n",
       "      <th></th>\n",
       "      <th>year</th>\n",
       "      <th>miles</th>\n",
       "      <th>city_mileage</th>\n",
       "      <th>highway_mileage</th>\n",
       "      <th>horsepower</th>\n",
       "      <th>torque</th>\n",
       "      <th>engine_capacity_litre</th>\n",
       "      <th>fuel_capacity</th>\n",
       "      <th>num_cylinder</th>\n",
       "      <th>num_owners</th>\n",
       "      <th>price</th>\n",
       "      <th>wheel_drive</th>\n",
       "      <th>speed_levels</th>\n",
       "      <th>front_headroom</th>\n",
       "      <th>front_legroom</th>\n",
       "      <th>rear_headroom</th>\n",
       "      <th>rear_legroom</th>\n",
       "      <th>service_records</th>\n",
       "    </tr>\n",
       "  </thead><tbody><tr><td>Loading... (need <a href=https://mwouts.github.io/itables/troubleshooting.html>help</a>?)</td></tr></tbody>\n",
       "\n",
       "</table>\n",
       "<script type=\"module\">\n",
       "    const dt = (await import(window._datatables_src_for_itables_1_7_0)).default;\n",
       "    dt($);\n",
       "\n",
       "    $(document).ready(function () {\n",
       "        document.querySelectorAll(\"#itables_af85426f_a17d_40dc_bf4b_66c7c796abfa:not(.dataTable)\").forEach(table => {\n",
       "            // Define the table data\n",
       "            const data = [[\"year\", 1.0, -0.438392, -0.175301, -0.173517, 0.245141, 0.34745, 0.075094, 0.306327, 0.019598, -0.464933, 0.422279, 0.244935, 0.048823, 0.27592, 0.108142, 0.298945, 0.217319, -0.326545], [\"miles\", -0.438392, 1.0, 0.05267, 0.000175, 0.041576, -0.139745, 0.015895, -0.153248, 0.097969, 0.427142, -0.422115, 0.03847, -0.328457, 0.116659, 0.215059, -0.04499, -0.004009, 0.174122], [\"city_mileage\", -0.175301, 0.05267, 1.0, 0.932917, -0.372357, -0.507605, -0.489443, -0.788268, -0.243401, -0.009003, 0.130069, -0.349281, -0.113689, -0.370008, -0.341689, -0.780833, -0.167236, -0.251754], [\"highway_mileage\", -0.173517, 0.000175, 0.932917, 1.0, -0.568255, -0.524496, -0.538611, -0.763234, -0.243151, 0.083415, -0.01826, -0.314522, 0.012669, -0.349685, -0.407666, -0.744241, -0.26462, -0.138036], [\"horsepower\", 0.245141, 0.041576, -0.372357, -0.568255, 1.0, 0.631439, 0.217997, 0.476981, 0.239864, -0.216919, 0.441824, 0.208462, -0.077942, 0.001522, 0.433733, 0.494769, 0.517599, -0.09389], [\"torque\", 0.34745, -0.139745, -0.507605, -0.524496, 0.631439, 1.0, -0.117551, 0.584387, 0.173962, -0.129544, 0.278798, 0.152661, 0.300579, -0.096099, 0.129638, 0.555129, 0.536943, 0.071968], [\"engine_capacity_litre\", 0.075094, 0.015895, -0.489443, -0.538611, 0.217997, -0.117551, 1.0, 0.268271, 0.256026, 0.069129, 0.030322, 0.357049, -0.329697, 0.435098, 0.534179, 0.300363, -0.230661, -0.050827], [\"fuel_capacity\", 0.306327, -0.153248, -0.788268, -0.763234, 0.476981, 0.584387, 0.268271, 1.0, 0.241743, -0.08757, 0.044572, 0.285828, 0.037754, 0.229064, 0.294545, 0.783508, 0.445186, 0.210317], [\"num_cylinder\", 0.019598, 0.097969, -0.243401, -0.243151, 0.239864, 0.173962, 0.256026, 0.241743, 1.0, 0.288502, 0.107307, 0.485071, -0.059549, 0.023564, -0.169212, 0.170511, 0.086649, -0.230552], [\"num_owners\", -0.464933, 0.427142, -0.009003, 0.083415, -0.216919, -0.129544, 0.069129, -0.08757, 0.288502, 1.0, -0.302198, 0.167277, -0.255552, -0.233031, -0.023256, -0.154847, -0.160727, 0.187497], [\"price\", 0.422279, -0.422115, 0.130069, -0.01826, 0.441824, 0.278798, 0.030322, 0.044572, 0.107307, -0.302198, 1.0, 0.163509, -0.022684, -0.198376, 0.082428, -0.063653, 0.253597, -0.347749], [\"wheel_drive\", 0.244935, 0.03847, -0.349281, -0.314522, 0.208462, 0.152661, 0.357049, 0.285828, 0.485071, 0.167277, 0.163509, 1.0, -0.122763, 0.230749, 0.191862, 0.185523, 0.129011, -0.050925], [\"speed_levels\", 0.048823, -0.328457, -0.113689, 0.012669, -0.077942, 0.300579, -0.329697, 0.037754, -0.059549, -0.255552, -0.022684, -0.122763, 1.0, 0.06802, -0.471896, 0.160442, -0.109225, 0.010408], [\"front_headroom\", 0.27592, 0.116659, -0.370008, -0.349685, 0.001522, -0.096099, 0.435098, 0.229064, 0.023564, -0.233031, -0.198376, 0.230749, 0.06802, 1.0, 0.22807, 0.465613, -0.310972, -0.160501], [\"front_legroom\", 0.108142, 0.215059, -0.341689, -0.407666, 0.433733, 0.129638, 0.534179, 0.294545, -0.169212, -0.023256, 0.082428, 0.191862, -0.471896, 0.22807, 1.0, 0.395561, 0.088152, 0.083842], [\"rear_headroom\", 0.298945, -0.04499, -0.780833, -0.744241, 0.494769, 0.555129, 0.300363, 0.783508, 0.170511, -0.154847, -0.063653, 0.185523, 0.160442, 0.465613, 0.395561, 1.0, 0.217379, 0.129065], [\"rear_legroom\", 0.217319, -0.004009, -0.167236, -0.26462, 0.517599, 0.536943, -0.230661, 0.445186, 0.086649, -0.160727, 0.253597, 0.129011, -0.109225, -0.310972, 0.088152, 0.217379, 1.0, 0.032366], [\"service_records\", -0.326545, 0.174122, -0.251754, -0.138036, -0.09389, 0.071968, -0.050827, 0.210317, -0.230552, 0.187497, -0.347749, -0.050925, 0.010408, -0.160501, 0.083842, 0.129065, 0.032366, 1.0]];\n",
       "\n",
       "            // Define the dt_args\n",
       "            let dt_args = {\"order\": []};\n",
       "            dt_args[\"data\"] = data;\n",
       "\n",
       "            \n",
       "            new $.fn.dataTable(table, dt_args);\n",
       "        });\n",
       "    });\n",
       "</script>\n",
       "</div>\n"
      ],
      "text/plain": [
       "<IPython.core.display.HTML object>"
      ]
     },
     "metadata": {},
     "output_type": "display_data"
    }
   ],
   "source": [
    "show(data_quanti.corr(method='spearman'))"
   ]
  },
  {
   "cell_type": "markdown",
   "metadata": {},
   "source": [
    "#### Identificação de alta correlação entre colunas"
   ]
  },
  {
   "cell_type": "code",
   "execution_count": 75,
   "metadata": {},
   "outputs": [
    {
     "data": {
      "text/html": [
       "<div class=\"itables\">\n",
       "<style>.itables table td {\n",
       "    text-overflow: ellipsis;\n",
       "    overflow: hidden;\n",
       "}\n",
       "\n",
       ".itables table th {\n",
       "    text-overflow: ellipsis;\n",
       "    overflow: hidden;\n",
       "}\n",
       "\n",
       ".itables thead input {\n",
       "    width: 100%;\n",
       "    padding: 3px;\n",
       "    box-sizing: border-box;\n",
       "}\n",
       "\n",
       ".itables tfoot input {\n",
       "    width: 100%;\n",
       "    padding: 3px;\n",
       "    box-sizing: border-box;\n",
       "}\n",
       "\n",
       ".itables { font-size: medium; }\n",
       "</style>\n",
       "<table id=\"itables_ab30303a_5ca2_4fcd_b777_a7cf5d53f2ea\" class=\"display nowrap\" data-quarto-disable-processing=\"true\" style=\"table-layout:auto;width:auto;margin:auto;caption-side:bottom\">\n",
       "<thead>\n",
       "    <tr style=\"text-align: right;\">\n",
       "      <th></th>\n",
       "      <th>level_0</th>\n",
       "      <th>level_1</th>\n",
       "      <th>pearson</th>\n",
       "    </tr>\n",
       "  </thead><tbody><tr><td>Loading... (need <a href=https://mwouts.github.io/itables/troubleshooting.html>help</a>?)</td></tr></tbody>\n",
       "\n",
       "</table>\n",
       "<script type=\"module\">\n",
       "    const dt = (await import(window._datatables_src_for_itables_1_7_0)).default;\n",
       "    dt($);\n",
       "\n",
       "    $(document).ready(function () {\n",
       "        document.querySelectorAll(\"#itables_ab30303a_5ca2_4fcd_b777_a7cf5d53f2ea:not(.dataTable)\").forEach(table => {\n",
       "            // Define the table data\n",
       "            const data = [];\n",
       "\n",
       "            // Define the dt_args\n",
       "            let dt_args = {\"order\": [], \"dom\": \"t\"};\n",
       "            dt_args[\"data\"] = data;\n",
       "\n",
       "            \n",
       "            new $.fn.dataTable(table, dt_args);\n",
       "        });\n",
       "    });\n",
       "</script>\n",
       "</div>\n"
      ],
      "text/plain": [
       "<IPython.core.display.HTML object>"
      ]
     },
     "metadata": {},
     "output_type": "display_data"
    },
    {
     "data": {
      "text/html": [
       "<div class=\"itables\">\n",
       "<style>.itables table td {\n",
       "    text-overflow: ellipsis;\n",
       "    overflow: hidden;\n",
       "}\n",
       "\n",
       ".itables table th {\n",
       "    text-overflow: ellipsis;\n",
       "    overflow: hidden;\n",
       "}\n",
       "\n",
       ".itables thead input {\n",
       "    width: 100%;\n",
       "    padding: 3px;\n",
       "    box-sizing: border-box;\n",
       "}\n",
       "\n",
       ".itables tfoot input {\n",
       "    width: 100%;\n",
       "    padding: 3px;\n",
       "    box-sizing: border-box;\n",
       "}\n",
       "\n",
       ".itables { font-size: medium; }\n",
       "</style>\n",
       "<table id=\"itables_bef0f5c4_0dab_41d8_9b85_a6c0650625b8\" class=\"display nowrap\" data-quarto-disable-processing=\"true\" style=\"table-layout:auto;width:auto;margin:auto;caption-side:bottom\">\n",
       "<thead>\n",
       "    <tr style=\"text-align: right;\">\n",
       "      <th></th>\n",
       "      <th>level_0</th>\n",
       "      <th>level_1</th>\n",
       "      <th>pearson</th>\n",
       "    </tr>\n",
       "  </thead><tbody><tr><td>Loading... (need <a href=https://mwouts.github.io/itables/troubleshooting.html>help</a>?)</td></tr></tbody>\n",
       "\n",
       "</table>\n",
       "<script type=\"module\">\n",
       "    const dt = (await import(window._datatables_src_for_itables_1_7_0)).default;\n",
       "    dt($);\n",
       "\n",
       "    $(document).ready(function () {\n",
       "        document.querySelectorAll(\"#itables_bef0f5c4_0dab_41d8_9b85_a6c0650625b8:not(.dataTable)\").forEach(table => {\n",
       "            // Define the table data\n",
       "            const data = [];\n",
       "\n",
       "            // Define the dt_args\n",
       "            let dt_args = {\"order\": [], \"dom\": \"t\"};\n",
       "            dt_args[\"data\"] = data;\n",
       "\n",
       "            \n",
       "            new $.fn.dataTable(table, dt_args);\n",
       "        });\n",
       "    });\n",
       "</script>\n",
       "</div>\n"
      ],
      "text/plain": [
       "<IPython.core.display.HTML object>"
      ]
     },
     "metadata": {},
     "output_type": "display_data"
    }
   ],
   "source": [
    "# método para verificar se existem colunas altamente correlacionadas (corr > 0.95)\n",
    "def correlated_cols(data_frame, method='pearson', threshold=0.95)->pd.DataFrame:\n",
    "    return(data_frame\n",
    "           .corr(method=method)\n",
    "           .pipe(lambda df1: pd.DataFrame(np.tril(df1,k=-1), columns=df1.columns, index=df1.columns)\n",
    "                 .stack()\n",
    "                 .rename(\"pearson\")\n",
    "                 .pipe(lambda s: s[s.abs() > threshold].reset_index())\n",
    "           .query('level_0 not in level_1'))\n",
    "           )\n",
    "           \n",
    "show(correlated_cols(data_quanti))\n",
    "show(correlated_cols(data_quanti, method='spearman'))\n",
    "# como a análise de correlação não mostra nenhuma coluna com alto grau de correlação, por este critério, nenhuma coluna será removida"
   ]
  },
  {
   "cell_type": "markdown",
   "metadata": {},
   "source": [
    "#### Correlação em relação ao preço (_price_)"
   ]
  },
  {
   "cell_type": "code",
   "execution_count": 96,
   "metadata": {},
   "outputs": [
    {
     "data": {
      "text/html": [
       "<div class=\"itables\">\n",
       "<style>.itables table td {\n",
       "    text-overflow: ellipsis;\n",
       "    overflow: hidden;\n",
       "}\n",
       "\n",
       ".itables table th {\n",
       "    text-overflow: ellipsis;\n",
       "    overflow: hidden;\n",
       "}\n",
       "\n",
       ".itables thead input {\n",
       "    width: 100%;\n",
       "    padding: 3px;\n",
       "    box-sizing: border-box;\n",
       "}\n",
       "\n",
       ".itables tfoot input {\n",
       "    width: 100%;\n",
       "    padding: 3px;\n",
       "    box-sizing: border-box;\n",
       "}\n",
       "\n",
       ".itables { font-size: medium; }\n",
       "</style>\n",
       "<table id=\"itables_7ac108c2_9f73_40a7_8d20_fb22a621e099\" class=\"display nowrap\" data-quarto-disable-processing=\"true\" style=\"table-layout:auto;width:auto;margin:auto;caption-side:bottom\">\n",
       "<thead>\n",
       "    <tr style=\"text-align: right;\">\n",
       "      <th></th>\n",
       "      <th>price_pearson</th>\n",
       "      <th>price_spearman</th>\n",
       "    </tr>\n",
       "  </thead><tbody><tr><td>Loading... (need <a href=https://mwouts.github.io/itables/troubleshooting.html>help</a>?)</td></tr></tbody>\n",
       "\n",
       "</table>\n",
       "<script type=\"module\">\n",
       "    const dt = (await import(window._datatables_src_for_itables_1_7_0)).default;\n",
       "    dt($);\n",
       "\n",
       "    $(document).ready(function () {\n",
       "        document.querySelectorAll(\"#itables_7ac108c2_9f73_40a7_8d20_fb22a621e099:not(.dataTable)\").forEach(table => {\n",
       "            // Define the table data\n",
       "            const data = [[\"year\", 0.581254, 0.422279], [\"miles\", -0.500769, -0.422115], [\"city_mileage\", 0.131767, 0.130069], [\"highway_mileage\", -0.041956, -0.01826], [\"horsepower\", 0.3018, 0.441824], [\"torque\", 0.199764, 0.278798], [\"engine_capacity_litre\", 0.038197, 0.030322], [\"fuel_capacity\", 0.02748, 0.044572], [\"num_cylinder\", 0.049216, 0.107307], [\"num_owners\", -0.327853, -0.302198], [\"price\", 1.0, 1.0], [\"wheel_drive\", 0.268273, 0.163509], [\"speed_levels\", -0.038262, -0.022684], [\"front_headroom\", -0.129595, -0.198376], [\"front_legroom\", 0.015819, 0.082428], [\"rear_headroom\", -0.145403, -0.063653], [\"rear_legroom\", 0.377287, 0.253597], [\"service_records\", -0.327306, -0.347749]];\n",
       "\n",
       "            // Define the dt_args\n",
       "            let dt_args = {\"order\": []};\n",
       "            dt_args[\"data\"] = data;\n",
       "\n",
       "            \n",
       "            new $.fn.dataTable(table, dt_args);\n",
       "        });\n",
       "    });\n",
       "</script>\n",
       "</div>\n"
      ],
      "text/plain": [
       "                       price_pearson  price_spearman\n",
       "year                        0.581254        0.422279\n",
       "miles                      -0.500769       -0.422115\n",
       "city_mileage                0.131767        0.130069\n",
       "highway_mileage            -0.041956       -0.018260\n",
       "horsepower                  0.301800        0.441824\n",
       "torque                      0.199764        0.278798\n",
       "engine_capacity_litre       0.038197        0.030322\n",
       "fuel_capacity               0.027480        0.044572\n",
       "num_cylinder                0.049216        0.107307\n",
       "num_owners                 -0.327853       -0.302198\n",
       "price                       1.000000        1.000000\n",
       "wheel_drive                 0.268273        0.163509\n",
       "speed_levels               -0.038262       -0.022684\n",
       "front_headroom             -0.129595       -0.198376\n",
       "front_legroom               0.015819        0.082428\n",
       "rear_headroom              -0.145403       -0.063653\n",
       "rear_legroom                0.377287        0.253597\n",
       "service_records            -0.327306       -0.347749"
      ]
     },
     "execution_count": 96,
     "metadata": {},
     "output_type": "execute_result"
    }
   ],
   "source": [
    "# considerando que o modelo de regressão tomará como variável dependente o preço:\n",
    "pd.concat([data_quanti\n",
    "           .corr(method='pearson').T['price']\n",
    "           .rename('price_pearson'), \n",
    "           data_quanti.corr(method='spearman').T['price']\n",
    "           .rename('price_spearman')\n",
    "           ],axis=1)"
   ]
  },
  {
   "cell_type": "markdown",
   "metadata": {},
   "source": [
    "### Anaĺise conjunta -  variáveis qualitativas e quantitativas"
   ]
  },
  {
   "cell_type": "code",
   "execution_count": 127,
   "metadata": {},
   "outputs": [
    {
     "data": {
      "text/plain": [
       "22"
      ]
     },
     "execution_count": 127,
     "metadata": {},
     "output_type": "execute_result"
    }
   ],
   "source": [
    "data.columns.__len__()"
   ]
  },
  {
   "cell_type": "code",
   "execution_count": 125,
   "metadata": {},
   "outputs": [
    {
     "data": {
      "image/png": "[encoded data removed]",
      "text/plain": [
       "<Figure size 1420.25x1250 with 20 Axes>"
      ]
     },
     "metadata": {},
     "output_type": "display_data"
    }
   ],
   "source": [
    "from seaborn import pairplot\n",
    "vars = data_quanti.columns[0:4]\n",
    "vars = vars.append(pd.core.indexes.base.Index([data_quanti.columns[10]])) \n",
    "newdf = data_quanti.copy()\n",
    "newdf['engine_type'] = data_quali['engine_type']\n",
    "p = pairplot(newdf, hue= 'engine_type',vars=vars,  kind='reg',corner=True, height=2.5, aspect=1, plot_kws={'line_kws':{'color':'red'}});  \n"
   ]
  },
  {
   "cell_type": "code",
   "execution_count": 98,
   "metadata": {},
   "outputs": [
    {
     "data": {
      "image/png": "[encoded data removed]",
      "text/plain": [
       "<Figure size 1170.25x1000 with 14 Axes>"
      ]
     },
     "metadata": {},
     "output_type": "display_data"
    }
   ],
   "source": [
    "vars = data_quanti.columns[4:8] \n",
    "vars = vars.append(pd.core.indexes.base.Index([data_quanti.columns[10]])) \n",
    "newdf = data_quanti.copy()\n",
    "newdf['engine_type'] = data_quali['engine_type']\n",
    "p = pairplot(newdf, hue= 'engine_type',vars=vars,  kind='reg',corner=True, height=2.5, aspect=1, plot_kws={'line_kws':{'color':'red'}});  "
   ]
  },
  {
   "cell_type": "code",
   "execution_count": 126,
   "metadata": {},
   "outputs": [
    {
     "data": {
      "image/png": "[encoded data removed]",
      "text/plain": [
       "<Figure size 1170.25x1000 with 14 Axes>"
      ]
     },
     "metadata": {},
     "output_type": "display_data"
    }
   ],
   "source": [
    "vars = data_quanti.columns[8:12]\n",
    "newdf = data_quanti.copy()\n",
    "newdf['engine_type'] = data_quali['engine_type']\n",
    "p = pairplot(newdf, hue= 'engine_type',vars=vars,  kind='reg',corner=True, height=2.5, aspect=1, plot_kws={'line_kws':{'color':'red'}});  "
   ]
  },
  {
   "cell_type": "code",
   "execution_count": null,
   "metadata": {},
   "outputs": [],
   "source": []
  }
 ],
 "metadata": {
  "kernelspec": {
   "display_name": "desafio-fase02-aula05-vZ66TYyy-py3.12",
   "language": "python",
   "name": "python3"
  },
  "language_info": {
   "codemirror_mode": {
    "name": "ipython",
    "version": 3
   },
   "file_extension": ".py",
   "mimetype": "text/x-python",
   "name": "python",
   "nbconvert_exporter": "python",
   "pygments_lexer": "ipython3",
   "version": "3.12.2"
  }
 },
 "nbformat": 4,
 "nbformat_minor": 2
}
