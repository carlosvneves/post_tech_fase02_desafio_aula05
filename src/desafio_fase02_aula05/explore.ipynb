{
 "cells": [
  {
   "cell_type": "code",
   "execution_count": 350,
   "metadata": {},
   "outputs": [],
   "source": [
    "# import libraries\n",
    "import pandas as pd \n",
    "import matplotlib.pyplot as plt \n",
    "import  numpy as np \n",
    "import plotly.express as px\n",
    "\n",
    "import plotly.graph_objects as go\n",
    "from plotly.subplots import make_subplots\n",
    "\n",
    "import warnings\n",
    "warnings.filterwarnings('ignore')\n"
   ]
  },
  {
   "cell_type": "markdown",
   "metadata": {},
   "source": [
    "# Passo 1\n",
    "\n",
    "> Utilizando a biblioteca de manipulação de dados, o Pandas, realize o upload da base de dados no Python para iniciar as análises. Ainda utilizando as ferramentas do Pandas, realize análises estatísticas descritivas sobre os dados, explorando todas as variáveis do modelo: variáveis qualitativas e quantitativas."
   ]
  },
  {
   "cell_type": "code",
   "execution_count": 351,
   "metadata": {},
   "outputs": [
    {
     "name": "stdout",
     "output_type": "stream",
     "text": [
      "<class 'pandas.core.frame.DataFrame'>\n",
      "RangeIndex: 52 entries, 0 to 51\n",
      "Data columns (total 27 columns):\n",
      " #   Column                 Non-Null Count  Dtype  \n",
      "---  ------                 --------------  -----  \n",
      " 0   id                     52 non-null     int64  \n",
      " 1   brand                  52 non-null     object \n",
      " 2   model                  52 non-null     object \n",
      " 3   year                   52 non-null     int64  \n",
      " 4   miles                  52 non-null     int64  \n",
      " 5   city_mileage           52 non-null     int64  \n",
      " 6   highway_mileage        52 non-null     int64  \n",
      " 7   horsepower             52 non-null     int64  \n",
      " 8   torque                 52 non-null     int64  \n",
      " 9   engine_capacity_litre  52 non-null     float64\n",
      " 10  fuel_capacity          52 non-null     float64\n",
      " 11  num_cylinder           52 non-null     int64  \n",
      " 12  num_seat               52 non-null     int64  \n",
      " 13  num_owners             52 non-null     int64  \n",
      " 14  price                  52 non-null     int64  \n",
      " 15  link                   52 non-null     object \n",
      " 16  condition              1 non-null      float64\n",
      " 17  type                   52 non-null     object \n",
      " 18  doors                  52 non-null     int64  \n",
      " 19  wheel_drive            52 non-null     int64  \n",
      " 20  engine_type            52 non-null     object \n",
      " 21  speed_levels           51 non-null     float64\n",
      " 22  front_headroom         52 non-null     float64\n",
      " 23  front_legroom          52 non-null     float64\n",
      " 24  rear_headroom          52 non-null     float64\n",
      " 25  rear_legroom           52 non-null     float64\n",
      " 26  service_records        52 non-null     int64  \n",
      "dtypes: float64(8), int64(14), object(5)\n",
      "memory usage: 11.1+ KB\n"
     ]
    }
   ],
   "source": [
    "data: pd.DataFrame = pd.read_csv('../../data/cars.csv')\n",
    "data.info()"
   ]
  },
  {
   "cell_type": "code",
   "execution_count": 352,
   "metadata": {},
   "outputs": [
    {
     "name": "stdout",
     "output_type": "stream",
     "text": [
      "<class 'pandas.core.frame.DataFrame'>\n",
      "RangeIndex: 52 entries, 0 to 51\n",
      "Data columns (total 27 columns):\n",
      " #   Column                 Non-Null Count  Dtype   \n",
      "---  ------                 --------------  -----   \n",
      " 0   id                     52 non-null     int64   \n",
      " 1   brand                  52 non-null     category\n",
      " 2   model                  52 non-null     category\n",
      " 3   year                   52 non-null     int64   \n",
      " 4   miles                  52 non-null     int64   \n",
      " 5   city_mileage           52 non-null     int64   \n",
      " 6   highway_mileage        52 non-null     int64   \n",
      " 7   horsepower             52 non-null     int64   \n",
      " 8   torque                 52 non-null     int64   \n",
      " 9   engine_capacity_litre  52 non-null     float64 \n",
      " 10  fuel_capacity          52 non-null     float64 \n",
      " 11  num_cylinder           52 non-null     int64   \n",
      " 12  num_seat               52 non-null     int64   \n",
      " 13  num_owners             52 non-null     int64   \n",
      " 14  price                  52 non-null     int64   \n",
      " 15  link                   52 non-null     string  \n",
      " 16  condition              1 non-null      float64 \n",
      " 17  type                   52 non-null     category\n",
      " 18  doors                  52 non-null     int64   \n",
      " 19  wheel_drive            52 non-null     int64   \n",
      " 20  engine_type            52 non-null     category\n",
      " 21  speed_levels           51 non-null     float64 \n",
      " 22  front_headroom         52 non-null     float64 \n",
      " 23  front_legroom          52 non-null     float64 \n",
      " 24  rear_headroom          52 non-null     float64 \n",
      " 25  rear_legroom           52 non-null     float64 \n",
      " 26  service_records        52 non-null     int64   \n",
      "dtypes: category(4), float64(8), int64(14), string(1)\n",
      "memory usage: 10.8 KB\n"
     ]
    }
   ],
   "source": [
    "# modifica o tipo dos dados das colunas para melhor aproveitamento de memória e facilitar a análise\n",
    "data['brand'] = data['brand'].astype('category')\n",
    "data['model'] = data['model'].astype('category')\n",
    "data['type'] = data['type'].astype('category')\n",
    "data['engine_type'] = data['engine_type'].astype('category')\n",
    "data['link'] = data['link'].astype('string')\n",
    "data.info()"
   ]
  },
  {
   "cell_type": "code",
   "execution_count": 353,
   "metadata": {},
   "outputs": [
    {
     "data": {
      "text/plain": [
       "id                        0\n",
       "brand                     0\n",
       "model                     0\n",
       "year                      0\n",
       "miles                     0\n",
       "city_mileage              0\n",
       "highway_mileage           0\n",
       "horsepower                0\n",
       "torque                    0\n",
       "engine_capacity_litre     0\n",
       "fuel_capacity             0\n",
       "num_cylinder              0\n",
       "num_seat                  0\n",
       "num_owners                0\n",
       "price                     0\n",
       "link                      0\n",
       "condition                51\n",
       "type                      0\n",
       "doors                     0\n",
       "wheel_drive               0\n",
       "engine_type               0\n",
       "speed_levels              1\n",
       "front_headroom            0\n",
       "front_legroom             0\n",
       "rear_headroom             0\n",
       "rear_legroom              0\n",
       "service_records           0\n",
       "dtype: int64"
      ]
     },
     "execution_count": 353,
     "metadata": {},
     "output_type": "execute_result"
    }
   ],
   "source": [
    "data.isna().sum()"
   ]
  },
  {
   "cell_type": "markdown",
   "metadata": {},
   "source": [
    "### Tratamento de valores NaN e eliminação de colunas sem poder preditivo\n",
    "\n",
    "\n",
    "  "
   ]
  },
  {
   "cell_type": "markdown",
   "metadata": {},
   "source": [
    "A coluna __speed_level__  possui um valor _NaN_. O carro de __id__ = _13_ é aquele que possui o  __speed_level__  = _NaN_. Uma característica importante do veículo é o fato de que ele possui __engine_type__ igual a _hybrid_gas_electric_. Neste caso, para pensarmos em como tratar o dado _NaN_, é razoável verificarmos quais outros veículos da base de dados possuem o mesmo tipo de __engine_type__. "
   ]
  },
  {
   "cell_type": "code",
   "execution_count": 354,
   "metadata": {},
   "outputs": [
    {
     "data": {
      "text/html": [
       "<div>\n",
       "<style scoped>\n",
       "    .dataframe tbody tr th:only-of-type {\n",
       "        vertical-align: middle;\n",
       "    }\n",
       "\n",
       "    .dataframe tbody tr th {\n",
       "        vertical-align: top;\n",
       "    }\n",
       "\n",
       "    .dataframe thead th {\n",
       "        text-align: right;\n",
       "    }\n",
       "</style>\n",
       "<table border=\"1\" class=\"dataframe\">\n",
       "  <thead>\n",
       "    <tr style=\"text-align: right;\">\n",
       "      <th></th>\n",
       "      <th>0</th>\n",
       "      <th>7</th>\n",
       "      <th>18</th>\n",
       "    </tr>\n",
       "  </thead>\n",
       "  <tbody>\n",
       "    <tr>\n",
       "      <th>id</th>\n",
       "      <td>3</td>\n",
       "      <td>13</td>\n",
       "      <td>24</td>\n",
       "    </tr>\n",
       "    <tr>\n",
       "      <th>brand</th>\n",
       "      <td>Chevrolet</td>\n",
       "      <td>Honda</td>\n",
       "      <td>Honda</td>\n",
       "    </tr>\n",
       "    <tr>\n",
       "      <th>model</th>\n",
       "      <td>Volt LT</td>\n",
       "      <td>Clarity</td>\n",
       "      <td>Insight</td>\n",
       "    </tr>\n",
       "    <tr>\n",
       "      <th>year</th>\n",
       "      <td>2019</td>\n",
       "      <td>2018</td>\n",
       "      <td>2019</td>\n",
       "    </tr>\n",
       "    <tr>\n",
       "      <th>miles</th>\n",
       "      <td>27173</td>\n",
       "      <td>29674</td>\n",
       "      <td>56233</td>\n",
       "    </tr>\n",
       "    <tr>\n",
       "      <th>city_mileage</th>\n",
       "      <td>43</td>\n",
       "      <td>44</td>\n",
       "      <td>55</td>\n",
       "    </tr>\n",
       "    <tr>\n",
       "      <th>highway_mileage</th>\n",
       "      <td>42</td>\n",
       "      <td>40</td>\n",
       "      <td>49</td>\n",
       "    </tr>\n",
       "    <tr>\n",
       "      <th>horsepower</th>\n",
       "      <td>149</td>\n",
       "      <td>212</td>\n",
       "      <td>151</td>\n",
       "    </tr>\n",
       "    <tr>\n",
       "      <th>torque</th>\n",
       "      <td>294</td>\n",
       "      <td>99</td>\n",
       "      <td>99</td>\n",
       "    </tr>\n",
       "    <tr>\n",
       "      <th>engine_capacity_litre</th>\n",
       "      <td>1.5</td>\n",
       "      <td>1.5</td>\n",
       "      <td>1.5</td>\n",
       "    </tr>\n",
       "    <tr>\n",
       "      <th>fuel_capacity</th>\n",
       "      <td>8.9</td>\n",
       "      <td>7.0</td>\n",
       "      <td>10.6</td>\n",
       "    </tr>\n",
       "    <tr>\n",
       "      <th>num_cylinder</th>\n",
       "      <td>4</td>\n",
       "      <td>4</td>\n",
       "      <td>4</td>\n",
       "    </tr>\n",
       "    <tr>\n",
       "      <th>num_seat</th>\n",
       "      <td>5</td>\n",
       "      <td>5</td>\n",
       "      <td>5</td>\n",
       "    </tr>\n",
       "    <tr>\n",
       "      <th>num_owners</th>\n",
       "      <td>3</td>\n",
       "      <td>1</td>\n",
       "      <td>2</td>\n",
       "    </tr>\n",
       "    <tr>\n",
       "      <th>price</th>\n",
       "      <td>25655</td>\n",
       "      <td>26999</td>\n",
       "      <td>21998</td>\n",
       "    </tr>\n",
       "    <tr>\n",
       "      <th>link</th>\n",
       "      <td>https://www.autotrader.com/cars-for-sale/vehic...</td>\n",
       "      <td>https://www.autotrader.com/cars-for-sale/vehic...</td>\n",
       "      <td>https://www.autotrader.com/cars-for-sale/vehic...</td>\n",
       "    </tr>\n",
       "    <tr>\n",
       "      <th>condition</th>\n",
       "      <td>NaN</td>\n",
       "      <td>NaN</td>\n",
       "      <td>NaN</td>\n",
       "    </tr>\n",
       "    <tr>\n",
       "      <th>type</th>\n",
       "      <td>sedan</td>\n",
       "      <td>sedan</td>\n",
       "      <td>sedan</td>\n",
       "    </tr>\n",
       "    <tr>\n",
       "      <th>doors</th>\n",
       "      <td>4</td>\n",
       "      <td>4</td>\n",
       "      <td>4</td>\n",
       "    </tr>\n",
       "    <tr>\n",
       "      <th>wheel_drive</th>\n",
       "      <td>2</td>\n",
       "      <td>2</td>\n",
       "      <td>2</td>\n",
       "    </tr>\n",
       "    <tr>\n",
       "      <th>engine_type</th>\n",
       "      <td>hybrid_gas_electric</td>\n",
       "      <td>hybrid_gas_electric</td>\n",
       "      <td>hybrid_gas_electric</td>\n",
       "    </tr>\n",
       "    <tr>\n",
       "      <th>speed_levels</th>\n",
       "      <td>6.0</td>\n",
       "      <td>NaN</td>\n",
       "      <td>6.0</td>\n",
       "    </tr>\n",
       "    <tr>\n",
       "      <th>front_headroom</th>\n",
       "      <td>37.8</td>\n",
       "      <td>39.1</td>\n",
       "      <td>39.3</td>\n",
       "    </tr>\n",
       "    <tr>\n",
       "      <th>front_legroom</th>\n",
       "      <td>42.1</td>\n",
       "      <td>42.2</td>\n",
       "      <td>42.3</td>\n",
       "    </tr>\n",
       "    <tr>\n",
       "      <th>rear_headroom</th>\n",
       "      <td>35.8</td>\n",
       "      <td>37.1</td>\n",
       "      <td>36.9</td>\n",
       "    </tr>\n",
       "    <tr>\n",
       "      <th>rear_legroom</th>\n",
       "      <td>34.7</td>\n",
       "      <td>36.2</td>\n",
       "      <td>37.4</td>\n",
       "    </tr>\n",
       "    <tr>\n",
       "      <th>service_records</th>\n",
       "      <td>4</td>\n",
       "      <td>2</td>\n",
       "      <td>5</td>\n",
       "    </tr>\n",
       "  </tbody>\n",
       "</table>\n",
       "</div>"
      ],
      "text/plain": [
       "                                                                      0   \\\n",
       "id                                                                     3   \n",
       "brand                                                          Chevrolet   \n",
       "model                                                            Volt LT   \n",
       "year                                                                2019   \n",
       "miles                                                              27173   \n",
       "city_mileage                                                          43   \n",
       "highway_mileage                                                       42   \n",
       "horsepower                                                           149   \n",
       "torque                                                               294   \n",
       "engine_capacity_litre                                                1.5   \n",
       "fuel_capacity                                                        8.9   \n",
       "num_cylinder                                                           4   \n",
       "num_seat                                                               5   \n",
       "num_owners                                                             3   \n",
       "price                                                              25655   \n",
       "link                   https://www.autotrader.com/cars-for-sale/vehic...   \n",
       "condition                                                            NaN   \n",
       "type                                                               sedan   \n",
       "doors                                                                  4   \n",
       "wheel_drive                                                            2   \n",
       "engine_type                                          hybrid_gas_electric   \n",
       "speed_levels                                                         6.0   \n",
       "front_headroom                                                      37.8   \n",
       "front_legroom                                                       42.1   \n",
       "rear_headroom                                                       35.8   \n",
       "rear_legroom                                                        34.7   \n",
       "service_records                                                        4   \n",
       "\n",
       "                                                                      7   \\\n",
       "id                                                                    13   \n",
       "brand                                                              Honda   \n",
       "model                                                            Clarity   \n",
       "year                                                                2018   \n",
       "miles                                                              29674   \n",
       "city_mileage                                                          44   \n",
       "highway_mileage                                                       40   \n",
       "horsepower                                                           212   \n",
       "torque                                                                99   \n",
       "engine_capacity_litre                                                1.5   \n",
       "fuel_capacity                                                        7.0   \n",
       "num_cylinder                                                           4   \n",
       "num_seat                                                               5   \n",
       "num_owners                                                             1   \n",
       "price                                                              26999   \n",
       "link                   https://www.autotrader.com/cars-for-sale/vehic...   \n",
       "condition                                                            NaN   \n",
       "type                                                               sedan   \n",
       "doors                                                                  4   \n",
       "wheel_drive                                                            2   \n",
       "engine_type                                          hybrid_gas_electric   \n",
       "speed_levels                                                         NaN   \n",
       "front_headroom                                                      39.1   \n",
       "front_legroom                                                       42.2   \n",
       "rear_headroom                                                       37.1   \n",
       "rear_legroom                                                        36.2   \n",
       "service_records                                                        2   \n",
       "\n",
       "                                                                      18  \n",
       "id                                                                    24  \n",
       "brand                                                              Honda  \n",
       "model                                                            Insight  \n",
       "year                                                                2019  \n",
       "miles                                                              56233  \n",
       "city_mileage                                                          55  \n",
       "highway_mileage                                                       49  \n",
       "horsepower                                                           151  \n",
       "torque                                                                99  \n",
       "engine_capacity_litre                                                1.5  \n",
       "fuel_capacity                                                       10.6  \n",
       "num_cylinder                                                           4  \n",
       "num_seat                                                               5  \n",
       "num_owners                                                             2  \n",
       "price                                                              21998  \n",
       "link                   https://www.autotrader.com/cars-for-sale/vehic...  \n",
       "condition                                                            NaN  \n",
       "type                                                               sedan  \n",
       "doors                                                                  4  \n",
       "wheel_drive                                                            2  \n",
       "engine_type                                          hybrid_gas_electric  \n",
       "speed_levels                                                         6.0  \n",
       "front_headroom                                                      39.3  \n",
       "front_legroom                                                       42.3  \n",
       "rear_headroom                                                       36.9  \n",
       "rear_legroom                                                        37.4  \n",
       "service_records                                                        5  "
      ]
     },
     "execution_count": 354,
     "metadata": {},
     "output_type": "execute_result"
    }
   ],
   "source": [
    "data.query(\"engine_type == 'hybrid_gas_electric'\").T"
   ]
  },
  {
   "cell_type": "markdown",
   "metadata": {},
   "source": [
    "Como podemos verificar, os outros carros da base que posssem o tipo de __engine_type__ igual a _hybrid_gas_electric__ tem o  __speed_level__  = _6.0_. Então iremos assumir o  __speed_level__  = _6.0_ para o veículo de __id__ = _13_.\t"
   ]
  },
  {
   "cell_type": "code",
   "execution_count": 355,
   "metadata": {},
   "outputs": [
    {
     "data": {
      "text/plain": [
       "id                                                                      13\n",
       "brand                                                                Honda\n",
       "model                                                              Clarity\n",
       "year                                                                  2018\n",
       "miles                                                                29674\n",
       "city_mileage                                                            44\n",
       "highway_mileage                                                         40\n",
       "horsepower                                                             212\n",
       "torque                                                                  99\n",
       "engine_capacity_litre                                                  1.5\n",
       "fuel_capacity                                                          7.0\n",
       "num_cylinder                                                             4\n",
       "num_seat                                                                 5\n",
       "num_owners                                                               1\n",
       "price                                                                26999\n",
       "link                     https://www.autotrader.com/cars-for-sale/vehic...\n",
       "condition                                                              NaN\n",
       "type                                                                 sedan\n",
       "doors                                                                    4\n",
       "wheel_drive                                                              2\n",
       "engine_type                                            hybrid_gas_electric\n",
       "speed_levels                                                           6.0\n",
       "front_headroom                                                        39.1\n",
       "front_legroom                                                         42.2\n",
       "rear_headroom                                                         37.1\n",
       "rear_legroom                                                          36.2\n",
       "service_records                                                          2\n",
       "Name: 7, dtype: object"
      ]
     },
     "execution_count": 355,
     "metadata": {},
     "output_type": "execute_result"
    }
   ],
   "source": [
    "data['speed_levels'] = data['speed_levels'].replace({np.NAN:6.0})\n",
    "data.iloc[7,:]\n"
   ]
  },
  {
   "cell_type": "code",
   "execution_count": 356,
   "metadata": {},
   "outputs": [
    {
     "data": {
      "text/html": [
       "<div>\n",
       "<style scoped>\n",
       "    .dataframe tbody tr th:only-of-type {\n",
       "        vertical-align: middle;\n",
       "    }\n",
       "\n",
       "    .dataframe tbody tr th {\n",
       "        vertical-align: top;\n",
       "    }\n",
       "\n",
       "    .dataframe thead th {\n",
       "        text-align: right;\n",
       "    }\n",
       "</style>\n",
       "<table border=\"1\" class=\"dataframe\">\n",
       "  <thead>\n",
       "    <tr style=\"text-align: right;\">\n",
       "      <th></th>\n",
       "      <th>count</th>\n",
       "      <th>mean</th>\n",
       "      <th>std</th>\n",
       "      <th>min</th>\n",
       "      <th>25%</th>\n",
       "      <th>50%</th>\n",
       "      <th>75%</th>\n",
       "      <th>max</th>\n",
       "    </tr>\n",
       "  </thead>\n",
       "  <tbody>\n",
       "    <tr>\n",
       "      <th>id</th>\n",
       "      <td>52.0</td>\n",
       "      <td>31.365385</td>\n",
       "      <td>15.378912</td>\n",
       "      <td>3.0</td>\n",
       "      <td>18.750</td>\n",
       "      <td>31.5</td>\n",
       "      <td>44.25</td>\n",
       "      <td>57.0</td>\n",
       "    </tr>\n",
       "    <tr>\n",
       "      <th>year</th>\n",
       "      <td>52.0</td>\n",
       "      <td>2018.673077</td>\n",
       "      <td>1.396370</td>\n",
       "      <td>2014.0</td>\n",
       "      <td>2018.000</td>\n",
       "      <td>2019.0</td>\n",
       "      <td>2019.25</td>\n",
       "      <td>2022.0</td>\n",
       "    </tr>\n",
       "    <tr>\n",
       "      <th>miles</th>\n",
       "      <td>52.0</td>\n",
       "      <td>33901.250000</td>\n",
       "      <td>22700.646139</td>\n",
       "      <td>5000.0</td>\n",
       "      <td>16454.750</td>\n",
       "      <td>27448.5</td>\n",
       "      <td>42442.00</td>\n",
       "      <td>97027.0</td>\n",
       "    </tr>\n",
       "    <tr>\n",
       "      <th>city_mileage</th>\n",
       "      <td>52.0</td>\n",
       "      <td>29.038462</td>\n",
       "      <td>5.947356</td>\n",
       "      <td>17.0</td>\n",
       "      <td>26.500</td>\n",
       "      <td>30.0</td>\n",
       "      <td>30.00</td>\n",
       "      <td>55.0</td>\n",
       "    </tr>\n",
       "    <tr>\n",
       "      <th>highway_mileage</th>\n",
       "      <td>52.0</td>\n",
       "      <td>37.423077</td>\n",
       "      <td>4.136619</td>\n",
       "      <td>24.0</td>\n",
       "      <td>35.750</td>\n",
       "      <td>38.0</td>\n",
       "      <td>40.00</td>\n",
       "      <td>49.0</td>\n",
       "    </tr>\n",
       "    <tr>\n",
       "      <th>horsepower</th>\n",
       "      <td>52.0</td>\n",
       "      <td>176.865385</td>\n",
       "      <td>33.793507</td>\n",
       "      <td>143.0</td>\n",
       "      <td>152.000</td>\n",
       "      <td>159.5</td>\n",
       "      <td>192.00</td>\n",
       "      <td>288.0</td>\n",
       "    </tr>\n",
       "    <tr>\n",
       "      <th>torque</th>\n",
       "      <td>52.0</td>\n",
       "      <td>177.923077</td>\n",
       "      <td>47.256433</td>\n",
       "      <td>99.0</td>\n",
       "      <td>138.000</td>\n",
       "      <td>181.0</td>\n",
       "      <td>192.00</td>\n",
       "      <td>294.0</td>\n",
       "    </tr>\n",
       "    <tr>\n",
       "      <th>engine_capacity_litre</th>\n",
       "      <td>52.0</td>\n",
       "      <td>1.832692</td>\n",
       "      <td>0.379743</td>\n",
       "      <td>1.4</td>\n",
       "      <td>1.500</td>\n",
       "      <td>2.0</td>\n",
       "      <td>2.00</td>\n",
       "      <td>3.5</td>\n",
       "    </tr>\n",
       "    <tr>\n",
       "      <th>fuel_capacity</th>\n",
       "      <td>52.0</td>\n",
       "      <td>14.232692</td>\n",
       "      <td>2.603973</td>\n",
       "      <td>7.0</td>\n",
       "      <td>12.400</td>\n",
       "      <td>13.6</td>\n",
       "      <td>15.05</td>\n",
       "      <td>19.0</td>\n",
       "    </tr>\n",
       "    <tr>\n",
       "      <th>num_cylinder</th>\n",
       "      <td>52.0</td>\n",
       "      <td>4.038462</td>\n",
       "      <td>0.277350</td>\n",
       "      <td>4.0</td>\n",
       "      <td>4.000</td>\n",
       "      <td>4.0</td>\n",
       "      <td>4.00</td>\n",
       "      <td>6.0</td>\n",
       "    </tr>\n",
       "    <tr>\n",
       "      <th>num_seat</th>\n",
       "      <td>52.0</td>\n",
       "      <td>5.000000</td>\n",
       "      <td>0.000000</td>\n",
       "      <td>5.0</td>\n",
       "      <td>5.000</td>\n",
       "      <td>5.0</td>\n",
       "      <td>5.00</td>\n",
       "      <td>5.0</td>\n",
       "    </tr>\n",
       "    <tr>\n",
       "      <th>num_owners</th>\n",
       "      <td>52.0</td>\n",
       "      <td>1.346154</td>\n",
       "      <td>0.622601</td>\n",
       "      <td>1.0</td>\n",
       "      <td>1.000</td>\n",
       "      <td>1.0</td>\n",
       "      <td>2.00</td>\n",
       "      <td>3.0</td>\n",
       "    </tr>\n",
       "    <tr>\n",
       "      <th>price</th>\n",
       "      <td>52.0</td>\n",
       "      <td>21763.423077</td>\n",
       "      <td>3532.455322</td>\n",
       "      <td>13590.0</td>\n",
       "      <td>19519.000</td>\n",
       "      <td>21998.5</td>\n",
       "      <td>22996.00</td>\n",
       "      <td>33777.0</td>\n",
       "    </tr>\n",
       "    <tr>\n",
       "      <th>condition</th>\n",
       "      <td>1.0</td>\n",
       "      <td>4.000000</td>\n",
       "      <td>NaN</td>\n",
       "      <td>4.0</td>\n",
       "      <td>4.000</td>\n",
       "      <td>4.0</td>\n",
       "      <td>4.00</td>\n",
       "      <td>4.0</td>\n",
       "    </tr>\n",
       "    <tr>\n",
       "      <th>doors</th>\n",
       "      <td>52.0</td>\n",
       "      <td>4.000000</td>\n",
       "      <td>0.000000</td>\n",
       "      <td>4.0</td>\n",
       "      <td>4.000</td>\n",
       "      <td>4.0</td>\n",
       "      <td>4.00</td>\n",
       "      <td>4.0</td>\n",
       "    </tr>\n",
       "    <tr>\n",
       "      <th>wheel_drive</th>\n",
       "      <td>52.0</td>\n",
       "      <td>2.153846</td>\n",
       "      <td>0.538138</td>\n",
       "      <td>2.0</td>\n",
       "      <td>2.000</td>\n",
       "      <td>2.0</td>\n",
       "      <td>2.00</td>\n",
       "      <td>4.0</td>\n",
       "    </tr>\n",
       "    <tr>\n",
       "      <th>speed_levels</th>\n",
       "      <td>52.0</td>\n",
       "      <td>6.307692</td>\n",
       "      <td>0.755073</td>\n",
       "      <td>6.0</td>\n",
       "      <td>6.000</td>\n",
       "      <td>6.0</td>\n",
       "      <td>6.00</td>\n",
       "      <td>9.0</td>\n",
       "    </tr>\n",
       "    <tr>\n",
       "      <th>front_headroom</th>\n",
       "      <td>52.0</td>\n",
       "      <td>38.680769</td>\n",
       "      <td>0.919087</td>\n",
       "      <td>37.5</td>\n",
       "      <td>37.725</td>\n",
       "      <td>38.5</td>\n",
       "      <td>39.30</td>\n",
       "      <td>40.4</td>\n",
       "    </tr>\n",
       "    <tr>\n",
       "      <th>front_legroom</th>\n",
       "      <td>52.0</td>\n",
       "      <td>42.467308</td>\n",
       "      <td>1.045198</td>\n",
       "      <td>41.1</td>\n",
       "      <td>42.200</td>\n",
       "      <td>42.3</td>\n",
       "      <td>42.40</td>\n",
       "      <td>45.5</td>\n",
       "    </tr>\n",
       "    <tr>\n",
       "      <th>rear_headroom</th>\n",
       "      <td>52.0</td>\n",
       "      <td>37.238462</td>\n",
       "      <td>0.444202</td>\n",
       "      <td>35.8</td>\n",
       "      <td>37.075</td>\n",
       "      <td>37.2</td>\n",
       "      <td>37.50</td>\n",
       "      <td>38.0</td>\n",
       "    </tr>\n",
       "    <tr>\n",
       "      <th>rear_legroom</th>\n",
       "      <td>52.0</td>\n",
       "      <td>37.632692</td>\n",
       "      <td>1.604249</td>\n",
       "      <td>33.2</td>\n",
       "      <td>37.175</td>\n",
       "      <td>37.4</td>\n",
       "      <td>38.30</td>\n",
       "      <td>40.4</td>\n",
       "    </tr>\n",
       "    <tr>\n",
       "      <th>service_records</th>\n",
       "      <td>52.0</td>\n",
       "      <td>7.326923</td>\n",
       "      <td>4.714272</td>\n",
       "      <td>1.0</td>\n",
       "      <td>4.000</td>\n",
       "      <td>6.0</td>\n",
       "      <td>10.00</td>\n",
       "      <td>26.0</td>\n",
       "    </tr>\n",
       "  </tbody>\n",
       "</table>\n",
       "</div>"
      ],
      "text/plain": [
       "                       count          mean           std      min        25%  \\\n",
       "id                      52.0     31.365385     15.378912      3.0     18.750   \n",
       "year                    52.0   2018.673077      1.396370   2014.0   2018.000   \n",
       "miles                   52.0  33901.250000  22700.646139   5000.0  16454.750   \n",
       "city_mileage            52.0     29.038462      5.947356     17.0     26.500   \n",
       "highway_mileage         52.0     37.423077      4.136619     24.0     35.750   \n",
       "horsepower              52.0    176.865385     33.793507    143.0    152.000   \n",
       "torque                  52.0    177.923077     47.256433     99.0    138.000   \n",
       "engine_capacity_litre   52.0      1.832692      0.379743      1.4      1.500   \n",
       "fuel_capacity           52.0     14.232692      2.603973      7.0     12.400   \n",
       "num_cylinder            52.0      4.038462      0.277350      4.0      4.000   \n",
       "num_seat                52.0      5.000000      0.000000      5.0      5.000   \n",
       "num_owners              52.0      1.346154      0.622601      1.0      1.000   \n",
       "price                   52.0  21763.423077   3532.455322  13590.0  19519.000   \n",
       "condition                1.0      4.000000           NaN      4.0      4.000   \n",
       "doors                   52.0      4.000000      0.000000      4.0      4.000   \n",
       "wheel_drive             52.0      2.153846      0.538138      2.0      2.000   \n",
       "speed_levels            52.0      6.307692      0.755073      6.0      6.000   \n",
       "front_headroom          52.0     38.680769      0.919087     37.5     37.725   \n",
       "front_legroom           52.0     42.467308      1.045198     41.1     42.200   \n",
       "rear_headroom           52.0     37.238462      0.444202     35.8     37.075   \n",
       "rear_legroom            52.0     37.632692      1.604249     33.2     37.175   \n",
       "service_records         52.0      7.326923      4.714272      1.0      4.000   \n",
       "\n",
       "                           50%       75%      max  \n",
       "id                        31.5     44.25     57.0  \n",
       "year                    2019.0   2019.25   2022.0  \n",
       "miles                  27448.5  42442.00  97027.0  \n",
       "city_mileage              30.0     30.00     55.0  \n",
       "highway_mileage           38.0     40.00     49.0  \n",
       "horsepower               159.5    192.00    288.0  \n",
       "torque                   181.0    192.00    294.0  \n",
       "engine_capacity_litre      2.0      2.00      3.5  \n",
       "fuel_capacity             13.6     15.05     19.0  \n",
       "num_cylinder               4.0      4.00      6.0  \n",
       "num_seat                   5.0      5.00      5.0  \n",
       "num_owners                 1.0      2.00      3.0  \n",
       "price                  21998.5  22996.00  33777.0  \n",
       "condition                  4.0      4.00      4.0  \n",
       "doors                      4.0      4.00      4.0  \n",
       "wheel_drive                2.0      2.00      4.0  \n",
       "speed_levels               6.0      6.00      9.0  \n",
       "front_headroom            38.5     39.30     40.4  \n",
       "front_legroom             42.3     42.40     45.5  \n",
       "rear_headroom             37.2     37.50     38.0  \n",
       "rear_legroom              37.4     38.30     40.4  \n",
       "service_records            6.0     10.00     26.0  "
      ]
     },
     "execution_count": 356,
     "metadata": {},
     "output_type": "execute_result"
    }
   ],
   "source": [
    "data.describe().T"
   ]
  },
  {
   "cell_type": "markdown",
   "metadata": {},
   "source": [
    "- A coluna __condition__ possui somente um valor não-nulo. A alternativa à eliminação seria a interpolação ou repetição de valores, o que não iria auxiliar a elaboração do modelo.\n",
    "\n",
    "- A coluna __link__ corresponde ao endereço do carro na página das empresas. Logo, não parece ter qualquer valor preditivo e também deverá ser eliminada.\n",
    "\n",
    "- A coluna __doors__ corresponde à quantidade de portas dos carros.  Como todos os carros da base possuem 4 portas, a coluna não irá auxiliar a elaboração do modelo.\n",
    "\n",
    "- A coluna __num_seat__ corresponde ao número de assentos dos carros.  Como todos os carros da base possuem 5 assentos, a coluna não irá auxiliar a elaboração do modelo.\n",
    "\n",
    "- A coluna __id__ ser somente como número identificador de cada carro, logo a coluna pode ser eliminada."
   ]
  },
  {
   "cell_type": "code",
   "execution_count": 357,
   "metadata": {},
   "outputs": [],
   "source": [
    "data: pd.DataFrame = data.drop(columns=['condition','link','doors','id', 'num_seat']) # removendo as colunas 'condition' e 'link'"
   ]
  },
  {
   "cell_type": "markdown",
   "metadata": {},
   "source": [
    "## Análise das variáveis qualitativas "
   ]
  },
  {
   "cell_type": "code",
   "execution_count": 358,
   "metadata": {},
   "outputs": [
    {
     "data": {
      "text/plain": [
       "brand       model       type   engine_type        \n",
       "Honda       Civic       sedan  gas                    14\n",
       "            Accord      sedan  gas                     7\n",
       "Volkswagen  Jetta       sedan  gas                     7\n",
       "Hyundai     Elantra SE  sedan  gas                     4\n",
       "Volkswagen  Passat      sedan  gas                     4\n",
       "Hyundai     Sonata      sedan  gas                     3\n",
       "Ford        Fusion      sedan  gas                     3\n",
       "Subaru      Impreza     sedan  gas                     2\n",
       "Chevrolet   Malibu      sedan  gas                     2\n",
       "            Volt LT     sedan  hybrid_gas_electric     1\n",
       "Ford        Focus       sedan  gas                     1\n",
       "            Taurus      sedan  gas                     1\n",
       "Honda       Insight     sedan  hybrid_gas_electric     1\n",
       "            Clarity     sedan  hybrid_gas_electric     1\n",
       "Subaru      Legacy      sedan  gas                     1\n",
       "Name: count, dtype: int64"
      ]
     },
     "execution_count": 358,
     "metadata": {},
     "output_type": "execute_result"
    }
   ],
   "source": [
    "# dataframe que contém somente as colunas com dados qualitativos\n",
    "data_quali: pd.DataFrame = data.select_dtypes(include=['category'])\n",
    "data_quali.value_counts()"
   ]
  },
  {
   "cell_type": "code",
   "execution_count": 359,
   "metadata": {},
   "outputs": [
    {
     "data": {
      "application/vnd.plotly.v1+json": {
       "config": {
        "plotlyServerURL": "https://plot.ly"
       },
       "data": [
        {
         "name": "brand",
         "type": "bar",
         "x": [
          "Honda",
          "Volkswagen",
          "Hyundai",
          "Ford",
          "Chevrolet",
          "Subaru"
         ],
         "xaxis": "x",
         "y": [
          23,
          11,
          7,
          5,
          3,
          3
         ],
         "yaxis": "y"
        },
        {
         "name": "model",
         "type": "bar",
         "x": [
          "Civic",
          "Accord",
          "Jetta",
          "Passat",
          "Elantra SE",
          "Fusion",
          "Sonata",
          "Impreza",
          "Malibu",
          "Focus",
          "Clarity",
          "Legacy",
          "Insight",
          "Taurus",
          "Volt LT"
         ],
         "xaxis": "x4",
         "y": [
          14,
          7,
          7,
          4,
          4,
          3,
          3,
          2,
          2,
          1,
          1,
          1,
          1,
          1,
          1
         ],
         "yaxis": "y4"
        },
        {
         "name": "type",
         "type": "bar",
         "x": [
          "sedan"
         ],
         "xaxis": "x2",
         "y": [
          52
         ],
         "yaxis": "y2"
        },
        {
         "name": "engine_type",
         "type": "bar",
         "x": [
          "gas",
          "hybrid_gas_electric"
         ],
         "xaxis": "x3",
         "y": [
          49,
          3
         ],
         "yaxis": "y3"
        }
       ],
       "layout": {
        "annotations": [
         {
          "font": {
           "size": 16
          },
          "showarrow": false,
          "text": "marca",
          "x": 0.225,
          "xanchor": "center",
          "xref": "paper",
          "y": 1,
          "yanchor": "bottom",
          "yref": "paper"
         },
         {
          "font": {
           "size": 16
          },
          "showarrow": false,
          "text": "tipo",
          "x": 0.775,
          "xanchor": "center",
          "xref": "paper",
          "y": 1,
          "yanchor": "bottom",
          "yref": "paper"
         },
         {
          "font": {
           "size": 16
          },
          "showarrow": false,
          "text": "tipo de motor",
          "x": 0.225,
          "xanchor": "center",
          "xref": "paper",
          "y": 0.375,
          "yanchor": "bottom",
          "yref": "paper"
         },
         {
          "font": {
           "size": 16
          },
          "showarrow": false,
          "text": "modelo",
          "x": 0.775,
          "xanchor": "center",
          "xref": "paper",
          "y": 0.375,
          "yanchor": "bottom",
          "yref": "paper"
         }
        ],
        "height": 750,
        "template": {
         "data": {
          "bar": [
           {
            "error_x": {
             "color": "#2a3f5f"
            },
            "error_y": {
             "color": "#2a3f5f"
            },
            "marker": {
             "line": {
              "color": "#E5ECF6",
              "width": 0.5
             },
             "pattern": {
              "fillmode": "overlay",
              "size": 10,
              "solidity": 0.2
             }
            },
            "type": "bar"
           }
          ],
          "barpolar": [
           {
            "marker": {
             "line": {
              "color": "#E5ECF6",
              "width": 0.5
             },
             "pattern": {
              "fillmode": "overlay",
              "size": 10,
              "solidity": 0.2
             }
            },
            "type": "barpolar"
           }
          ],
          "carpet": [
           {
            "aaxis": {
             "endlinecolor": "#2a3f5f",
             "gridcolor": "white",
             "linecolor": "white",
             "minorgridcolor": "white",
             "startlinecolor": "#2a3f5f"
            },
            "baxis": {
             "endlinecolor": "#2a3f5f",
             "gridcolor": "white",
             "linecolor": "white",
             "minorgridcolor": "white",
             "startlinecolor": "#2a3f5f"
            },
            "type": "carpet"
           }
          ],
          "choropleth": [
           {
            "colorbar": {
             "outlinewidth": 0,
             "ticks": ""
            },
            "type": "choropleth"
           }
          ],
          "contour": [
           {
            "colorbar": {
             "outlinewidth": 0,
             "ticks": ""
            },
            "colorscale": [
             [
              0,
              "#0d0887"
             ],
             [
              0.1111111111111111,
              "#46039f"
             ],
             [
              0.2222222222222222,
              "#7201a8"
             ],
             [
              0.3333333333333333,
              "#9c179e"
             ],
             [
              0.4444444444444444,
              "#bd3786"
             ],
             [
              0.5555555555555556,
              "#d8576b"
             ],
             [
              0.6666666666666666,
              "#ed7953"
             ],
             [
              0.7777777777777778,
              "#fb9f3a"
             ],
             [
              0.8888888888888888,
              "#fdca26"
             ],
             [
              1,
              "#f0f921"
             ]
            ],
            "type": "contour"
           }
          ],
          "contourcarpet": [
           {
            "colorbar": {
             "outlinewidth": 0,
             "ticks": ""
            },
            "type": "contourcarpet"
           }
          ],
          "heatmap": [
           {
            "colorbar": {
             "outlinewidth": 0,
             "ticks": ""
            },
            "colorscale": [
             [
              0,
              "#0d0887"
             ],
             [
              0.1111111111111111,
              "#46039f"
             ],
             [
              0.2222222222222222,
              "#7201a8"
             ],
             [
              0.3333333333333333,
              "#9c179e"
             ],
             [
              0.4444444444444444,
              "#bd3786"
             ],
             [
              0.5555555555555556,
              "#d8576b"
             ],
             [
              0.6666666666666666,
              "#ed7953"
             ],
             [
              0.7777777777777778,
              "#fb9f3a"
             ],
             [
              0.8888888888888888,
              "#fdca26"
             ],
             [
              1,
              "#f0f921"
             ]
            ],
            "type": "heatmap"
           }
          ],
          "heatmapgl": [
           {
            "colorbar": {
             "outlinewidth": 0,
             "ticks": ""
            },
            "colorscale": [
             [
              0,
              "#0d0887"
             ],
             [
              0.1111111111111111,
              "#46039f"
             ],
             [
              0.2222222222222222,
              "#7201a8"
             ],
             [
              0.3333333333333333,
              "#9c179e"
             ],
             [
              0.4444444444444444,
              "#bd3786"
             ],
             [
              0.5555555555555556,
              "#d8576b"
             ],
             [
              0.6666666666666666,
              "#ed7953"
             ],
             [
              0.7777777777777778,
              "#fb9f3a"
             ],
             [
              0.8888888888888888,
              "#fdca26"
             ],
             [
              1,
              "#f0f921"
             ]
            ],
            "type": "heatmapgl"
           }
          ],
          "histogram": [
           {
            "marker": {
             "pattern": {
              "fillmode": "overlay",
              "size": 10,
              "solidity": 0.2
             }
            },
            "type": "histogram"
           }
          ],
          "histogram2d": [
           {
            "colorbar": {
             "outlinewidth": 0,
             "ticks": ""
            },
            "colorscale": [
             [
              0,
              "#0d0887"
             ],
             [
              0.1111111111111111,
              "#46039f"
             ],
             [
              0.2222222222222222,
              "#7201a8"
             ],
             [
              0.3333333333333333,
              "#9c179e"
             ],
             [
              0.4444444444444444,
              "#bd3786"
             ],
             [
              0.5555555555555556,
              "#d8576b"
             ],
             [
              0.6666666666666666,
              "#ed7953"
             ],
             [
              0.7777777777777778,
              "#fb9f3a"
             ],
             [
              0.8888888888888888,
              "#fdca26"
             ],
             [
              1,
              "#f0f921"
             ]
            ],
            "type": "histogram2d"
           }
          ],
          "histogram2dcontour": [
           {
            "colorbar": {
             "outlinewidth": 0,
             "ticks": ""
            },
            "colorscale": [
             [
              0,
              "#0d0887"
             ],
             [
              0.1111111111111111,
              "#46039f"
             ],
             [
              0.2222222222222222,
              "#7201a8"
             ],
             [
              0.3333333333333333,
              "#9c179e"
             ],
             [
              0.4444444444444444,
              "#bd3786"
             ],
             [
              0.5555555555555556,
              "#d8576b"
             ],
             [
              0.6666666666666666,
              "#ed7953"
             ],
             [
              0.7777777777777778,
              "#fb9f3a"
             ],
             [
              0.8888888888888888,
              "#fdca26"
             ],
             [
              1,
              "#f0f921"
             ]
            ],
            "type": "histogram2dcontour"
           }
          ],
          "mesh3d": [
           {
            "colorbar": {
             "outlinewidth": 0,
             "ticks": ""
            },
            "type": "mesh3d"
           }
          ],
          "parcoords": [
           {
            "line": {
             "colorbar": {
              "outlinewidth": 0,
              "ticks": ""
             }
            },
            "type": "parcoords"
           }
          ],
          "pie": [
           {
            "automargin": true,
            "type": "pie"
           }
          ],
          "scatter": [
           {
            "fillpattern": {
             "fillmode": "overlay",
             "size": 10,
             "solidity": 0.2
            },
            "type": "scatter"
           }
          ],
          "scatter3d": [
           {
            "line": {
             "colorbar": {
              "outlinewidth": 0,
              "ticks": ""
             }
            },
            "marker": {
             "colorbar": {
              "outlinewidth": 0,
              "ticks": ""
             }
            },
            "type": "scatter3d"
           }
          ],
          "scattercarpet": [
           {
            "marker": {
             "colorbar": {
              "outlinewidth": 0,
              "ticks": ""
             }
            },
            "type": "scattercarpet"
           }
          ],
          "scattergeo": [
           {
            "marker": {
             "colorbar": {
              "outlinewidth": 0,
              "ticks": ""
             }
            },
            "type": "scattergeo"
           }
          ],
          "scattergl": [
           {
            "marker": {
             "colorbar": {
              "outlinewidth": 0,
              "ticks": ""
             }
            },
            "type": "scattergl"
           }
          ],
          "scattermapbox": [
           {
            "marker": {
             "colorbar": {
              "outlinewidth": 0,
              "ticks": ""
             }
            },
            "type": "scattermapbox"
           }
          ],
          "scatterpolar": [
           {
            "marker": {
             "colorbar": {
              "outlinewidth": 0,
              "ticks": ""
             }
            },
            "type": "scatterpolar"
           }
          ],
          "scatterpolargl": [
           {
            "marker": {
             "colorbar": {
              "outlinewidth": 0,
              "ticks": ""
             }
            },
            "type": "scatterpolargl"
           }
          ],
          "scatterternary": [
           {
            "marker": {
             "colorbar": {
              "outlinewidth": 0,
              "ticks": ""
             }
            },
            "type": "scatterternary"
           }
          ],
          "surface": [
           {
            "colorbar": {
             "outlinewidth": 0,
             "ticks": ""
            },
            "colorscale": [
             [
              0,
              "#0d0887"
             ],
             [
              0.1111111111111111,
              "#46039f"
             ],
             [
              0.2222222222222222,
              "#7201a8"
             ],
             [
              0.3333333333333333,
              "#9c179e"
             ],
             [
              0.4444444444444444,
              "#bd3786"
             ],
             [
              0.5555555555555556,
              "#d8576b"
             ],
             [
              0.6666666666666666,
              "#ed7953"
             ],
             [
              0.7777777777777778,
              "#fb9f3a"
             ],
             [
              0.8888888888888888,
              "#fdca26"
             ],
             [
              1,
              "#f0f921"
             ]
            ],
            "type": "surface"
           }
          ],
          "table": [
           {
            "cells": {
             "fill": {
              "color": "#EBF0F8"
             },
             "line": {
              "color": "white"
             }
            },
            "header": {
             "fill": {
              "color": "#C8D4E3"
             },
             "line": {
              "color": "white"
             }
            },
            "type": "table"
           }
          ]
         },
         "layout": {
          "annotationdefaults": {
           "arrowcolor": "#2a3f5f",
           "arrowhead": 0,
           "arrowwidth": 1
          },
          "autotypenumbers": "strict",
          "coloraxis": {
           "colorbar": {
            "outlinewidth": 0,
            "ticks": ""
           }
          },
          "colorscale": {
           "diverging": [
            [
             0,
             "#8e0152"
            ],
            [
             0.1,
             "#c51b7d"
            ],
            [
             0.2,
             "#de77ae"
            ],
            [
             0.3,
             "#f1b6da"
            ],
            [
             0.4,
             "#fde0ef"
            ],
            [
             0.5,
             "#f7f7f7"
            ],
            [
             0.6,
             "#e6f5d0"
            ],
            [
             0.7,
             "#b8e186"
            ],
            [
             0.8,
             "#7fbc41"
            ],
            [
             0.9,
             "#4d9221"
            ],
            [
             1,
             "#276419"
            ]
           ],
           "sequential": [
            [
             0,
             "#0d0887"
            ],
            [
             0.1111111111111111,
             "#46039f"
            ],
            [
             0.2222222222222222,
             "#7201a8"
            ],
            [
             0.3333333333333333,
             "#9c179e"
            ],
            [
             0.4444444444444444,
             "#bd3786"
            ],
            [
             0.5555555555555556,
             "#d8576b"
            ],
            [
             0.6666666666666666,
             "#ed7953"
            ],
            [
             0.7777777777777778,
             "#fb9f3a"
            ],
            [
             0.8888888888888888,
             "#fdca26"
            ],
            [
             1,
             "#f0f921"
            ]
           ],
           "sequentialminus": [
            [
             0,
             "#0d0887"
            ],
            [
             0.1111111111111111,
             "#46039f"
            ],
            [
             0.2222222222222222,
             "#7201a8"
            ],
            [
             0.3333333333333333,
             "#9c179e"
            ],
            [
             0.4444444444444444,
             "#bd3786"
            ],
            [
             0.5555555555555556,
             "#d8576b"
            ],
            [
             0.6666666666666666,
             "#ed7953"
            ],
            [
             0.7777777777777778,
             "#fb9f3a"
            ],
            [
             0.8888888888888888,
             "#fdca26"
            ],
            [
             1,
             "#f0f921"
            ]
           ]
          },
          "colorway": [
           "#636efa",
           "#EF553B",
           "#00cc96",
           "#ab63fa",
           "#FFA15A",
           "#19d3f3",
           "#FF6692",
           "#B6E880",
           "#FF97FF",
           "#FECB52"
          ],
          "font": {
           "color": "#2a3f5f"
          },
          "geo": {
           "bgcolor": "white",
           "lakecolor": "white",
           "landcolor": "#E5ECF6",
           "showlakes": true,
           "showland": true,
           "subunitcolor": "white"
          },
          "hoverlabel": {
           "align": "left"
          },
          "hovermode": "closest",
          "mapbox": {
           "style": "light"
          },
          "paper_bgcolor": "white",
          "plot_bgcolor": "#E5ECF6",
          "polar": {
           "angularaxis": {
            "gridcolor": "white",
            "linecolor": "white",
            "ticks": ""
           },
           "bgcolor": "#E5ECF6",
           "radialaxis": {
            "gridcolor": "white",
            "linecolor": "white",
            "ticks": ""
           }
          },
          "scene": {
           "xaxis": {
            "backgroundcolor": "#E5ECF6",
            "gridcolor": "white",
            "gridwidth": 2,
            "linecolor": "white",
            "showbackground": true,
            "ticks": "",
            "zerolinecolor": "white"
           },
           "yaxis": {
            "backgroundcolor": "#E5ECF6",
            "gridcolor": "white",
            "gridwidth": 2,
            "linecolor": "white",
            "showbackground": true,
            "ticks": "",
            "zerolinecolor": "white"
           },
           "zaxis": {
            "backgroundcolor": "#E5ECF6",
            "gridcolor": "white",
            "gridwidth": 2,
            "linecolor": "white",
            "showbackground": true,
            "ticks": "",
            "zerolinecolor": "white"
           }
          },
          "shapedefaults": {
           "line": {
            "color": "#2a3f5f"
           }
          },
          "ternary": {
           "aaxis": {
            "gridcolor": "white",
            "linecolor": "white",
            "ticks": ""
           },
           "baxis": {
            "gridcolor": "white",
            "linecolor": "white",
            "ticks": ""
           },
           "bgcolor": "#E5ECF6",
           "caxis": {
            "gridcolor": "white",
            "linecolor": "white",
            "ticks": ""
           }
          },
          "title": {
           "x": 0.05
          },
          "xaxis": {
           "automargin": true,
           "gridcolor": "white",
           "linecolor": "white",
           "ticks": "",
           "title": {
            "standoff": 15
           },
           "zerolinecolor": "white",
           "zerolinewidth": 2
          },
          "yaxis": {
           "automargin": true,
           "gridcolor": "white",
           "linecolor": "white",
           "ticks": "",
           "title": {
            "standoff": 15
           },
           "zerolinecolor": "white",
           "zerolinewidth": 2
          }
         }
        },
        "title": {
         "text": "Variáveis qualitativas da base de dados"
        },
        "width": 750,
        "xaxis": {
         "anchor": "y",
         "domain": [
          0,
          0.45
         ]
        },
        "xaxis2": {
         "anchor": "y2",
         "domain": [
          0.55,
          1
         ]
        },
        "xaxis3": {
         "anchor": "y3",
         "domain": [
          0,
          0.45
         ]
        },
        "xaxis4": {
         "anchor": "y4",
         "domain": [
          0.55,
          1
         ]
        },
        "yaxis": {
         "anchor": "x",
         "domain": [
          0.625,
          1
         ],
         "title": {
          "text": "quantidade"
         }
        },
        "yaxis2": {
         "anchor": "x2",
         "domain": [
          0.625,
          1
         ],
         "title": {
          "text": "quantidade"
         }
        },
        "yaxis3": {
         "anchor": "x3",
         "domain": [
          0,
          0.375
         ],
         "title": {
          "text": "quantidade"
         }
        },
        "yaxis4": {
         "anchor": "x4",
         "domain": [
          0,
          0.375
         ],
         "title": {
          "text": "quantidade"
         }
        }
       }
      }
     },
     "metadata": {},
     "output_type": "display_data"
    }
   ],
   "source": [
    "# desenha os gráficos de barras na forma de subplots\n",
    "def plotly_subplots_bar(nrows, ncols, subplot_titles, data_frame)-> None:\n",
    "\n",
    "    fig = make_subplots(rows=nrows, cols=ncols, subplot_titles=subplot_titles)\n",
    "\n",
    "    i=1\n",
    "    j=1\n",
    "    for col in data_frame.columns:\n",
    "        fig.add_trace(go.Bar(x=data_frame[col].value_counts().index, \n",
    "                            y=data_frame[col].value_counts().values, \n",
    "                            name=col), \n",
    "                            row=i, col=j)\n",
    "        fig.update_yaxes(title_text='quantidade')\n",
    "        \n",
    "        if  i < nrows:\n",
    "            i+=1\n",
    "            if j< ncols:\n",
    "                j+=1\n",
    "            else:\n",
    "                j = 1\n",
    "        else:\n",
    "            i = 1\n",
    "        \n",
    "        \n",
    "\n",
    "    fig.update_layout(height=750, width=750,\n",
    "                    title_text=\"Variáveis qualitativas da base de dados\")\n",
    "\n",
    "    fig.show()\n",
    "\n",
    "plotly_subplots_bar(2,2,['marca', 'tipo', 'tipo de motor', 'modelo'], data_quali)"
   ]
  },
  {
   "cell_type": "markdown",
   "metadata": {},
   "source": [
    "Observações sobre as variáveis qualitativas:\n",
    "- __brand__:  A marca é um atributo que descreve a origem ou o fabricante do produto. Neste caso, as marcas correspondem a 6 categorias: 'Chevrolet', 'Hyundai', 'Ford', 'Honda', 'Subaru', 'Volkswagen'. A marca mais frequente na base de dados é 'Honda', com 23 ocorrências, seguida por 'Volkswagen', com 11 ocorrências. As marcas com a menor quantidade de dados na base são 'Subaru' e Chevrolet, ambas com 3 ocorrências.\n",
    "- __type__: O único tipo de carro presente na base o 'sedan'.\n",
    "- __engine_type__: existem dois tipos de motor na base de dados, quais sejam: 'gas' (49 veículos) e 'hybrid_gas_eletric' (3 veículos). \n",
    "- __model__:  Existem 15 modelos de veículos na base de dados, sendo mais frequente o 'Civic' (14 carros) e os menos frequentes, com apenas 1 ocorrência são: 'Focus', 'Clarity', 'Legacy', 'Taurus' e 'Volt LT'.\n"
   ]
  },
  {
   "cell_type": "markdown",
   "metadata": {},
   "source": [
    "## Análise das variáveis quantitativas"
   ]
  },
  {
   "cell_type": "code",
   "execution_count": 360,
   "metadata": {},
   "outputs": [
    {
     "data": {
      "text/html": [
       "<div>\n",
       "<style scoped>\n",
       "    .dataframe tbody tr th:only-of-type {\n",
       "        vertical-align: middle;\n",
       "    }\n",
       "\n",
       "    .dataframe tbody tr th {\n",
       "        vertical-align: top;\n",
       "    }\n",
       "\n",
       "    .dataframe thead th {\n",
       "        text-align: right;\n",
       "    }\n",
       "</style>\n",
       "<table border=\"1\" class=\"dataframe\">\n",
       "  <thead>\n",
       "    <tr style=\"text-align: right;\">\n",
       "      <th></th>\n",
       "      <th>year</th>\n",
       "      <th>miles</th>\n",
       "      <th>city_mileage</th>\n",
       "      <th>highway_mileage</th>\n",
       "      <th>horsepower</th>\n",
       "      <th>torque</th>\n",
       "      <th>engine_capacity_litre</th>\n",
       "      <th>fuel_capacity</th>\n",
       "      <th>num_cylinder</th>\n",
       "      <th>num_owners</th>\n",
       "      <th>price</th>\n",
       "      <th>wheel_drive</th>\n",
       "      <th>speed_levels</th>\n",
       "      <th>front_headroom</th>\n",
       "      <th>front_legroom</th>\n",
       "      <th>rear_headroom</th>\n",
       "      <th>rear_legroom</th>\n",
       "      <th>service_records</th>\n",
       "    </tr>\n",
       "  </thead>\n",
       "  <tbody>\n",
       "    <tr>\n",
       "      <th>0</th>\n",
       "      <td>2019</td>\n",
       "      <td>27173</td>\n",
       "      <td>43</td>\n",
       "      <td>42</td>\n",
       "      <td>149</td>\n",
       "      <td>294</td>\n",
       "      <td>1.5</td>\n",
       "      <td>8.9</td>\n",
       "      <td>4</td>\n",
       "      <td>3</td>\n",
       "      <td>25655</td>\n",
       "      <td>2</td>\n",
       "      <td>6.0</td>\n",
       "      <td>37.8</td>\n",
       "      <td>42.1</td>\n",
       "      <td>35.8</td>\n",
       "      <td>34.7</td>\n",
       "      <td>4</td>\n",
       "    </tr>\n",
       "    <tr>\n",
       "      <th>1</th>\n",
       "      <td>2017</td>\n",
       "      <td>76941</td>\n",
       "      <td>29</td>\n",
       "      <td>38</td>\n",
       "      <td>146</td>\n",
       "      <td>132</td>\n",
       "      <td>2.0</td>\n",
       "      <td>14.0</td>\n",
       "      <td>4</td>\n",
       "      <td>2</td>\n",
       "      <td>15590</td>\n",
       "      <td>2</td>\n",
       "      <td>6.0</td>\n",
       "      <td>39.0</td>\n",
       "      <td>42.2</td>\n",
       "      <td>37.0</td>\n",
       "      <td>35.7</td>\n",
       "      <td>16</td>\n",
       "    </tr>\n",
       "    <tr>\n",
       "      <th>2</th>\n",
       "      <td>2014</td>\n",
       "      <td>97027</td>\n",
       "      <td>27</td>\n",
       "      <td>37</td>\n",
       "      <td>159</td>\n",
       "      <td>146</td>\n",
       "      <td>2.0</td>\n",
       "      <td>12.4</td>\n",
       "      <td>4</td>\n",
       "      <td>3</td>\n",
       "      <td>13590</td>\n",
       "      <td>2</td>\n",
       "      <td>6.0</td>\n",
       "      <td>38.3</td>\n",
       "      <td>43.7</td>\n",
       "      <td>38.0</td>\n",
       "      <td>33.2</td>\n",
       "      <td>13</td>\n",
       "    </tr>\n",
       "    <tr>\n",
       "      <th>3</th>\n",
       "      <td>2016</td>\n",
       "      <td>95396</td>\n",
       "      <td>31</td>\n",
       "      <td>42</td>\n",
       "      <td>158</td>\n",
       "      <td>138</td>\n",
       "      <td>1.5</td>\n",
       "      <td>12.4</td>\n",
       "      <td>4</td>\n",
       "      <td>2</td>\n",
       "      <td>20590</td>\n",
       "      <td>2</td>\n",
       "      <td>6.0</td>\n",
       "      <td>37.5</td>\n",
       "      <td>42.3</td>\n",
       "      <td>36.8</td>\n",
       "      <td>37.4</td>\n",
       "      <td>26</td>\n",
       "    </tr>\n",
       "    <tr>\n",
       "      <th>4</th>\n",
       "      <td>2019</td>\n",
       "      <td>28405</td>\n",
       "      <td>29</td>\n",
       "      <td>38</td>\n",
       "      <td>147</td>\n",
       "      <td>132</td>\n",
       "      <td>2.0</td>\n",
       "      <td>14.0</td>\n",
       "      <td>4</td>\n",
       "      <td>3</td>\n",
       "      <td>16787</td>\n",
       "      <td>2</td>\n",
       "      <td>6.0</td>\n",
       "      <td>39.0</td>\n",
       "      <td>42.2</td>\n",
       "      <td>37.0</td>\n",
       "      <td>35.7</td>\n",
       "      <td>5</td>\n",
       "    </tr>\n",
       "  </tbody>\n",
       "</table>\n",
       "</div>"
      ],
      "text/plain": [
       "   year  miles  city_mileage  highway_mileage  horsepower  torque  \\\n",
       "0  2019  27173            43               42         149     294   \n",
       "1  2017  76941            29               38         146     132   \n",
       "2  2014  97027            27               37         159     146   \n",
       "3  2016  95396            31               42         158     138   \n",
       "4  2019  28405            29               38         147     132   \n",
       "\n",
       "   engine_capacity_litre  fuel_capacity  num_cylinder  num_owners  price  \\\n",
       "0                    1.5            8.9             4           3  25655   \n",
       "1                    2.0           14.0             4           2  15590   \n",
       "2                    2.0           12.4             4           3  13590   \n",
       "3                    1.5           12.4             4           2  20590   \n",
       "4                    2.0           14.0             4           3  16787   \n",
       "\n",
       "   wheel_drive  speed_levels  front_headroom  front_legroom  rear_headroom  \\\n",
       "0            2           6.0            37.8           42.1           35.8   \n",
       "1            2           6.0            39.0           42.2           37.0   \n",
       "2            2           6.0            38.3           43.7           38.0   \n",
       "3            2           6.0            37.5           42.3           36.8   \n",
       "4            2           6.0            39.0           42.2           37.0   \n",
       "\n",
       "   rear_legroom  service_records  \n",
       "0          34.7                4  \n",
       "1          35.7               16  \n",
       "2          33.2               13  \n",
       "3          37.4               26  \n",
       "4          35.7                5  "
      ]
     },
     "execution_count": 360,
     "metadata": {},
     "output_type": "execute_result"
    }
   ],
   "source": [
    "data_quanti: pd.DataFrame = data.select_dtypes(exclude=['category'])\n",
    "data_quanti.head()"
   ]
  },
  {
   "cell_type": "code",
   "execution_count": 361,
   "metadata": {},
   "outputs": [
    {
     "data": {
      "text/html": [
       "<div>\n",
       "<style scoped>\n",
       "    .dataframe tbody tr th:only-of-type {\n",
       "        vertical-align: middle;\n",
       "    }\n",
       "\n",
       "    .dataframe tbody tr th {\n",
       "        vertical-align: top;\n",
       "    }\n",
       "\n",
       "    .dataframe thead th {\n",
       "        text-align: right;\n",
       "    }\n",
       "</style>\n",
       "<table border=\"1\" class=\"dataframe\">\n",
       "  <thead>\n",
       "    <tr style=\"text-align: right;\">\n",
       "      <th></th>\n",
       "      <th>count</th>\n",
       "      <th>mean</th>\n",
       "      <th>std</th>\n",
       "      <th>min</th>\n",
       "      <th>25%</th>\n",
       "      <th>50%</th>\n",
       "      <th>75%</th>\n",
       "      <th>max</th>\n",
       "    </tr>\n",
       "  </thead>\n",
       "  <tbody>\n",
       "    <tr>\n",
       "      <th>year</th>\n",
       "      <td>52.0</td>\n",
       "      <td>2018.673077</td>\n",
       "      <td>1.396370</td>\n",
       "      <td>2014.0</td>\n",
       "      <td>2018.000</td>\n",
       "      <td>2019.0</td>\n",
       "      <td>2019.25</td>\n",
       "      <td>2022.0</td>\n",
       "    </tr>\n",
       "    <tr>\n",
       "      <th>miles</th>\n",
       "      <td>52.0</td>\n",
       "      <td>33901.250000</td>\n",
       "      <td>22700.646139</td>\n",
       "      <td>5000.0</td>\n",
       "      <td>16454.750</td>\n",
       "      <td>27448.5</td>\n",
       "      <td>42442.00</td>\n",
       "      <td>97027.0</td>\n",
       "    </tr>\n",
       "    <tr>\n",
       "      <th>city_mileage</th>\n",
       "      <td>52.0</td>\n",
       "      <td>29.038462</td>\n",
       "      <td>5.947356</td>\n",
       "      <td>17.0</td>\n",
       "      <td>26.500</td>\n",
       "      <td>30.0</td>\n",
       "      <td>30.00</td>\n",
       "      <td>55.0</td>\n",
       "    </tr>\n",
       "    <tr>\n",
       "      <th>highway_mileage</th>\n",
       "      <td>52.0</td>\n",
       "      <td>37.423077</td>\n",
       "      <td>4.136619</td>\n",
       "      <td>24.0</td>\n",
       "      <td>35.750</td>\n",
       "      <td>38.0</td>\n",
       "      <td>40.00</td>\n",
       "      <td>49.0</td>\n",
       "    </tr>\n",
       "    <tr>\n",
       "      <th>horsepower</th>\n",
       "      <td>52.0</td>\n",
       "      <td>176.865385</td>\n",
       "      <td>33.793507</td>\n",
       "      <td>143.0</td>\n",
       "      <td>152.000</td>\n",
       "      <td>159.5</td>\n",
       "      <td>192.00</td>\n",
       "      <td>288.0</td>\n",
       "    </tr>\n",
       "    <tr>\n",
       "      <th>torque</th>\n",
       "      <td>52.0</td>\n",
       "      <td>177.923077</td>\n",
       "      <td>47.256433</td>\n",
       "      <td>99.0</td>\n",
       "      <td>138.000</td>\n",
       "      <td>181.0</td>\n",
       "      <td>192.00</td>\n",
       "      <td>294.0</td>\n",
       "    </tr>\n",
       "    <tr>\n",
       "      <th>engine_capacity_litre</th>\n",
       "      <td>52.0</td>\n",
       "      <td>1.832692</td>\n",
       "      <td>0.379743</td>\n",
       "      <td>1.4</td>\n",
       "      <td>1.500</td>\n",
       "      <td>2.0</td>\n",
       "      <td>2.00</td>\n",
       "      <td>3.5</td>\n",
       "    </tr>\n",
       "    <tr>\n",
       "      <th>fuel_capacity</th>\n",
       "      <td>52.0</td>\n",
       "      <td>14.232692</td>\n",
       "      <td>2.603973</td>\n",
       "      <td>7.0</td>\n",
       "      <td>12.400</td>\n",
       "      <td>13.6</td>\n",
       "      <td>15.05</td>\n",
       "      <td>19.0</td>\n",
       "    </tr>\n",
       "    <tr>\n",
       "      <th>num_cylinder</th>\n",
       "      <td>52.0</td>\n",
       "      <td>4.038462</td>\n",
       "      <td>0.277350</td>\n",
       "      <td>4.0</td>\n",
       "      <td>4.000</td>\n",
       "      <td>4.0</td>\n",
       "      <td>4.00</td>\n",
       "      <td>6.0</td>\n",
       "    </tr>\n",
       "    <tr>\n",
       "      <th>num_owners</th>\n",
       "      <td>52.0</td>\n",
       "      <td>1.346154</td>\n",
       "      <td>0.622601</td>\n",
       "      <td>1.0</td>\n",
       "      <td>1.000</td>\n",
       "      <td>1.0</td>\n",
       "      <td>2.00</td>\n",
       "      <td>3.0</td>\n",
       "    </tr>\n",
       "    <tr>\n",
       "      <th>price</th>\n",
       "      <td>52.0</td>\n",
       "      <td>21763.423077</td>\n",
       "      <td>3532.455322</td>\n",
       "      <td>13590.0</td>\n",
       "      <td>19519.000</td>\n",
       "      <td>21998.5</td>\n",
       "      <td>22996.00</td>\n",
       "      <td>33777.0</td>\n",
       "    </tr>\n",
       "    <tr>\n",
       "      <th>wheel_drive</th>\n",
       "      <td>52.0</td>\n",
       "      <td>2.153846</td>\n",
       "      <td>0.538138</td>\n",
       "      <td>2.0</td>\n",
       "      <td>2.000</td>\n",
       "      <td>2.0</td>\n",
       "      <td>2.00</td>\n",
       "      <td>4.0</td>\n",
       "    </tr>\n",
       "    <tr>\n",
       "      <th>speed_levels</th>\n",
       "      <td>52.0</td>\n",
       "      <td>6.307692</td>\n",
       "      <td>0.755073</td>\n",
       "      <td>6.0</td>\n",
       "      <td>6.000</td>\n",
       "      <td>6.0</td>\n",
       "      <td>6.00</td>\n",
       "      <td>9.0</td>\n",
       "    </tr>\n",
       "    <tr>\n",
       "      <th>front_headroom</th>\n",
       "      <td>52.0</td>\n",
       "      <td>38.680769</td>\n",
       "      <td>0.919087</td>\n",
       "      <td>37.5</td>\n",
       "      <td>37.725</td>\n",
       "      <td>38.5</td>\n",
       "      <td>39.30</td>\n",
       "      <td>40.4</td>\n",
       "    </tr>\n",
       "    <tr>\n",
       "      <th>front_legroom</th>\n",
       "      <td>52.0</td>\n",
       "      <td>42.467308</td>\n",
       "      <td>1.045198</td>\n",
       "      <td>41.1</td>\n",
       "      <td>42.200</td>\n",
       "      <td>42.3</td>\n",
       "      <td>42.40</td>\n",
       "      <td>45.5</td>\n",
       "    </tr>\n",
       "    <tr>\n",
       "      <th>rear_headroom</th>\n",
       "      <td>52.0</td>\n",
       "      <td>37.238462</td>\n",
       "      <td>0.444202</td>\n",
       "      <td>35.8</td>\n",
       "      <td>37.075</td>\n",
       "      <td>37.2</td>\n",
       "      <td>37.50</td>\n",
       "      <td>38.0</td>\n",
       "    </tr>\n",
       "    <tr>\n",
       "      <th>rear_legroom</th>\n",
       "      <td>52.0</td>\n",
       "      <td>37.632692</td>\n",
       "      <td>1.604249</td>\n",
       "      <td>33.2</td>\n",
       "      <td>37.175</td>\n",
       "      <td>37.4</td>\n",
       "      <td>38.30</td>\n",
       "      <td>40.4</td>\n",
       "    </tr>\n",
       "    <tr>\n",
       "      <th>service_records</th>\n",
       "      <td>52.0</td>\n",
       "      <td>7.326923</td>\n",
       "      <td>4.714272</td>\n",
       "      <td>1.0</td>\n",
       "      <td>4.000</td>\n",
       "      <td>6.0</td>\n",
       "      <td>10.00</td>\n",
       "      <td>26.0</td>\n",
       "    </tr>\n",
       "  </tbody>\n",
       "</table>\n",
       "</div>"
      ],
      "text/plain": [
       "                       count          mean           std      min        25%  \\\n",
       "year                    52.0   2018.673077      1.396370   2014.0   2018.000   \n",
       "miles                   52.0  33901.250000  22700.646139   5000.0  16454.750   \n",
       "city_mileage            52.0     29.038462      5.947356     17.0     26.500   \n",
       "highway_mileage         52.0     37.423077      4.136619     24.0     35.750   \n",
       "horsepower              52.0    176.865385     33.793507    143.0    152.000   \n",
       "torque                  52.0    177.923077     47.256433     99.0    138.000   \n",
       "engine_capacity_litre   52.0      1.832692      0.379743      1.4      1.500   \n",
       "fuel_capacity           52.0     14.232692      2.603973      7.0     12.400   \n",
       "num_cylinder            52.0      4.038462      0.277350      4.0      4.000   \n",
       "num_owners              52.0      1.346154      0.622601      1.0      1.000   \n",
       "price                   52.0  21763.423077   3532.455322  13590.0  19519.000   \n",
       "wheel_drive             52.0      2.153846      0.538138      2.0      2.000   \n",
       "speed_levels            52.0      6.307692      0.755073      6.0      6.000   \n",
       "front_headroom          52.0     38.680769      0.919087     37.5     37.725   \n",
       "front_legroom           52.0     42.467308      1.045198     41.1     42.200   \n",
       "rear_headroom           52.0     37.238462      0.444202     35.8     37.075   \n",
       "rear_legroom            52.0     37.632692      1.604249     33.2     37.175   \n",
       "service_records         52.0      7.326923      4.714272      1.0      4.000   \n",
       "\n",
       "                           50%       75%      max  \n",
       "year                    2019.0   2019.25   2022.0  \n",
       "miles                  27448.5  42442.00  97027.0  \n",
       "city_mileage              30.0     30.00     55.0  \n",
       "highway_mileage           38.0     40.00     49.0  \n",
       "horsepower               159.5    192.00    288.0  \n",
       "torque                   181.0    192.00    294.0  \n",
       "engine_capacity_litre      2.0      2.00      3.5  \n",
       "fuel_capacity             13.6     15.05     19.0  \n",
       "num_cylinder               4.0      4.00      6.0  \n",
       "num_owners                 1.0      2.00      3.0  \n",
       "price                  21998.5  22996.00  33777.0  \n",
       "wheel_drive                2.0      2.00      4.0  \n",
       "speed_levels               6.0      6.00      9.0  \n",
       "front_headroom            38.5     39.30     40.4  \n",
       "front_legroom             42.3     42.40     45.5  \n",
       "rear_headroom             37.2     37.50     38.0  \n",
       "rear_legroom              37.4     38.30     40.4  \n",
       "service_records            6.0     10.00     26.0  "
      ]
     },
     "execution_count": 361,
     "metadata": {},
     "output_type": "execute_result"
    }
   ],
   "source": [
    "data_quanti.describe().T"
   ]
  },
  {
   "cell_type": "code",
   "execution_count": 362,
   "metadata": {},
   "outputs": [
    {
     "data": {
      "application/vnd.plotly.v1+json": {
       "config": {
        "plotlyServerURL": "https://plot.ly"
       },
       "data": [
        {
         "alignmentgroup": "True",
         "hovertemplate": "y=%{y}<extra></extra>",
         "legendgroup": "",
         "marker": {
          "color": "lightseagreen"
         },
         "name": "",
         "notched": false,
         "offsetgroup": "",
         "orientation": "v",
         "showlegend": false,
         "type": "box",
         "x0": " ",
         "xaxis": "x",
         "y": [
          2019,
          2017,
          2014,
          2016,
          2019,
          2016,
          2022,
          2018,
          2019,
          2017,
          2015,
          2019,
          2018,
          2020,
          2020,
          2019,
          2020,
          2019,
          2019,
          2019,
          2019,
          2020,
          2019,
          2018,
          2017,
          2020,
          2020,
          2019,
          2019,
          2018,
          2019,
          2017,
          2019,
          2020,
          2019,
          2019,
          2018,
          2019,
          2018,
          2020,
          2018,
          2019,
          2020,
          2019,
          2020,
          2019,
          2018,
          2019,
          2020,
          2019,
          2020,
          2018
         ],
         "y0": " ",
         "yaxis": "y"
        },
        {
         "alignmentgroup": "True",
         "hovertemplate": "y=%{y}<extra></extra>",
         "legendgroup": "",
         "marker": {
          "color": "lightseagreen"
         },
         "name": "",
         "notched": false,
         "offsetgroup": "",
         "orientation": "v",
         "showlegend": false,
         "type": "box",
         "x0": " ",
         "xaxis": "x2",
         "y": [
          27173,
          76941,
          97027,
          95396,
          28405,
          61459,
          6811,
          29674,
          25044,
          26215,
          25939,
          32270,
          19950,
          19719,
          16076,
          28214,
          12395,
          33322,
          56233,
          24250,
          38097,
          35743,
          32946,
          26905,
          66329,
          27457,
          12395,
          41799,
          26910,
          16581,
          9736,
          7743,
          44371,
          12944,
          5000,
          41799,
          13726,
          18898,
          51279,
          36506,
          58126,
          27440,
          59090,
          47715,
          9495,
          13721,
          72827,
          33412,
          13830,
          23507,
          11296,
          82729
         ],
         "y0": " ",
         "yaxis": "y2"
        },
        {
         "alignmentgroup": "True",
         "hovertemplate": "y=%{y}<extra></extra>",
         "legendgroup": "",
         "marker": {
          "color": "lightseagreen"
         },
         "name": "",
         "notched": false,
         "offsetgroup": "",
         "orientation": "v",
         "showlegend": false,
         "type": "box",
         "x0": " ",
         "xaxis": "x3",
         "y": [
          43,
          29,
          27,
          31,
          29,
          31,
          27,
          44,
          30,
          28,
          29,
          32,
          31,
          30,
          32,
          28,
          30,
          30,
          55,
          30,
          17,
          20,
          29,
          25,
          23,
          23,
          30,
          30,
          25,
          31,
          25,
          31,
          28,
          25,
          30,
          30,
          22,
          30,
          30,
          21,
          30,
          32,
          30,
          30,
          23,
          30,
          31,
          23,
          30,
          20,
          30,
          30
         ],
         "y0": " ",
         "yaxis": "y3"
        },
        {
         "alignmentgroup": "True",
         "hovertemplate": "y=%{y}<extra></extra>",
         "legendgroup": "",
         "marker": {
          "color": "lightseagreen"
         },
         "name": "",
         "notched": false,
         "offsetgroup": "",
         "orientation": "v",
         "showlegend": false,
         "type": "box",
         "x0": " ",
         "xaxis": "x4",
         "y": [
          42,
          38,
          37,
          42,
          38,
          41,
          35,
          40,
          40,
          38,
          37,
          42,
          40,
          38,
          42,
          38,
          38,
          38,
          49,
          40,
          24,
          29,
          36,
          36,
          34,
          34,
          38,
          38,
          33,
          40,
          33,
          40,
          38,
          32,
          40,
          38,
          32,
          40,
          38,
          31,
          38,
          42,
          38,
          38,
          34,
          40,
          40,
          32,
          40,
          29,
          40,
          38
         ],
         "y0": " ",
         "yaxis": "y4"
        },
        {
         "alignmentgroup": "True",
         "hovertemplate": "y=%{y}<extra></extra>",
         "legendgroup": "",
         "marker": {
          "color": "lightseagreen"
         },
         "name": "",
         "notched": false,
         "offsetgroup": "",
         "orientation": "v",
         "showlegend": false,
         "type": "box",
         "x0": " ",
         "xaxis": "x5",
         "y": [
          149,
          146,
          159,
          158,
          147,
          158,
          182,
          212,
          147,
          150,
          143,
          174,
          158,
          192,
          174,
          152,
          192,
          158,
          151,
          147,
          288,
          245,
          160,
          174,
          170,
          174,
          192,
          158,
          185,
          158,
          185,
          158,
          152,
          228,
          147,
          158,
          250,
          158,
          192,
          245,
          192,
          174,
          192,
          158,
          174,
          147,
          158,
          245,
          147,
          245,
          147,
          192
         ],
         "y0": " ",
         "yaxis": "y5"
        },
        {
         "alignmentgroup": "True",
         "hovertemplate": "y=%{y}<extra></extra>",
         "legendgroup": "",
         "marker": {
          "color": "lightseagreen"
         },
         "name": "",
         "notched": false,
         "offsetgroup": "",
         "orientation": "v",
         "showlegend": false,
         "type": "box",
         "x0": " ",
         "xaxis": "x6",
         "y": [
          294,
          132,
          146,
          138,
          132,
          138,
          176,
          99,
          184,
          184,
          129,
          162,
          138,
          192,
          162,
          145,
          192,
          138,
          99,
          184,
          254,
          275,
          184,
          184,
          184,
          206,
          192,
          138,
          178,
          138,
          178,
          138,
          145,
          258,
          184,
          138,
          260,
          184,
          192,
          275,
          192,
          162,
          192,
          138,
          206,
          184,
          138,
          260,
          132,
          275,
          132,
          192
         ],
         "y0": " ",
         "yaxis": "y6"
        },
        {
         "alignmentgroup": "True",
         "hovertemplate": "y=%{y}<extra></extra>",
         "legendgroup": "",
         "marker": {
          "color": "lightseagreen"
         },
         "name": "",
         "notched": false,
         "offsetgroup": "",
         "orientation": "v",
         "showlegend": false,
         "type": "box",
         "x0": " ",
         "xaxis": "x7",
         "y": [
          1.5,
          2,
          2,
          1.5,
          2,
          2,
          2.5,
          1.5,
          1.4,
          1.4,
          1.8,
          1.5,
          2,
          1.5,
          1.5,
          2,
          1.5,
          2,
          1.5,
          1.4,
          3.5,
          2,
          1.5,
          2,
          1.8,
          2,
          1.5,
          2,
          2.4,
          2,
          2.4,
          2,
          2,
          2,
          1.4,
          2,
          2,
          1.4,
          1.5,
          2,
          1.5,
          1.5,
          1.5,
          2,
          2,
          1.4,
          2,
          2,
          2,
          2,
          2,
          1.5
         ],
         "y0": " ",
         "yaxis": "y7"
        },
        {
         "alignmentgroup": "True",
         "hovertemplate": "y=%{y}<extra></extra>",
         "legendgroup": "",
         "marker": {
          "color": "lightseagreen"
         },
         "name": "",
         "notched": false,
         "offsetgroup": "",
         "orientation": "v",
         "showlegend": false,
         "type": "box",
         "x0": " ",
         "xaxis": "x8",
         "y": [
          8.9,
          14,
          12.4,
          12.4,
          14,
          12.4,
          18.5,
          7,
          13.2,
          14.5,
          13.2,
          12.4,
          12.4,
          14.8,
          12.4,
          13.2,
          14.8,
          12.4,
          10.6,
          13.2,
          19,
          18,
          15.8,
          18.5,
          18.5,
          18.5,
          14.8,
          12.4,
          18.5,
          12.4,
          18.5,
          12.4,
          13.2,
          13.2,
          13.2,
          12.4,
          15.8,
          13.2,
          14.8,
          16.5,
          14.8,
          12.4,
          14.8,
          12.4,
          18.5,
          13.2,
          12.4,
          18.5,
          14,
          14,
          14,
          14.8
         ],
         "y0": " ",
         "yaxis": "y8"
        },
        {
         "alignmentgroup": "True",
         "hovertemplate": "y=%{y}<extra></extra>",
         "legendgroup": "",
         "marker": {
          "color": "lightseagreen"
         },
         "name": "",
         "notched": false,
         "offsetgroup": "",
         "orientation": "v",
         "showlegend": false,
         "type": "box",
         "x0": " ",
         "xaxis": "x9",
         "y": [
          4,
          4,
          4,
          4,
          4,
          4,
          4,
          4,
          4,
          4,
          4,
          4,
          4,
          4,
          4,
          4,
          4,
          4,
          4,
          4,
          6,
          4,
          4,
          4,
          4,
          4,
          4,
          4,
          4,
          4,
          4,
          4,
          4,
          4,
          4,
          4,
          4,
          4,
          4,
          4,
          4,
          4,
          4,
          4,
          4,
          4,
          4,
          4,
          4,
          4,
          4,
          4
         ],
         "y0": " ",
         "yaxis": "y9"
        },
        {
         "alignmentgroup": "True",
         "hovertemplate": "y=%{y}<extra></extra>",
         "legendgroup": "",
         "marker": {
          "color": "lightseagreen"
         },
         "name": "",
         "notched": false,
         "offsetgroup": "",
         "orientation": "v",
         "showlegend": false,
         "type": "box",
         "x0": " ",
         "xaxis": "x10",
         "y": [
          3,
          2,
          3,
          2,
          3,
          2,
          1,
          1,
          1,
          2,
          1,
          1,
          1,
          1,
          1,
          1,
          1,
          1,
          2,
          1,
          3,
          1,
          1,
          2,
          2,
          1,
          1,
          1,
          1,
          2,
          1,
          1,
          2,
          1,
          1,
          1,
          1,
          1,
          1,
          1,
          2,
          1,
          1,
          1,
          1,
          1,
          1,
          1,
          1,
          1,
          1,
          1
         ],
         "y0": " ",
         "yaxis": "y10"
        },
        {
         "alignmentgroup": "True",
         "hovertemplate": "y=%{y}<extra></extra>",
         "legendgroup": "",
         "marker": {
          "color": "lightseagreen"
         },
         "name": "",
         "notched": false,
         "offsetgroup": "",
         "orientation": "v",
         "showlegend": false,
         "type": "box",
         "x0": " ",
         "xaxis": "x11",
         "y": [
          25655,
          15590,
          13590,
          20590,
          16787,
          18277,
          33777,
          26999,
          22491,
          17500,
          19450,
          22688,
          22988,
          26988,
          24498,
          22360,
          26788,
          22899,
          21998,
          17880,
          22993,
          20900,
          18949,
          19795,
          15795,
          24498,
          26788,
          19998,
          17993,
          21994,
          25491,
          22995,
          22388,
          25460,
          19877,
          19998,
          23570,
          18999,
          25991,
          19795,
          22991,
          22476,
          21988,
          22988,
          22999,
          21680,
          17488,
          22493,
          21999,
          21591,
          19542,
          19403
         ],
         "y0": " ",
         "yaxis": "y11"
        },
        {
         "alignmentgroup": "True",
         "hovertemplate": "y=%{y}<extra></extra>",
         "legendgroup": "",
         "marker": {
          "color": "lightseagreen"
         },
         "name": "",
         "notched": false,
         "offsetgroup": "",
         "orientation": "v",
         "showlegend": false,
         "type": "box",
         "x0": " ",
         "xaxis": "x12",
         "y": [
          2,
          2,
          2,
          2,
          2,
          2,
          4,
          2,
          2,
          2,
          2,
          2,
          2,
          2,
          2,
          2,
          2,
          2,
          2,
          2,
          4,
          4,
          2,
          2,
          2,
          2,
          2,
          2,
          2,
          2,
          2,
          2,
          4,
          2,
          2,
          2,
          2,
          2,
          2,
          2,
          2,
          2,
          2,
          2,
          2,
          2,
          2,
          2,
          2,
          2,
          2,
          2
         ],
         "y0": " ",
         "yaxis": "y12"
        },
        {
         "alignmentgroup": "True",
         "hovertemplate": "y=%{y}<extra></extra>",
         "legendgroup": "",
         "marker": {
          "color": "lightseagreen"
         },
         "name": "",
         "notched": false,
         "offsetgroup": "",
         "orientation": "v",
         "showlegend": false,
         "type": "box",
         "x0": " ",
         "xaxis": "x13",
         "y": [
          6,
          6,
          6,
          6,
          6,
          6,
          6,
          6,
          8,
          6,
          6,
          6,
          6,
          6,
          6,
          6,
          6,
          6,
          6,
          8,
          6,
          6,
          6,
          6,
          6,
          6,
          6,
          6,
          6,
          6,
          6,
          6,
          6,
          7,
          8,
          6,
          9,
          8,
          6,
          6,
          6,
          6,
          6,
          6,
          6,
          8,
          6,
          8,
          6,
          6,
          6,
          6
         ],
         "y0": " ",
         "yaxis": "y13"
        },
        {
         "alignmentgroup": "True",
         "hovertemplate": "y=%{y}<extra></extra>",
         "legendgroup": "",
         "marker": {
          "color": "lightseagreen"
         },
         "name": "",
         "notched": false,
         "offsetgroup": "",
         "orientation": "v",
         "showlegend": false,
         "type": "box",
         "x0": " ",
         "xaxis": "x14",
         "y": [
          37.8,
          39,
          38.3,
          37.5,
          39,
          37.5,
          39.4,
          39.1,
          38.5,
          38.2,
          37.9,
          37.5,
          37.5,
          37.5,
          37.5,
          39.8,
          37.5,
          39.3,
          39.3,
          38.5,
          39,
          39.2,
          39.1,
          38.3,
          38.3,
          38.3,
          37.5,
          39.3,
          40.4,
          37.5,
          40.4,
          37.5,
          39.8,
          38.5,
          38.5,
          39.3,
          39.1,
          38.5,
          37.5,
          39.2,
          37.5,
          37.5,
          39.5,
          39.3,
          38.3,
          38.5,
          39.3,
          40.4,
          40.3,
          39.2,
          40.3,
          39.5
         ],
         "y0": " ",
         "yaxis": "y14"
        },
        {
         "alignmentgroup": "True",
         "hovertemplate": "y=%{y}<extra></extra>",
         "legendgroup": "",
         "marker": {
          "color": "lightseagreen"
         },
         "name": "",
         "notched": false,
         "offsetgroup": "",
         "orientation": "v",
         "showlegend": false,
         "type": "box",
         "x0": " ",
         "xaxis": "x15",
         "y": [
          42.1,
          42.2,
          43.7,
          42.3,
          42.2,
          42.3,
          42.8,
          42.2,
          41.1,
          41.2,
          42,
          42.3,
          42.3,
          42.3,
          42.3,
          43.1,
          42.3,
          42.3,
          42.3,
          41.1,
          41.9,
          44.3,
          41.5,
          42.4,
          42.4,
          42.4,
          42.3,
          42.3,
          45.5,
          42.3,
          45.5,
          42.3,
          43.1,
          41.1,
          41.1,
          42.3,
          42,
          41.1,
          42.3,
          44.3,
          42.3,
          42.3,
          42.3,
          42.3,
          42.4,
          41.1,
          42.3,
          45.5,
          42.2,
          44.3,
          42.2,
          42.3
         ],
         "y0": " ",
         "yaxis": "y15"
        },
        {
         "alignmentgroup": "True",
         "hovertemplate": "y=%{y}<extra></extra>",
         "legendgroup": "",
         "marker": {
          "color": "lightseagreen"
         },
         "name": "",
         "notched": false,
         "offsetgroup": "",
         "orientation": "v",
         "showlegend": false,
         "type": "box",
         "x0": " ",
         "xaxis": "x16",
         "y": [
          35.8,
          37,
          38,
          36.8,
          37,
          36.8,
          37.2,
          37.1,
          37.2,
          37.1,
          36.2,
          36.8,
          36.8,
          37.2,
          36.8,
          37.2,
          37.2,
          37.1,
          36.9,
          37.2,
          37.8,
          37.8,
          37.5,
          37.8,
          37.8,
          37.8,
          37.2,
          37.1,
          38,
          36.8,
          38,
          36.8,
          37.2,
          37.2,
          37.2,
          37.1,
          37.5,
          37.2,
          37.2,
          37.8,
          37.2,
          36.8,
          37.3,
          37.1,
          37.8,
          37.2,
          37.1,
          38,
          37.3,
          37.8,
          37.3,
          37.3
         ],
         "y0": " ",
         "yaxis": "y16"
        },
        {
         "alignmentgroup": "True",
         "hovertemplate": "y=%{y}<extra></extra>",
         "legendgroup": "",
         "marker": {
          "color": "lightseagreen"
         },
         "name": "",
         "notched": false,
         "offsetgroup": "",
         "orientation": "v",
         "showlegend": false,
         "type": "box",
         "x0": " ",
         "xaxis": "x17",
         "y": [
          34.7,
          35.7,
          33.2,
          37.4,
          35.7,
          37.4,
          39.5,
          36.2,
          37.4,
          38.1,
          36.2,
          37.4,
          37.4,
          40.4,
          37.4,
          36.5,
          40.4,
          37.4,
          37.4,
          37.4,
          38.1,
          38.3,
          38.1,
          39.1,
          39.1,
          39.1,
          40.4,
          37.4,
          35.6,
          37.4,
          35.6,
          37.4,
          36.5,
          37.4,
          37.4,
          37.4,
          38.1,
          37.4,
          40.4,
          38.3,
          40.4,
          37.4,
          40.4,
          37.4,
          39.1,
          37.4,
          37.4,
          35.6,
          35.7,
          38.3,
          35.7,
          40.4
         ],
         "y0": " ",
         "yaxis": "y17"
        },
        {
         "alignmentgroup": "True",
         "hovertemplate": "y=%{y}<extra></extra>",
         "legendgroup": "",
         "marker": {
          "color": "lightseagreen"
         },
         "name": "",
         "notched": false,
         "offsetgroup": "",
         "orientation": "v",
         "showlegend": false,
         "type": "box",
         "x0": " ",
         "xaxis": "x18",
         "y": [
          4,
          16,
          13,
          26,
          5,
          13,
          6,
          2,
          6,
          13,
          15,
          4,
          9,
          4,
          5,
          4,
          4,
          4,
          5,
          8,
          1,
          8,
          15,
          11,
          5,
          11,
          4,
          4,
          4,
          4,
          6,
          2,
          7,
          5,
          6,
          4,
          7,
          4,
          8,
          7,
          14,
          13,
          1,
          1,
          10,
          5,
          5,
          10,
          6,
          11,
          7,
          9
         ],
         "y0": " ",
         "yaxis": "y18"
        }
       ],
       "layout": {
        "annotations": [
         {
          "font": {
           "size": 16
          },
          "showarrow": false,
          "text": "year",
          "x": 0.08399999999999999,
          "xanchor": "center",
          "xref": "paper",
          "y": 1,
          "yanchor": "bottom",
          "yref": "paper"
         },
         {
          "font": {
           "size": 16
          },
          "showarrow": false,
          "text": "miles",
          "x": 0.292,
          "xanchor": "center",
          "xref": "paper",
          "y": 1,
          "yanchor": "bottom",
          "yref": "paper"
         },
         {
          "font": {
           "size": 16
          },
          "showarrow": false,
          "text": "city_mileage",
          "x": 0.5,
          "xanchor": "center",
          "xref": "paper",
          "y": 1,
          "yanchor": "bottom",
          "yref": "paper"
         },
         {
          "font": {
           "size": 16
          },
          "showarrow": false,
          "text": "highway_mileage",
          "x": 0.708,
          "xanchor": "center",
          "xref": "paper",
          "y": 1,
          "yanchor": "bottom",
          "yref": "paper"
         },
         {
          "font": {
           "size": 16
          },
          "showarrow": false,
          "text": "horsepower",
          "x": 0.9159999999999999,
          "xanchor": "center",
          "xref": "paper",
          "y": 1,
          "yanchor": "bottom",
          "yref": "paper"
         },
         {
          "font": {
           "size": 16
          },
          "showarrow": false,
          "text": "torque",
          "x": 0.08399999999999999,
          "xanchor": "center",
          "xref": "paper",
          "y": 0.71875,
          "yanchor": "bottom",
          "yref": "paper"
         },
         {
          "font": {
           "size": 16
          },
          "showarrow": false,
          "text": "engine_capacity_litre",
          "x": 0.292,
          "xanchor": "center",
          "xref": "paper",
          "y": 0.71875,
          "yanchor": "bottom",
          "yref": "paper"
         },
         {
          "font": {
           "size": 16
          },
          "showarrow": false,
          "text": "fuel_capacity",
          "x": 0.5,
          "xanchor": "center",
          "xref": "paper",
          "y": 0.71875,
          "yanchor": "bottom",
          "yref": "paper"
         },
         {
          "font": {
           "size": 16
          },
          "showarrow": false,
          "text": "num_cylinder",
          "x": 0.708,
          "xanchor": "center",
          "xref": "paper",
          "y": 0.71875,
          "yanchor": "bottom",
          "yref": "paper"
         },
         {
          "font": {
           "size": 16
          },
          "showarrow": false,
          "text": "num_owners",
          "x": 0.9159999999999999,
          "xanchor": "center",
          "xref": "paper",
          "y": 0.71875,
          "yanchor": "bottom",
          "yref": "paper"
         },
         {
          "font": {
           "size": 16
          },
          "showarrow": false,
          "text": "price",
          "x": 0.08399999999999999,
          "xanchor": "center",
          "xref": "paper",
          "y": 0.4375,
          "yanchor": "bottom",
          "yref": "paper"
         },
         {
          "font": {
           "size": 16
          },
          "showarrow": false,
          "text": "wheel_drive",
          "x": 0.292,
          "xanchor": "center",
          "xref": "paper",
          "y": 0.4375,
          "yanchor": "bottom",
          "yref": "paper"
         },
         {
          "font": {
           "size": 16
          },
          "showarrow": false,
          "text": "speed_levels",
          "x": 0.5,
          "xanchor": "center",
          "xref": "paper",
          "y": 0.4375,
          "yanchor": "bottom",
          "yref": "paper"
         },
         {
          "font": {
           "size": 16
          },
          "showarrow": false,
          "text": "front_headroom",
          "x": 0.708,
          "xanchor": "center",
          "xref": "paper",
          "y": 0.4375,
          "yanchor": "bottom",
          "yref": "paper"
         },
         {
          "font": {
           "size": 16
          },
          "showarrow": false,
          "text": "front_legroom",
          "x": 0.9159999999999999,
          "xanchor": "center",
          "xref": "paper",
          "y": 0.4375,
          "yanchor": "bottom",
          "yref": "paper"
         },
         {
          "font": {
           "size": 16
          },
          "showarrow": false,
          "text": "rear_headroom",
          "x": 0.08399999999999999,
          "xanchor": "center",
          "xref": "paper",
          "y": 0.15625,
          "yanchor": "bottom",
          "yref": "paper"
         },
         {
          "font": {
           "size": 16
          },
          "showarrow": false,
          "text": "rear_legroom",
          "x": 0.292,
          "xanchor": "center",
          "xref": "paper",
          "y": 0.15625,
          "yanchor": "bottom",
          "yref": "paper"
         },
         {
          "font": {
           "size": 16
          },
          "showarrow": false,
          "text": "service_records",
          "x": 0.5,
          "xanchor": "center",
          "xref": "paper",
          "y": 0.15625,
          "yanchor": "bottom",
          "yref": "paper"
         }
        ],
        "height": 800,
        "margin": {
         "b": 10,
         "l": 10,
         "r": 10,
         "t": 50
        },
        "showlegend": false,
        "template": {
         "data": {
          "bar": [
           {
            "error_x": {
             "color": "#2a3f5f"
            },
            "error_y": {
             "color": "#2a3f5f"
            },
            "marker": {
             "line": {
              "color": "#E5ECF6",
              "width": 0.5
             },
             "pattern": {
              "fillmode": "overlay",
              "size": 10,
              "solidity": 0.2
             }
            },
            "type": "bar"
           }
          ],
          "barpolar": [
           {
            "marker": {
             "line": {
              "color": "#E5ECF6",
              "width": 0.5
             },
             "pattern": {
              "fillmode": "overlay",
              "size": 10,
              "solidity": 0.2
             }
            },
            "type": "barpolar"
           }
          ],
          "carpet": [
           {
            "aaxis": {
             "endlinecolor": "#2a3f5f",
             "gridcolor": "white",
             "linecolor": "white",
             "minorgridcolor": "white",
             "startlinecolor": "#2a3f5f"
            },
            "baxis": {
             "endlinecolor": "#2a3f5f",
             "gridcolor": "white",
             "linecolor": "white",
             "minorgridcolor": "white",
             "startlinecolor": "#2a3f5f"
            },
            "type": "carpet"
           }
          ],
          "choropleth": [
           {
            "colorbar": {
             "outlinewidth": 0,
             "ticks": ""
            },
            "type": "choropleth"
           }
          ],
          "contour": [
           {
            "colorbar": {
             "outlinewidth": 0,
             "ticks": ""
            },
            "colorscale": [
             [
              0,
              "#0d0887"
             ],
             [
              0.1111111111111111,
              "#46039f"
             ],
             [
              0.2222222222222222,
              "#7201a8"
             ],
             [
              0.3333333333333333,
              "#9c179e"
             ],
             [
              0.4444444444444444,
              "#bd3786"
             ],
             [
              0.5555555555555556,
              "#d8576b"
             ],
             [
              0.6666666666666666,
              "#ed7953"
             ],
             [
              0.7777777777777778,
              "#fb9f3a"
             ],
             [
              0.8888888888888888,
              "#fdca26"
             ],
             [
              1,
              "#f0f921"
             ]
            ],
            "type": "contour"
           }
          ],
          "contourcarpet": [
           {
            "colorbar": {
             "outlinewidth": 0,
             "ticks": ""
            },
            "type": "contourcarpet"
           }
          ],
          "heatmap": [
           {
            "colorbar": {
             "outlinewidth": 0,
             "ticks": ""
            },
            "colorscale": [
             [
              0,
              "#0d0887"
             ],
             [
              0.1111111111111111,
              "#46039f"
             ],
             [
              0.2222222222222222,
              "#7201a8"
             ],
             [
              0.3333333333333333,
              "#9c179e"
             ],
             [
              0.4444444444444444,
              "#bd3786"
             ],
             [
              0.5555555555555556,
              "#d8576b"
             ],
             [
              0.6666666666666666,
              "#ed7953"
             ],
             [
              0.7777777777777778,
              "#fb9f3a"
             ],
             [
              0.8888888888888888,
              "#fdca26"
             ],
             [
              1,
              "#f0f921"
             ]
            ],
            "type": "heatmap"
           }
          ],
          "heatmapgl": [
           {
            "colorbar": {
             "outlinewidth": 0,
             "ticks": ""
            },
            "colorscale": [
             [
              0,
              "#0d0887"
             ],
             [
              0.1111111111111111,
              "#46039f"
             ],
             [
              0.2222222222222222,
              "#7201a8"
             ],
             [
              0.3333333333333333,
              "#9c179e"
             ],
             [
              0.4444444444444444,
              "#bd3786"
             ],
             [
              0.5555555555555556,
              "#d8576b"
             ],
             [
              0.6666666666666666,
              "#ed7953"
             ],
             [
              0.7777777777777778,
              "#fb9f3a"
             ],
             [
              0.8888888888888888,
              "#fdca26"
             ],
             [
              1,
              "#f0f921"
             ]
            ],
            "type": "heatmapgl"
           }
          ],
          "histogram": [
           {
            "marker": {
             "pattern": {
              "fillmode": "overlay",
              "size": 10,
              "solidity": 0.2
             }
            },
            "type": "histogram"
           }
          ],
          "histogram2d": [
           {
            "colorbar": {
             "outlinewidth": 0,
             "ticks": ""
            },
            "colorscale": [
             [
              0,
              "#0d0887"
             ],
             [
              0.1111111111111111,
              "#46039f"
             ],
             [
              0.2222222222222222,
              "#7201a8"
             ],
             [
              0.3333333333333333,
              "#9c179e"
             ],
             [
              0.4444444444444444,
              "#bd3786"
             ],
             [
              0.5555555555555556,
              "#d8576b"
             ],
             [
              0.6666666666666666,
              "#ed7953"
             ],
             [
              0.7777777777777778,
              "#fb9f3a"
             ],
             [
              0.8888888888888888,
              "#fdca26"
             ],
             [
              1,
              "#f0f921"
             ]
            ],
            "type": "histogram2d"
           }
          ],
          "histogram2dcontour": [
           {
            "colorbar": {
             "outlinewidth": 0,
             "ticks": ""
            },
            "colorscale": [
             [
              0,
              "#0d0887"
             ],
             [
              0.1111111111111111,
              "#46039f"
             ],
             [
              0.2222222222222222,
              "#7201a8"
             ],
             [
              0.3333333333333333,
              "#9c179e"
             ],
             [
              0.4444444444444444,
              "#bd3786"
             ],
             [
              0.5555555555555556,
              "#d8576b"
             ],
             [
              0.6666666666666666,
              "#ed7953"
             ],
             [
              0.7777777777777778,
              "#fb9f3a"
             ],
             [
              0.8888888888888888,
              "#fdca26"
             ],
             [
              1,
              "#f0f921"
             ]
            ],
            "type": "histogram2dcontour"
           }
          ],
          "mesh3d": [
           {
            "colorbar": {
             "outlinewidth": 0,
             "ticks": ""
            },
            "type": "mesh3d"
           }
          ],
          "parcoords": [
           {
            "line": {
             "colorbar": {
              "outlinewidth": 0,
              "ticks": ""
             }
            },
            "type": "parcoords"
           }
          ],
          "pie": [
           {
            "automargin": true,
            "type": "pie"
           }
          ],
          "scatter": [
           {
            "fillpattern": {
             "fillmode": "overlay",
             "size": 10,
             "solidity": 0.2
            },
            "type": "scatter"
           }
          ],
          "scatter3d": [
           {
            "line": {
             "colorbar": {
              "outlinewidth": 0,
              "ticks": ""
             }
            },
            "marker": {
             "colorbar": {
              "outlinewidth": 0,
              "ticks": ""
             }
            },
            "type": "scatter3d"
           }
          ],
          "scattercarpet": [
           {
            "marker": {
             "colorbar": {
              "outlinewidth": 0,
              "ticks": ""
             }
            },
            "type": "scattercarpet"
           }
          ],
          "scattergeo": [
           {
            "marker": {
             "colorbar": {
              "outlinewidth": 0,
              "ticks": ""
             }
            },
            "type": "scattergeo"
           }
          ],
          "scattergl": [
           {
            "marker": {
             "colorbar": {
              "outlinewidth": 0,
              "ticks": ""
             }
            },
            "type": "scattergl"
           }
          ],
          "scattermapbox": [
           {
            "marker": {
             "colorbar": {
              "outlinewidth": 0,
              "ticks": ""
             }
            },
            "type": "scattermapbox"
           }
          ],
          "scatterpolar": [
           {
            "marker": {
             "colorbar": {
              "outlinewidth": 0,
              "ticks": ""
             }
            },
            "type": "scatterpolar"
           }
          ],
          "scatterpolargl": [
           {
            "marker": {
             "colorbar": {
              "outlinewidth": 0,
              "ticks": ""
             }
            },
            "type": "scatterpolargl"
           }
          ],
          "scatterternary": [
           {
            "marker": {
             "colorbar": {
              "outlinewidth": 0,
              "ticks": ""
             }
            },
            "type": "scatterternary"
           }
          ],
          "surface": [
           {
            "colorbar": {
             "outlinewidth": 0,
             "ticks": ""
            },
            "colorscale": [
             [
              0,
              "#0d0887"
             ],
             [
              0.1111111111111111,
              "#46039f"
             ],
             [
              0.2222222222222222,
              "#7201a8"
             ],
             [
              0.3333333333333333,
              "#9c179e"
             ],
             [
              0.4444444444444444,
              "#bd3786"
             ],
             [
              0.5555555555555556,
              "#d8576b"
             ],
             [
              0.6666666666666666,
              "#ed7953"
             ],
             [
              0.7777777777777778,
              "#fb9f3a"
             ],
             [
              0.8888888888888888,
              "#fdca26"
             ],
             [
              1,
              "#f0f921"
             ]
            ],
            "type": "surface"
           }
          ],
          "table": [
           {
            "cells": {
             "fill": {
              "color": "#EBF0F8"
             },
             "line": {
              "color": "white"
             }
            },
            "header": {
             "fill": {
              "color": "#C8D4E3"
             },
             "line": {
              "color": "white"
             }
            },
            "type": "table"
           }
          ]
         },
         "layout": {
          "annotationdefaults": {
           "arrowcolor": "#2a3f5f",
           "arrowhead": 0,
           "arrowwidth": 1
          },
          "autotypenumbers": "strict",
          "coloraxis": {
           "colorbar": {
            "outlinewidth": 0,
            "ticks": ""
           }
          },
          "colorscale": {
           "diverging": [
            [
             0,
             "#8e0152"
            ],
            [
             0.1,
             "#c51b7d"
            ],
            [
             0.2,
             "#de77ae"
            ],
            [
             0.3,
             "#f1b6da"
            ],
            [
             0.4,
             "#fde0ef"
            ],
            [
             0.5,
             "#f7f7f7"
            ],
            [
             0.6,
             "#e6f5d0"
            ],
            [
             0.7,
             "#b8e186"
            ],
            [
             0.8,
             "#7fbc41"
            ],
            [
             0.9,
             "#4d9221"
            ],
            [
             1,
             "#276419"
            ]
           ],
           "sequential": [
            [
             0,
             "#0d0887"
            ],
            [
             0.1111111111111111,
             "#46039f"
            ],
            [
             0.2222222222222222,
             "#7201a8"
            ],
            [
             0.3333333333333333,
             "#9c179e"
            ],
            [
             0.4444444444444444,
             "#bd3786"
            ],
            [
             0.5555555555555556,
             "#d8576b"
            ],
            [
             0.6666666666666666,
             "#ed7953"
            ],
            [
             0.7777777777777778,
             "#fb9f3a"
            ],
            [
             0.8888888888888888,
             "#fdca26"
            ],
            [
             1,
             "#f0f921"
            ]
           ],
           "sequentialminus": [
            [
             0,
             "#0d0887"
            ],
            [
             0.1111111111111111,
             "#46039f"
            ],
            [
             0.2222222222222222,
             "#7201a8"
            ],
            [
             0.3333333333333333,
             "#9c179e"
            ],
            [
             0.4444444444444444,
             "#bd3786"
            ],
            [
             0.5555555555555556,
             "#d8576b"
            ],
            [
             0.6666666666666666,
             "#ed7953"
            ],
            [
             0.7777777777777778,
             "#fb9f3a"
            ],
            [
             0.8888888888888888,
             "#fdca26"
            ],
            [
             1,
             "#f0f921"
            ]
           ]
          },
          "colorway": [
           "#636efa",
           "#EF553B",
           "#00cc96",
           "#ab63fa",
           "#FFA15A",
           "#19d3f3",
           "#FF6692",
           "#B6E880",
           "#FF97FF",
           "#FECB52"
          ],
          "font": {
           "color": "#2a3f5f"
          },
          "geo": {
           "bgcolor": "white",
           "lakecolor": "white",
           "landcolor": "#E5ECF6",
           "showlakes": true,
           "showland": true,
           "subunitcolor": "white"
          },
          "hoverlabel": {
           "align": "left"
          },
          "hovermode": "closest",
          "mapbox": {
           "style": "light"
          },
          "paper_bgcolor": "white",
          "plot_bgcolor": "#E5ECF6",
          "polar": {
           "angularaxis": {
            "gridcolor": "white",
            "linecolor": "white",
            "ticks": ""
           },
           "bgcolor": "#E5ECF6",
           "radialaxis": {
            "gridcolor": "white",
            "linecolor": "white",
            "ticks": ""
           }
          },
          "scene": {
           "xaxis": {
            "backgroundcolor": "#E5ECF6",
            "gridcolor": "white",
            "gridwidth": 2,
            "linecolor": "white",
            "showbackground": true,
            "ticks": "",
            "zerolinecolor": "white"
           },
           "yaxis": {
            "backgroundcolor": "#E5ECF6",
            "gridcolor": "white",
            "gridwidth": 2,
            "linecolor": "white",
            "showbackground": true,
            "ticks": "",
            "zerolinecolor": "white"
           },
           "zaxis": {
            "backgroundcolor": "#E5ECF6",
            "gridcolor": "white",
            "gridwidth": 2,
            "linecolor": "white",
            "showbackground": true,
            "ticks": "",
            "zerolinecolor": "white"
           }
          },
          "shapedefaults": {
           "line": {
            "color": "#2a3f5f"
           }
          },
          "ternary": {
           "aaxis": {
            "gridcolor": "white",
            "linecolor": "white",
            "ticks": ""
           },
           "baxis": {
            "gridcolor": "white",
            "linecolor": "white",
            "ticks": ""
           },
           "bgcolor": "#E5ECF6",
           "caxis": {
            "gridcolor": "white",
            "linecolor": "white",
            "ticks": ""
           }
          },
          "title": {
           "x": 0.05
          },
          "xaxis": {
           "automargin": true,
           "gridcolor": "white",
           "linecolor": "white",
           "ticks": "",
           "title": {
            "standoff": 15
           },
           "zerolinecolor": "white",
           "zerolinewidth": 2
          },
          "yaxis": {
           "automargin": true,
           "gridcolor": "white",
           "linecolor": "white",
           "ticks": "",
           "title": {
            "standoff": 15
           },
           "zerolinecolor": "white",
           "zerolinewidth": 2
          }
         }
        },
        "title": {
         "text": "Box-plot das variáveis quantitativas da base de dados"
        },
        "width": 950,
        "xaxis": {
         "anchor": "y",
         "domain": [
          0,
          0.16799999999999998
         ]
        },
        "xaxis10": {
         "anchor": "y10",
         "domain": [
          0.832,
          1
         ]
        },
        "xaxis11": {
         "anchor": "y11",
         "domain": [
          0,
          0.16799999999999998
         ]
        },
        "xaxis12": {
         "anchor": "y12",
         "domain": [
          0.208,
          0.376
         ]
        },
        "xaxis13": {
         "anchor": "y13",
         "domain": [
          0.416,
          0.584
         ]
        },
        "xaxis14": {
         "anchor": "y14",
         "domain": [
          0.624,
          0.792
         ]
        },
        "xaxis15": {
         "anchor": "y15",
         "domain": [
          0.832,
          1
         ]
        },
        "xaxis16": {
         "anchor": "y16",
         "domain": [
          0,
          0.16799999999999998
         ]
        },
        "xaxis17": {
         "anchor": "y17",
         "domain": [
          0.208,
          0.376
         ]
        },
        "xaxis18": {
         "anchor": "y18",
         "domain": [
          0.416,
          0.584
         ]
        },
        "xaxis19": {
         "anchor": "y19",
         "domain": [
          0.624,
          0.792
         ]
        },
        "xaxis2": {
         "anchor": "y2",
         "domain": [
          0.208,
          0.376
         ]
        },
        "xaxis20": {
         "anchor": "y20",
         "domain": [
          0.832,
          1
         ]
        },
        "xaxis3": {
         "anchor": "y3",
         "domain": [
          0.416,
          0.584
         ]
        },
        "xaxis4": {
         "anchor": "y4",
         "domain": [
          0.624,
          0.792
         ]
        },
        "xaxis5": {
         "anchor": "y5",
         "domain": [
          0.832,
          1
         ]
        },
        "xaxis6": {
         "anchor": "y6",
         "domain": [
          0,
          0.16799999999999998
         ]
        },
        "xaxis7": {
         "anchor": "y7",
         "domain": [
          0.208,
          0.376
         ]
        },
        "xaxis8": {
         "anchor": "y8",
         "domain": [
          0.416,
          0.584
         ]
        },
        "xaxis9": {
         "anchor": "y9",
         "domain": [
          0.624,
          0.792
         ]
        },
        "yaxis": {
         "anchor": "x",
         "domain": [
          0.84375,
          1
         ]
        },
        "yaxis10": {
         "anchor": "x10",
         "domain": [
          0.5625,
          0.71875
         ]
        },
        "yaxis11": {
         "anchor": "x11",
         "domain": [
          0.28125,
          0.4375
         ]
        },
        "yaxis12": {
         "anchor": "x12",
         "domain": [
          0.28125,
          0.4375
         ]
        },
        "yaxis13": {
         "anchor": "x13",
         "domain": [
          0.28125,
          0.4375
         ]
        },
        "yaxis14": {
         "anchor": "x14",
         "domain": [
          0.28125,
          0.4375
         ]
        },
        "yaxis15": {
         "anchor": "x15",
         "domain": [
          0.28125,
          0.4375
         ]
        },
        "yaxis16": {
         "anchor": "x16",
         "domain": [
          0,
          0.15625
         ]
        },
        "yaxis17": {
         "anchor": "x17",
         "domain": [
          0,
          0.15625
         ]
        },
        "yaxis18": {
         "anchor": "x18",
         "domain": [
          0,
          0.15625
         ]
        },
        "yaxis19": {
         "anchor": "x19",
         "domain": [
          0,
          0.15625
         ]
        },
        "yaxis2": {
         "anchor": "x2",
         "domain": [
          0.84375,
          1
         ]
        },
        "yaxis20": {
         "anchor": "x20",
         "domain": [
          0,
          0.15625
         ]
        },
        "yaxis3": {
         "anchor": "x3",
         "domain": [
          0.84375,
          1
         ]
        },
        "yaxis4": {
         "anchor": "x4",
         "domain": [
          0.84375,
          1
         ]
        },
        "yaxis5": {
         "anchor": "x5",
         "domain": [
          0.84375,
          1
         ]
        },
        "yaxis6": {
         "anchor": "x6",
         "domain": [
          0.5625,
          0.71875
         ]
        },
        "yaxis7": {
         "anchor": "x7",
         "domain": [
          0.5625,
          0.71875
         ]
        },
        "yaxis8": {
         "anchor": "x8",
         "domain": [
          0.5625,
          0.71875
         ]
        },
        "yaxis9": {
         "anchor": "x9",
         "domain": [
          0.5625,
          0.71875
         ]
        }
       }
      }
     },
     "metadata": {},
     "output_type": "display_data"
    }
   ],
   "source": [
    "# Medidas estatísicas para o dataframe\n",
    "def plotly_subplots_box(nrows, ncols, data_frame)-> None:\n",
    "   \n",
    "    columns: list[str] = data_frame.columns.to_list()\n",
    "\n",
    "    fig = make_subplots(rows=nrows, cols=ncols, subplot_titles=columns)\n",
    "    \n",
    "    k=0    \n",
    "    # Add a box plot for each column\n",
    "    for i in range(nrows):        \n",
    "        for j in range(ncols):\n",
    "            if k < len(columns):\n",
    "                fig.add_trace(go.Box(px.box(y=data_frame[columns[k]], orientation='v',\n",
    "                                    color_discrete_sequence=['lightseagreen']).data[0]),\n",
    "                            row=i+1, col=j+1)\n",
    "                k+=1\n",
    "            else:\n",
    "                break\n",
    "            \n",
    "\n",
    "        \n",
    "\n",
    "    # Update the layout\n",
    "    fig.update_layout(height=800, width=950,\n",
    "                      showlegend=False, \n",
    "                      margin=dict(t=50, l=10, r=10, b=10),\n",
    "                      title_text=\"Box-plot das variáveis quantitativas da base de dados\")\n",
    "\n",
    "    fig.show()\n",
    "\n",
    "plotly_subplots_box(4, 5, data_quanti)"
   ]
  },
  {
   "cell_type": "code",
   "execution_count": null,
   "metadata": {},
   "outputs": [],
   "source": [
    "\n"
   ]
  }
 ],
 "metadata": {
  "kernelspec": {
   "display_name": "desafio-fase02-aula05-vZ66TYyy-py3.12",
   "language": "python",
   "name": "python3"
  },
  "language_info": {
   "codemirror_mode": {
    "name": "ipython",
    "version": 3
   },
   "file_extension": ".py",
   "mimetype": "text/x-python",
   "name": "python",
   "nbconvert_exporter": "python",
   "pygments_lexer": "ipython3",
   "version": "3.12.2"
  }
 },
 "nbformat": 4,
 "nbformat_minor": 2
}
